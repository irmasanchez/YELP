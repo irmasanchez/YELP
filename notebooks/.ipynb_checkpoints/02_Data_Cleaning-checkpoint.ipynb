{
 "cells": [
  {
   "cell_type": "markdown",
   "metadata": {},
   "source": [
    "## DATA CLEANING"
   ]
  },
  {
   "cell_type": "markdown",
   "metadata": {},
   "source": [
    "**Adriana de Vicente**\n",
    "\n",
    "\n",
    "**Irma Sánchez**"
   ]
  },
  {
   "cell_type": "markdown",
   "metadata": {},
   "source": [
    "In this notebook we make some changes on our dataset for the proceed to make the prediction model"
   ]
  },
  {
   "cell_type": "markdown",
   "metadata": {},
   "source": [
    "# Import packages"
   ]
  },
  {
   "cell_type": "code",
   "execution_count": 1,
   "metadata": {
    "ExecuteTime": {
     "end_time": "2019-09-29T21:31:13.762500Z",
     "start_time": "2019-09-29T21:31:13.096046Z"
    }
   },
   "outputs": [],
   "source": [
    "import warnings\n",
    "warnings.filterwarnings('ignore')\n",
    "from copy import deepcopy\n",
    "import pickle\n",
    "import pandas as pd\n",
    "import numpy as np"
   ]
  },
  {
   "cell_type": "markdown",
   "metadata": {},
   "source": [
    "# Load business data"
   ]
  },
  {
   "cell_type": "code",
   "execution_count": 2,
   "metadata": {
    "ExecuteTime": {
     "end_time": "2019-09-29T21:31:14.276371Z",
     "start_time": "2019-09-29T21:31:13.829102Z"
    }
   },
   "outputs": [
    {
     "data": {
      "text/html": [
       "<div>\n",
       "<style scoped>\n",
       "    .dataframe tbody tr th:only-of-type {\n",
       "        vertical-align: middle;\n",
       "    }\n",
       "\n",
       "    .dataframe tbody tr th {\n",
       "        vertical-align: top;\n",
       "    }\n",
       "\n",
       "    .dataframe thead th {\n",
       "        text-align: right;\n",
       "    }\n",
       "</style>\n",
       "<table border=\"1\" class=\"dataframe\">\n",
       "  <thead>\n",
       "    <tr style=\"text-align: right;\">\n",
       "      <th></th>\n",
       "      <th>business_id</th>\n",
       "      <th>business_name</th>\n",
       "      <th>city</th>\n",
       "      <th>US_state</th>\n",
       "      <th>latitude</th>\n",
       "      <th>longitude</th>\n",
       "      <th>average_stars_per_business</th>\n",
       "      <th>review_count_per_business</th>\n",
       "      <th>business_status</th>\n",
       "      <th>categories</th>\n",
       "      <th>...</th>\n",
       "      <th>meal_brunch</th>\n",
       "      <th>meal_dessert</th>\n",
       "      <th>meal_dinner</th>\n",
       "      <th>meal_latenight</th>\n",
       "      <th>meal_lunch</th>\n",
       "      <th>parking_garage</th>\n",
       "      <th>parking_lot</th>\n",
       "      <th>parking_street</th>\n",
       "      <th>parking_valet</th>\n",
       "      <th>parking_validated</th>\n",
       "    </tr>\n",
       "  </thead>\n",
       "  <tbody>\n",
       "    <tr>\n",
       "      <th>0</th>\n",
       "      <td>Pns2l4eNsfO8kk83dixA6A</td>\n",
       "      <td>Abby Rappoport, LAC, CMQ</td>\n",
       "      <td>Santa Barbara</td>\n",
       "      <td>CA</td>\n",
       "      <td>34.426679</td>\n",
       "      <td>-119.711197</td>\n",
       "      <td>5.0</td>\n",
       "      <td>7</td>\n",
       "      <td>0</td>\n",
       "      <td>Doctors, Traditional Chinese Medicine, Naturop...</td>\n",
       "      <td>...</td>\n",
       "      <td>0.0</td>\n",
       "      <td>0.0</td>\n",
       "      <td>0.0</td>\n",
       "      <td>0.0</td>\n",
       "      <td>0.0</td>\n",
       "      <td>0.0</td>\n",
       "      <td>0.0</td>\n",
       "      <td>0.0</td>\n",
       "      <td>0.0</td>\n",
       "      <td>0.0</td>\n",
       "    </tr>\n",
       "    <tr>\n",
       "      <th>1</th>\n",
       "      <td>mpf3x-BjTdTEA3yCZrAYPw</td>\n",
       "      <td>The UPS Store</td>\n",
       "      <td>Affton</td>\n",
       "      <td>MO</td>\n",
       "      <td>38.551126</td>\n",
       "      <td>-90.335695</td>\n",
       "      <td>3.0</td>\n",
       "      <td>15</td>\n",
       "      <td>1</td>\n",
       "      <td>Shipping Centers, Local Services, Notaries, Ma...</td>\n",
       "      <td>...</td>\n",
       "      <td>0.0</td>\n",
       "      <td>0.0</td>\n",
       "      <td>0.0</td>\n",
       "      <td>0.0</td>\n",
       "      <td>0.0</td>\n",
       "      <td>0.0</td>\n",
       "      <td>0.0</td>\n",
       "      <td>0.0</td>\n",
       "      <td>0.0</td>\n",
       "      <td>0.0</td>\n",
       "    </tr>\n",
       "    <tr>\n",
       "      <th>2</th>\n",
       "      <td>tUFrWirKiKi_TAnsVWINQQ</td>\n",
       "      <td>Target</td>\n",
       "      <td>Tucson</td>\n",
       "      <td>AZ</td>\n",
       "      <td>32.223236</td>\n",
       "      <td>-110.880452</td>\n",
       "      <td>3.5</td>\n",
       "      <td>22</td>\n",
       "      <td>0</td>\n",
       "      <td>Department Stores, Shopping, Fashion, Home &amp; G...</td>\n",
       "      <td>...</td>\n",
       "      <td>0.0</td>\n",
       "      <td>0.0</td>\n",
       "      <td>0.0</td>\n",
       "      <td>0.0</td>\n",
       "      <td>0.0</td>\n",
       "      <td>0.0</td>\n",
       "      <td>0.0</td>\n",
       "      <td>0.0</td>\n",
       "      <td>0.0</td>\n",
       "      <td>0.0</td>\n",
       "    </tr>\n",
       "    <tr>\n",
       "      <th>3</th>\n",
       "      <td>MTSW4McQd7CbVtyjqoe9mw</td>\n",
       "      <td>St Honore Pastries</td>\n",
       "      <td>Philadelphia</td>\n",
       "      <td>PA</td>\n",
       "      <td>39.955505</td>\n",
       "      <td>-75.155564</td>\n",
       "      <td>4.0</td>\n",
       "      <td>80</td>\n",
       "      <td>1</td>\n",
       "      <td>Restaurants, Food, Bubble Tea, Coffee &amp; Tea, B...</td>\n",
       "      <td>...</td>\n",
       "      <td>0.0</td>\n",
       "      <td>0.0</td>\n",
       "      <td>0.0</td>\n",
       "      <td>0.0</td>\n",
       "      <td>0.0</td>\n",
       "      <td>0.0</td>\n",
       "      <td>0.0</td>\n",
       "      <td>0.0</td>\n",
       "      <td>0.0</td>\n",
       "      <td>0.0</td>\n",
       "    </tr>\n",
       "    <tr>\n",
       "      <th>4</th>\n",
       "      <td>mWMc6_wTdE0EUBKIGXDVfA</td>\n",
       "      <td>Perkiomen Valley Brewery</td>\n",
       "      <td>Green Lane</td>\n",
       "      <td>PA</td>\n",
       "      <td>40.338183</td>\n",
       "      <td>-75.471659</td>\n",
       "      <td>4.5</td>\n",
       "      <td>13</td>\n",
       "      <td>1</td>\n",
       "      <td>Brewpubs, Breweries, Food</td>\n",
       "      <td>...</td>\n",
       "      <td>0.0</td>\n",
       "      <td>0.0</td>\n",
       "      <td>0.0</td>\n",
       "      <td>0.0</td>\n",
       "      <td>0.0</td>\n",
       "      <td>0.0</td>\n",
       "      <td>0.0</td>\n",
       "      <td>0.0</td>\n",
       "      <td>0.0</td>\n",
       "      <td>0.0</td>\n",
       "    </tr>\n",
       "  </tbody>\n",
       "</table>\n",
       "<p>5 rows × 104 columns</p>\n",
       "</div>"
      ],
      "text/plain": [
       "              business_id             business_name           city US_state  \\\n",
       "0  Pns2l4eNsfO8kk83dixA6A  Abby Rappoport, LAC, CMQ  Santa Barbara       CA   \n",
       "1  mpf3x-BjTdTEA3yCZrAYPw             The UPS Store         Affton       MO   \n",
       "2  tUFrWirKiKi_TAnsVWINQQ                    Target         Tucson       AZ   \n",
       "3  MTSW4McQd7CbVtyjqoe9mw        St Honore Pastries   Philadelphia       PA   \n",
       "4  mWMc6_wTdE0EUBKIGXDVfA  Perkiomen Valley Brewery     Green Lane       PA   \n",
       "\n",
       "    latitude   longitude  average_stars_per_business  \\\n",
       "0  34.426679 -119.711197                         5.0   \n",
       "1  38.551126  -90.335695                         3.0   \n",
       "2  32.223236 -110.880452                         3.5   \n",
       "3  39.955505  -75.155564                         4.0   \n",
       "4  40.338183  -75.471659                         4.5   \n",
       "\n",
       "   review_count_per_business  business_status  \\\n",
       "0                          7                0   \n",
       "1                         15                1   \n",
       "2                         22                0   \n",
       "3                         80                1   \n",
       "4                         13                1   \n",
       "\n",
       "                                          categories  ...  meal_brunch  \\\n",
       "0  Doctors, Traditional Chinese Medicine, Naturop...  ...          0.0   \n",
       "1  Shipping Centers, Local Services, Notaries, Ma...  ...          0.0   \n",
       "2  Department Stores, Shopping, Fashion, Home & G...  ...          0.0   \n",
       "3  Restaurants, Food, Bubble Tea, Coffee & Tea, B...  ...          0.0   \n",
       "4                          Brewpubs, Breweries, Food  ...          0.0   \n",
       "\n",
       "   meal_dessert  meal_dinner  meal_latenight  meal_lunch  parking_garage  \\\n",
       "0           0.0          0.0             0.0         0.0             0.0   \n",
       "1           0.0          0.0             0.0         0.0             0.0   \n",
       "2           0.0          0.0             0.0         0.0             0.0   \n",
       "3           0.0          0.0             0.0         0.0             0.0   \n",
       "4           0.0          0.0             0.0         0.0             0.0   \n",
       "\n",
       "   parking_lot  parking_street  parking_valet  parking_validated  \n",
       "0          0.0             0.0            0.0                0.0  \n",
       "1          0.0             0.0            0.0                0.0  \n",
       "2          0.0             0.0            0.0                0.0  \n",
       "3          0.0             0.0            0.0                0.0  \n",
       "4          0.0             0.0            0.0                0.0  \n",
       "\n",
       "[5 rows x 104 columns]"
      ]
     },
     "execution_count": 2,
     "metadata": {},
     "output_type": "execute_result"
    }
   ],
   "source": [
    "df = pd.read_pickle('../data/processed/businessdf_clean.pickle')\n",
    "df.head()"
   ]
  },
  {
   "cell_type": "markdown",
   "metadata": {},
   "source": [
    "you can read a pickle file and then preview the data in the resulting dataframe, all in a single line of code."
   ]
  },
  {
   "cell_type": "markdown",
   "metadata": {},
   "source": [
    "# Extract Restaurant or food store information"
   ]
  },
  {
   "cell_type": "code",
   "execution_count": 3,
   "metadata": {
    "ExecuteTime": {
     "end_time": "2019-09-29T21:31:17.071905Z",
     "start_time": "2019-09-29T21:31:16.854914Z"
    }
   },
   "outputs": [],
   "source": [
    "# Specify rows data that contains 'Restaurants' or 'Food' in the \n",
    "restaurants = df[df['categories'].str.contains('Restaurant|Food') == True]"
   ]
  },
  {
   "cell_type": "markdown",
   "metadata": {},
   "source": [
    "the restaurants dataframe contains only the rows from the original dataframe where the value in the categories column contains the string \"Restaurant\" or \"Food"
   ]
  },
  {
   "cell_type": "code",
   "execution_count": 4,
   "metadata": {
    "ExecuteTime": {
     "end_time": "2019-09-29T21:31:27.289682Z",
     "start_time": "2019-09-29T21:31:27.282224Z"
    }
   },
   "outputs": [
    {
     "data": {
      "text/plain": [
       "(64629, 104)"
      ]
     },
     "execution_count": 4,
     "metadata": {},
     "output_type": "execute_result"
    }
   ],
   "source": [
    "# Check the shape\n",
    "restaurants.shape"
   ]
  },
  {
   "cell_type": "markdown",
   "metadata": {},
   "source": [
    "he output shows that there are 64,629 rows and 104 columns in the restaurants dataframe."
   ]
  },
  {
   "cell_type": "code",
   "execution_count": 5,
   "metadata": {
    "ExecuteTime": {
     "end_time": "2019-09-22T19:29:54.168586Z",
     "start_time": "2019-09-22T19:29:54.162311Z"
    }
   },
   "outputs": [
    {
     "data": {
      "text/plain": [
       "3    Restaurants, Food, Bubble Tea, Coffee & Tea, B...\n",
       "4                            Brewpubs, Breweries, Food\n",
       "5    Burgers, Fast Food, Sandwiches, Food, Ice Crea...\n",
       "8    Pubs, Restaurants, Italian, Bars, American (Tr...\n",
       "9    Ice Cream & Frozen Yogurt, Fast Food, Burgers,...\n",
       "Name: categories, dtype: object"
      ]
     },
     "execution_count": 5,
     "metadata": {},
     "output_type": "execute_result"
    }
   ],
   "source": [
    "# Check if I extracted restaurant and food data successfully \n",
    "restaurants.categories[:5]"
   ]
  },
  {
   "cell_type": "code",
   "execution_count": 6,
   "metadata": {
    "ExecuteTime": {
     "end_time": "2019-09-22T19:29:54.989420Z",
     "start_time": "2019-09-22T19:29:54.673148Z"
    }
   },
   "outputs": [],
   "source": [
    "# Put labels to business information for future use\n",
    "Business_type = ['Restaurants', 'Food']\n",
    "for b in Business_type:\n",
    "    restaurants.loc[restaurants['categories'].str.contains(b),'business_type'] = b"
   ]
  },
  {
   "cell_type": "markdown",
   "metadata": {},
   "source": [
    "The previous code is used to label businesses in the \"restaurants\" dataframe as belonging to the \"Restaurants\" or \"Food\" category. The code iterates through a list of business types called \"Business_type\" and uses the \"str.contains()\" method to check if the \"categories\" column in the \"restaurants\" dataframe contains the current business type. If it does, the code adds a new column called \"business_type\" to the \"restaurants\" dataframe and assigns the current business type as the value for that row."
   ]
  },
  {
   "cell_type": "code",
   "execution_count": 7,
   "metadata": {
    "ExecuteTime": {
     "end_time": "2019-09-22T19:29:56.845606Z",
     "start_time": "2019-09-22T19:29:56.781160Z"
    }
   },
   "outputs": [],
   "source": [
    "# Those with NaN values after the above step are 'Restaurant Supplies', thus, I decided to drop the information\n",
    "restaurants['business_type'].dropna(inplace=True)"
   ]
  },
  {
   "cell_type": "markdown",
   "metadata": {},
   "source": [
    "This code is for labeling the businesses in the 'restaurants' dataframe based on the categories they belong to. The labels 'Restaurants' and 'Food' are defined in the list 'Business_type'. The code then uses the 'loc' function to create a new column 'business_type' and assign it the values 'Restaurants' or 'Food' if they are present in the 'categories' column. If a business does not belong to either of these categories, its 'business_type' value will be NaN. The last line of code is then used to drop these NaN values from the 'business_type' column."
   ]
  },
  {
   "cell_type": "markdown",
   "metadata": {},
   "source": [
    "# Create a column of couisine information"
   ]
  },
  {
   "cell_type": "code",
   "execution_count": 8,
   "metadata": {
    "ExecuteTime": {
     "end_time": "2019-09-22T19:29:57.565942Z",
     "start_time": "2019-09-22T19:29:57.560207Z"
    }
   },
   "outputs": [],
   "source": [
    "# Create a cuisine column based on a popular cuisine list\n",
    "cuisines = ['African', 'Algerian', 'American', 'Belgian', 'Brazilian', 'British', \\\n",
    "            'Cajun', 'Canadian', 'Chinese', 'Cuban', 'Egyptian', 'French', \\\n",
    "            'German', 'Greek', 'Haitian', 'Hawaiian', 'Indian', 'Irish', 'Italian', \n",
    "            'Japanese', 'Jewish', 'Kenyan', 'Korean', 'Latvian', \\\n",
    "            'Libyan', 'Mediterranean', 'Mexican', 'Middle Eastern', 'Mormon', \\\n",
    "            'Nigerian', 'Peruvian', 'Polish', 'Portuguese', 'Russian', \\\n",
    "            'Salvadorian', 'Scottish', 'Spanish', 'Swedish', \\\n",
    "            'Tahitian', 'Thai', 'Tibetan', 'Turkish', 'Vietnamese','Welsh'\\\n",
    "            'Venezuelan', 'Argentine', 'Cantonese', 'Salvadoran', 'Arabian',\\\n",
    "            'Moroccan', 'Russian', 'Uzbek', 'Armenian', 'Lebanese', 'Indonesian', \\\n",
    "            'Singaporean']"
   ]
  },
  {
   "cell_type": "markdown",
   "metadata": {},
   "source": [
    "The above code creates a list of cuisines. This list will be used to categorize the types of cuisines offered by restaurants in the data."
   ]
  },
  {
   "cell_type": "code",
   "execution_count": 9,
   "metadata": {
    "ExecuteTime": {
     "end_time": "2019-09-22T19:30:02.255725Z",
     "start_time": "2019-09-22T19:29:57.949421Z"
    }
   },
   "outputs": [],
   "source": [
    "# Find a cuisine name in the 'categories' column and create a new colomn (or fill 1 in the relevant column)\n",
    "# E.g. When a cell contains 'American', it creates an 'American' column or fill 1 in the 'American' column if it exists already\n",
    "for c in cuisines:\n",
    "    restaurants.loc[restaurants['categories'].str.contains(c),'cuisine'] = c"
   ]
  },
  {
   "cell_type": "markdown",
   "metadata": {},
   "source": [
    "The above code searches for specific cuisine names in the 'categories' column of the 'restaurants' dataframe and creates a new 'cuisine' column or fills a 1 in the relevant column if it already exists"
   ]
  },
  {
   "cell_type": "markdown",
   "metadata": {},
   "source": [
    "# Create a column of food type information"
   ]
  },
  {
   "cell_type": "code",
   "execution_count": 10,
   "metadata": {},
   "outputs": [],
   "source": [
    "# Create a food type column based on a popular cuisine list\n",
    "Food_type = ['Arabian', 'Armenian', 'Asian Fusion', 'Barbeque', 'Basque', \n",
    "            'Breakfast & Brunch', 'Buffets', 'Burgers', 'Cafes', \\\n",
    "            'Cafeteria', 'Cajun', 'Cheesesteaks', 'Chicken Shops', \\\n",
    "            'Chicken Wings', 'Coffee & Tea', 'Comfort Food', 'Creperies', \\\n",
    "            'Delis', 'Dim Sum', 'Diners', 'Falafel', 'Fast Food', 'Fish & Chips', \\\n",
    "            'Fondue', 'Food Court', 'Food Stands', 'Gastropubs', 'Halal', \\\n",
    "            'Hot Dogs', 'Hot Pot', 'Kebab', 'Kosher', 'Moroccan', 'Noodles',\\\n",
    "            'Pizza', 'Ramen', 'Russian', 'Salad', 'Salvadoran', 'Sandwiches', \\\n",
    "            'Seafood', 'Soup', 'Steakhouses', 'Sushi Bars', 'Tacos', 'Tapas Bars', \\\n",
    "            'Tapas Bars', 'Uzbek', 'Waffles', 'Wraps', ]"
   ]
  },
  {
   "cell_type": "markdown",
   "metadata": {},
   "source": [
    "The above code creates a list called 'Food_type' which includes various types of food. It is intended to be used later to create a new column in the 'restaurants' dataframe called 'food_type'. This new column will contain the type of food served at each restaurant. If a restaurant serves a particular type of food, it will fill 1 in the relevant column for that type of food."
   ]
  },
  {
   "cell_type": "code",
   "execution_count": 11,
   "metadata": {
    "ExecuteTime": {
     "end_time": "2019-09-22T19:30:06.349749Z",
     "start_time": "2019-09-22T19:30:02.265170Z"
    }
   },
   "outputs": [],
   "source": [
    "# Do the same as 'cuisine' columns\n",
    "for f in Food_type:\n",
    "    restaurants.loc[restaurants['categories'].str.contains(f),'food_type'] = f"
   ]
  },
  {
   "cell_type": "markdown",
   "metadata": {},
   "source": [
    "This code creates a new column in the 'restaurants' dataframe called 'food_type'. It looks for a specific food type in the 'categories' column of the dataframe and fills the corresponding cell in the 'food_type' column with the name of the food type if it is found. The list of food types being searched for is specified in the 'Food_type' list."
   ]
  },
  {
   "cell_type": "markdown",
   "metadata": {},
   "source": [
    "# Dummify columns "
   ]
  },
  {
   "cell_type": "code",
   "execution_count": 12,
   "metadata": {
    "ExecuteTime": {
     "end_time": "2019-09-22T19:30:06.368915Z",
     "start_time": "2019-09-22T19:30:06.352011Z"
    }
   },
   "outputs": [],
   "source": [
    "dummy_business_type = pd.get_dummies(restaurants[['business_type']], drop_first=True)"
   ]
  },
  {
   "cell_type": "code",
   "execution_count": 13,
   "metadata": {
    "ExecuteTime": {
     "end_time": "2019-09-22T19:30:06.406330Z",
     "start_time": "2019-09-22T19:30:06.370769Z"
    }
   },
   "outputs": [],
   "source": [
    "dummy_cuisine_and_food = pd.get_dummies(restaurants[['cuisine', 'food_type']])"
   ]
  },
  {
   "cell_type": "code",
   "execution_count": 14,
   "metadata": {
    "ExecuteTime": {
     "end_time": "2019-09-22T19:30:06.456364Z",
     "start_time": "2019-09-22T19:30:06.407625Z"
    }
   },
   "outputs": [],
   "source": [
    "restaurants_ver2 = pd.concat([restaurants, dummy_business_type, dummy_cuisine_and_food], axis=1)"
   ]
  },
  {
   "cell_type": "code",
   "execution_count": 15,
   "metadata": {
    "ExecuteTime": {
     "end_time": "2019-09-22T19:30:06.597758Z",
     "start_time": "2019-09-22T19:30:06.457897Z"
    }
   },
   "outputs": [],
   "source": [
    "restaurants_ver2 = restaurants_ver2.drop(['business_type', 'categories', 'cuisine', 'food_type'], axis=1)"
   ]
  },
  {
   "cell_type": "markdown",
   "metadata": {},
   "source": [
    "This code creates dummy variables for the columns 'business_type', 'cuisine', and 'food_type' in the 'restaurants' dataframe. Dummy variables are numerical representations of categorical variables, where each unique category is represented by a separate binary column. The 'pd.get_dummies()' function is used to create the dummy variables and the 'drop_first=True' argument is used to drop the first level of each categorical variable, so that there is no perfect multicollinearity between the dummy variables. The resulting dummy variables are then concatenated to the original 'restaurants' dataframe using the 'pd.concat()' function, with the 'axis=1' argument indicating that the concatenation should be performed along the columns. Finally, the original categorical columns 'business_type', 'categories', 'cuisine', and 'food_type' are dropped from the dataframe using the 'df.drop()' function."
   ]
  },
  {
   "cell_type": "markdown",
   "metadata": {},
   "source": [
    "# Feature generation "
   ]
  },
  {
   "cell_type": "markdown",
   "metadata": {},
   "source": [
    "## Create a column for total checkin counts"
   ]
  },
  {
   "cell_type": "code",
   "execution_count": 16,
   "metadata": {
    "ExecuteTime": {
     "end_time": "2019-09-22T19:30:07.007631Z",
     "start_time": "2019-09-22T19:30:06.600357Z"
    }
   },
   "outputs": [
    {
     "data": {
      "text/html": [
       "<div>\n",
       "<style scoped>\n",
       "    .dataframe tbody tr th:only-of-type {\n",
       "        vertical-align: middle;\n",
       "    }\n",
       "\n",
       "    .dataframe tbody tr th {\n",
       "        vertical-align: top;\n",
       "    }\n",
       "\n",
       "    .dataframe thead th {\n",
       "        text-align: right;\n",
       "    }\n",
       "</style>\n",
       "<table border=\"1\" class=\"dataframe\">\n",
       "  <thead>\n",
       "    <tr style=\"text-align: right;\">\n",
       "      <th></th>\n",
       "      <th>business_id</th>\n",
       "      <th>date</th>\n",
       "    </tr>\n",
       "  </thead>\n",
       "  <tbody>\n",
       "    <tr>\n",
       "      <th>0</th>\n",
       "      <td>---kPU91CF4Lq2-WlRu9Lw</td>\n",
       "      <td>2020-03-13 21:10:56, 2020-06-02 22:18:06, 2020...</td>\n",
       "    </tr>\n",
       "    <tr>\n",
       "      <th>1</th>\n",
       "      <td>--0iUa4sNDFiZFrAdIWhZQ</td>\n",
       "      <td>2010-09-13 21:43:09, 2011-05-04 23:08:15, 2011...</td>\n",
       "    </tr>\n",
       "    <tr>\n",
       "      <th>2</th>\n",
       "      <td>--30_8IhuyMHbSOcNWd6DQ</td>\n",
       "      <td>2013-06-14 23:29:17, 2014-08-13 23:20:22</td>\n",
       "    </tr>\n",
       "    <tr>\n",
       "      <th>3</th>\n",
       "      <td>--7PUidqRWpRSpXebiyxTg</td>\n",
       "      <td>2011-02-15 17:12:00, 2011-07-28 02:46:10, 2012...</td>\n",
       "    </tr>\n",
       "    <tr>\n",
       "      <th>4</th>\n",
       "      <td>--7jw19RH9JKXgFohspgQw</td>\n",
       "      <td>2014-04-21 20:42:11, 2014-04-28 21:04:46, 2014...</td>\n",
       "    </tr>\n",
       "  </tbody>\n",
       "</table>\n",
       "</div>"
      ],
      "text/plain": [
       "              business_id                                               date\n",
       "0  ---kPU91CF4Lq2-WlRu9Lw  2020-03-13 21:10:56, 2020-06-02 22:18:06, 2020...\n",
       "1  --0iUa4sNDFiZFrAdIWhZQ  2010-09-13 21:43:09, 2011-05-04 23:08:15, 2011...\n",
       "2  --30_8IhuyMHbSOcNWd6DQ           2013-06-14 23:29:17, 2014-08-13 23:20:22\n",
       "3  --7PUidqRWpRSpXebiyxTg  2011-02-15 17:12:00, 2011-07-28 02:46:10, 2012...\n",
       "4  --7jw19RH9JKXgFohspgQw  2014-04-21 20:42:11, 2014-04-28 21:04:46, 2014..."
      ]
     },
     "execution_count": 16,
     "metadata": {},
     "output_type": "execute_result"
    }
   ],
   "source": [
    "# Load check-in data\n",
    "checkins = pd.read_pickle('../data/processed/checkinjson.pickle')\n",
    "checkins.head()"
   ]
  },
  {
   "cell_type": "markdown",
   "metadata": {},
   "source": [
    "The code loads the data stored in the file 'checkinjson.pickle' and saves it to a variable called 'checkins'. It then displays the first few rows of the data using the head() function."
   ]
  },
  {
   "cell_type": "code",
   "execution_count": 38,
   "metadata": {
    "ExecuteTime": {
     "end_time": "2019-09-22T19:30:07.140301Z",
     "start_time": "2019-09-22T19:30:07.012112Z"
    }
   },
   "outputs": [],
   "source": [
    "# Create a new DataFrame to hold the timeseries of the checkins\n",
    "#df_checkins = pd.DataFrame()\n",
    "\n",
    "#for id in range(len(checkins.date)):\n",
    "    \n",
    "#    df_checkins_id = pd.DataFrame()\n",
    "    \n",
    "#    split = checkins.date[id].split(',')\n",
    "#    df_checkins_id['Checkin_date'] = pd.to_datetime(split)\n",
    "#    df_checkins_id['Business_id'] = checkins.business_id[id]\n",
    "#    df_checkins_id['Year'] = df_checkins_id['Checkin_date'].dt.year\n",
    "    \n",
    "\n",
    "#    df_checkins_id = df_checkins_id.groupby(['Business_id','Year']).agg(['count']).reset_index()\n",
    "#    print(df_checkins_id)\n",
    "\n",
    "#    df_checkins = pd.concat([df_checkins, df_checkins_id])"
   ]
  },
  {
   "cell_type": "markdown",
   "metadata": {},
   "source": [
    "The code above creates a new empty dataframe called 'df_checkins' to hold the timeseries of the check-ins data. Then, it loops through each row of the 'checkins' dataframe, creates a new dataframe called 'df_checkins_id' for each row, and fills it with the check-in dates and business IDs. The dates are split by the comma separator and converted to datetime format. The year of each check-in is also extracted and added as a new column. The 'df_checkins_id' dataframe is then grouped by the business ID and year, and the count of check-ins for each group is calculated. Finally, the 'df_checkins_id' dataframe is appended to the 'df_checkins' dataframe.\n",
    "\n",
    "The code above is creating a new DataFrame called df_checkins and filling it with the check-in data for each business."
   ]
  },
  {
   "cell_type": "code",
   "execution_count": 99,
   "metadata": {},
   "outputs": [],
   "source": [
    "# Pickle results to avoid running all the above code again - it took hours to finish running\n",
    "df_checkins.to_pickle('../data/processed/df_checkins.pickle')"
   ]
  },
  {
   "cell_type": "code",
   "execution_count": 18,
   "metadata": {
    "ExecuteTime": {
     "end_time": "2019-09-29T21:32:42.922274Z",
     "start_time": "2019-09-29T21:32:42.864855Z"
    },
    "scrolled": true
   },
   "outputs": [
    {
     "data": {
      "text/html": [
       "<div>\n",
       "<style scoped>\n",
       "    .dataframe tbody tr th:only-of-type {\n",
       "        vertical-align: middle;\n",
       "    }\n",
       "\n",
       "    .dataframe tbody tr th {\n",
       "        vertical-align: top;\n",
       "    }\n",
       "\n",
       "    .dataframe thead tr th {\n",
       "        text-align: left;\n",
       "    }\n",
       "</style>\n",
       "<table border=\"1\" class=\"dataframe\">\n",
       "  <thead>\n",
       "    <tr>\n",
       "      <th></th>\n",
       "      <th>Business_id</th>\n",
       "      <th>Year</th>\n",
       "      <th>Checkin_date</th>\n",
       "    </tr>\n",
       "    <tr>\n",
       "      <th></th>\n",
       "      <th></th>\n",
       "      <th></th>\n",
       "      <th>count</th>\n",
       "    </tr>\n",
       "  </thead>\n",
       "  <tbody>\n",
       "    <tr>\n",
       "      <th>0</th>\n",
       "      <td>---kPU91CF4Lq2-WlRu9Lw</td>\n",
       "      <td>2020</td>\n",
       "      <td>5</td>\n",
       "    </tr>\n",
       "    <tr>\n",
       "      <th>1</th>\n",
       "      <td>---kPU91CF4Lq2-WlRu9Lw</td>\n",
       "      <td>2021</td>\n",
       "      <td>6</td>\n",
       "    </tr>\n",
       "    <tr>\n",
       "      <th>0</th>\n",
       "      <td>--0iUa4sNDFiZFrAdIWhZQ</td>\n",
       "      <td>2010</td>\n",
       "      <td>1</td>\n",
       "    </tr>\n",
       "    <tr>\n",
       "      <th>1</th>\n",
       "      <td>--0iUa4sNDFiZFrAdIWhZQ</td>\n",
       "      <td>2011</td>\n",
       "      <td>2</td>\n",
       "    </tr>\n",
       "    <tr>\n",
       "      <th>2</th>\n",
       "      <td>--0iUa4sNDFiZFrAdIWhZQ</td>\n",
       "      <td>2012</td>\n",
       "      <td>1</td>\n",
       "    </tr>\n",
       "  </tbody>\n",
       "</table>\n",
       "</div>"
      ],
      "text/plain": [
       "              Business_id  Year Checkin_date\n",
       "                                       count\n",
       "0  ---kPU91CF4Lq2-WlRu9Lw  2020            5\n",
       "1  ---kPU91CF4Lq2-WlRu9Lw  2021            6\n",
       "0  --0iUa4sNDFiZFrAdIWhZQ  2010            1\n",
       "1  --0iUa4sNDFiZFrAdIWhZQ  2011            2\n",
       "2  --0iUa4sNDFiZFrAdIWhZQ  2012            1"
      ]
     },
     "execution_count": 18,
     "metadata": {},
     "output_type": "execute_result"
    }
   ],
   "source": [
    "# Load data\n",
    "df_checkins = pd.read_pickle('../data/processed/df_checkins.pickle')\n",
    "df_checkins.head()"
   ]
  },
  {
   "cell_type": "markdown",
   "metadata": {},
   "source": [
    "This code is creating a new dataframe with information on the number of check-ins per business and year."
   ]
  },
  {
   "cell_type": "code",
   "execution_count": 19,
   "metadata": {
    "ExecuteTime": {
     "end_time": "2019-09-29T21:32:48.635396Z",
     "start_time": "2019-09-29T21:32:48.630466Z"
    }
   },
   "outputs": [
    {
     "data": {
      "text/plain": [
       "(9078, 3)"
      ]
     },
     "execution_count": 19,
     "metadata": {},
     "output_type": "execute_result"
    }
   ],
   "source": [
    "# Check the DataFrame shape\n",
    "df_checkins.shape"
   ]
  },
  {
   "cell_type": "markdown",
   "metadata": {},
   "source": [
    "The DataFrame has 9078 rows and 3 columns."
   ]
  },
  {
   "cell_type": "code",
   "execution_count": 20,
   "metadata": {
    "ExecuteTime": {
     "end_time": "2019-09-22T19:30:42.232380Z",
     "start_time": "2019-09-22T19:30:42.207769Z"
    },
    "scrolled": true
   },
   "outputs": [],
   "source": [
    "# Rename the column to make it more clear\n",
    "df_checkins.rename(columns={'number_checkins': 'checkins_peryear'}, inplace=True)"
   ]
  },
  {
   "cell_type": "code",
   "execution_count": 21,
   "metadata": {
    "ExecuteTime": {
     "end_time": "2019-09-22T19:30:42.778651Z",
     "start_time": "2019-09-22T19:30:42.610266Z"
    }
   },
   "outputs": [],
   "source": [
    "# Current DataFrame structure: one check-in information per row\n",
    "# Group the checkin information by business_id\n",
    "total_checkins = pd.DataFrame(df_checkins.groupby('Business_id')['Year'].sum()).reset_index()"
   ]
  },
  {
   "cell_type": "code",
   "execution_count": 22,
   "metadata": {
    "ExecuteTime": {
     "end_time": "2019-09-22T19:30:43.015081Z",
     "start_time": "2019-09-22T19:30:42.867301Z"
    }
   },
   "outputs": [],
   "source": [
    "# Estimate the number of years the business is listed on Yelp\n",
    "total_checkins_yearcount = pd.DataFrame(df_checkins.groupby('Business_id')['Year'].count()).reset_index()"
   ]
  },
  {
   "cell_type": "code",
   "execution_count": 23,
   "metadata": {
    "ExecuteTime": {
     "end_time": "2019-09-22T19:30:43.203329Z",
     "start_time": "2019-09-22T19:30:43.080461Z"
    },
    "scrolled": true
   },
   "outputs": [
    {
     "data": {
      "text/html": [
       "<div>\n",
       "<style scoped>\n",
       "    .dataframe tbody tr th:only-of-type {\n",
       "        vertical-align: middle;\n",
       "    }\n",
       "\n",
       "    .dataframe tbody tr th {\n",
       "        vertical-align: top;\n",
       "    }\n",
       "\n",
       "    .dataframe thead th {\n",
       "        text-align: right;\n",
       "    }\n",
       "</style>\n",
       "<table border=\"1\" class=\"dataframe\">\n",
       "  <thead>\n",
       "    <tr style=\"text-align: right;\">\n",
       "      <th></th>\n",
       "      <th>business_id</th>\n",
       "      <th>total_checkins</th>\n",
       "      <th>total_checkinyear_count</th>\n",
       "    </tr>\n",
       "  </thead>\n",
       "  <tbody>\n",
       "    <tr>\n",
       "      <th>0</th>\n",
       "      <td>---kPU91CF4Lq2-WlRu9Lw</td>\n",
       "      <td>4041</td>\n",
       "      <td>2</td>\n",
       "    </tr>\n",
       "    <tr>\n",
       "      <th>1</th>\n",
       "      <td>--0iUa4sNDFiZFrAdIWhZQ</td>\n",
       "      <td>10060</td>\n",
       "      <td>5</td>\n",
       "    </tr>\n",
       "    <tr>\n",
       "      <th>2</th>\n",
       "      <td>--30_8IhuyMHbSOcNWd6DQ</td>\n",
       "      <td>4027</td>\n",
       "      <td>2</td>\n",
       "    </tr>\n",
       "    <tr>\n",
       "      <th>3</th>\n",
       "      <td>--7PUidqRWpRSpXebiyxTg</td>\n",
       "      <td>10065</td>\n",
       "      <td>5</td>\n",
       "    </tr>\n",
       "    <tr>\n",
       "      <th>4</th>\n",
       "      <td>--7jw19RH9JKXgFohspgQw</td>\n",
       "      <td>10083</td>\n",
       "      <td>5</td>\n",
       "    </tr>\n",
       "  </tbody>\n",
       "</table>\n",
       "</div>"
      ],
      "text/plain": [
       "              business_id  total_checkins  total_checkinyear_count\n",
       "0  ---kPU91CF4Lq2-WlRu9Lw            4041                        2\n",
       "1  --0iUa4sNDFiZFrAdIWhZQ           10060                        5\n",
       "2  --30_8IhuyMHbSOcNWd6DQ            4027                        2\n",
       "3  --7PUidqRWpRSpXebiyxTg           10065                        5\n",
       "4  --7jw19RH9JKXgFohspgQw           10083                        5"
      ]
     },
     "execution_count": 23,
     "metadata": {},
     "output_type": "execute_result"
    }
   ],
   "source": [
    "# Put all data in a DataFrame\n",
    "df_checkins_ver2 = total_checkins.merge(total_checkins_yearcount, on='Business_id')\n",
    "df_checkins_ver2.columns=['business_id', 'total_checkins', 'total_checkinyear_count']\n",
    "df_checkins_ver2.head()"
   ]
  },
  {
   "cell_type": "code",
   "execution_count": 24,
   "metadata": {
    "ExecuteTime": {
     "end_time": "2019-09-22T19:30:43.658868Z",
     "start_time": "2019-09-22T19:30:43.304556Z"
    },
    "scrolled": true
   },
   "outputs": [],
   "source": [
    "# Put all data in a DataFrame\n",
    "restaurants_ver3 = df_checkins_ver2.merge(restaurants_ver2, on='business_id')"
   ]
  },
  {
   "cell_type": "markdown",
   "metadata": {},
   "source": [
    "The code above is creating a new DataFrame with information about the total number of check-ins and the number of years a business has been listed on Yelp for each business ID. It starts by renaming a column in the df_checkins DataFrame to make it more clear. Then, it calculates the total number of check-ins for each business ID by grouping the df_checkins DataFrame by the 'business_id' column and summing the 'checkins_peryear' column. It also calculates the number of years a business has been listed on Yelp by grouping the df_checkins DataFrame by the 'business_id' column and counting the 'year' column. Finally, it merges these two new DataFrames, which contain the total number of check-ins and the number of years a business has been listed on Yelp, with the restaurants_ver2 DataFrame on the 'business_id' column, creating a new DataFrame called restaurants_ver3."
   ]
  },
  {
   "cell_type": "markdown",
   "metadata": {},
   "source": [
    "## Create a column for estimated operating years"
   ]
  },
  {
   "cell_type": "code",
   "execution_count": 25,
   "metadata": {
    "ExecuteTime": {
     "end_time": "2019-09-22T19:30:47.255446Z",
     "start_time": "2019-09-22T19:30:47.238122Z"
    }
   },
   "outputs": [],
   "source": [
    "# Create a copy to avoid overwrting\n",
    "df_operatingyears = checkins.copy()"
   ]
  },
  {
   "cell_type": "code",
   "execution_count": 26,
   "metadata": {
    "ExecuteTime": {
     "end_time": "2019-09-22T19:30:47.510607Z",
     "start_time": "2019-09-22T19:30:47.494371Z"
    }
   },
   "outputs": [
    {
     "data": {
      "text/html": [
       "<div>\n",
       "<style scoped>\n",
       "    .dataframe tbody tr th:only-of-type {\n",
       "        vertical-align: middle;\n",
       "    }\n",
       "\n",
       "    .dataframe tbody tr th {\n",
       "        vertical-align: top;\n",
       "    }\n",
       "\n",
       "    .dataframe thead th {\n",
       "        text-align: right;\n",
       "    }\n",
       "</style>\n",
       "<table border=\"1\" class=\"dataframe\">\n",
       "  <thead>\n",
       "    <tr style=\"text-align: right;\">\n",
       "      <th></th>\n",
       "      <th>business_id</th>\n",
       "      <th>date</th>\n",
       "    </tr>\n",
       "  </thead>\n",
       "  <tbody>\n",
       "    <tr>\n",
       "      <th>0</th>\n",
       "      <td>---kPU91CF4Lq2-WlRu9Lw</td>\n",
       "      <td>2020-03-13 21:10:56, 2020-06-02 22:18:06, 2020...</td>\n",
       "    </tr>\n",
       "    <tr>\n",
       "      <th>1</th>\n",
       "      <td>--0iUa4sNDFiZFrAdIWhZQ</td>\n",
       "      <td>2010-09-13 21:43:09, 2011-05-04 23:08:15, 2011...</td>\n",
       "    </tr>\n",
       "    <tr>\n",
       "      <th>2</th>\n",
       "      <td>--30_8IhuyMHbSOcNWd6DQ</td>\n",
       "      <td>2013-06-14 23:29:17, 2014-08-13 23:20:22</td>\n",
       "    </tr>\n",
       "    <tr>\n",
       "      <th>3</th>\n",
       "      <td>--7PUidqRWpRSpXebiyxTg</td>\n",
       "      <td>2011-02-15 17:12:00, 2011-07-28 02:46:10, 2012...</td>\n",
       "    </tr>\n",
       "    <tr>\n",
       "      <th>4</th>\n",
       "      <td>--7jw19RH9JKXgFohspgQw</td>\n",
       "      <td>2014-04-21 20:42:11, 2014-04-28 21:04:46, 2014...</td>\n",
       "    </tr>\n",
       "  </tbody>\n",
       "</table>\n",
       "</div>"
      ],
      "text/plain": [
       "              business_id                                               date\n",
       "0  ---kPU91CF4Lq2-WlRu9Lw  2020-03-13 21:10:56, 2020-06-02 22:18:06, 2020...\n",
       "1  --0iUa4sNDFiZFrAdIWhZQ  2010-09-13 21:43:09, 2011-05-04 23:08:15, 2011...\n",
       "2  --30_8IhuyMHbSOcNWd6DQ           2013-06-14 23:29:17, 2014-08-13 23:20:22\n",
       "3  --7PUidqRWpRSpXebiyxTg  2011-02-15 17:12:00, 2011-07-28 02:46:10, 2012...\n",
       "4  --7jw19RH9JKXgFohspgQw  2014-04-21 20:42:11, 2014-04-28 21:04:46, 2014..."
      ]
     },
     "execution_count": 26,
     "metadata": {},
     "output_type": "execute_result"
    }
   ],
   "source": [
    "# Check how the DataFrame looks like\n",
    "df_operatingyears[['business_id', 'date']].head()"
   ]
  },
  {
   "cell_type": "code",
   "execution_count": 27,
   "metadata": {
    "ExecuteTime": {
     "end_time": "2019-09-22T19:30:48.126842Z",
     "start_time": "2019-09-22T19:30:48.122390Z"
    }
   },
   "outputs": [],
   "source": [
    "# Find the first review year\n",
    "\n",
    "minyear = []\n",
    "\n",
    "def minyear_extract(x):\n",
    "    data = x.split(',')\n",
    "    data = [int(x.strip()[:4]) for x in data]\n",
    "    minyear.append(min(data))\n",
    "    return min(data)"
   ]
  },
  {
   "cell_type": "code",
   "execution_count": 28,
   "metadata": {
    "ExecuteTime": {
     "end_time": "2019-09-22T19:30:57.925906Z",
     "start_time": "2019-09-22T19:30:50.166487Z"
    },
    "scrolled": true
   },
   "outputs": [],
   "source": [
    "# Create a column that contains first review year information\n",
    "df_operatingyears['minyear'] = df_operatingyears.date.apply(minyear_extract)"
   ]
  },
  {
   "cell_type": "code",
   "execution_count": 29,
   "metadata": {
    "ExecuteTime": {
     "end_time": "2019-09-22T19:30:57.935313Z",
     "start_time": "2019-09-22T19:30:57.927921Z"
    }
   },
   "outputs": [],
   "source": [
    "# Find the latest review year\n",
    "\n",
    "maxyear = []\n",
    "\n",
    "def maxyear_extract(x):\n",
    "    data = x.split(',')\n",
    "    data = [int(x.strip()[:4]) for x in data]\n",
    "    maxyear.append(max(data))\n",
    "    return max(data)"
   ]
  },
  {
   "cell_type": "code",
   "execution_count": 30,
   "metadata": {
    "ExecuteTime": {
     "end_time": "2019-09-22T19:31:05.881913Z",
     "start_time": "2019-09-22T19:30:57.937392Z"
    }
   },
   "outputs": [],
   "source": [
    "# Create a column that contains latest review year information\n",
    "df_operatingyears['maxyear'] = df_operatingyears.date.apply(maxyear_extract)"
   ]
  },
  {
   "cell_type": "code",
   "execution_count": 31,
   "metadata": {
    "ExecuteTime": {
     "end_time": "2019-09-22T19:31:05.911973Z",
     "start_time": "2019-09-22T19:31:05.883805Z"
    }
   },
   "outputs": [],
   "source": [
    "# Estimate the operating years \n",
    "df_operatingyears['estimated_opearating_years'] = df_operatingyears['maxyear'] - df_operatingyears['minyear']"
   ]
  },
  {
   "cell_type": "code",
   "execution_count": 32,
   "metadata": {
    "ExecuteTime": {
     "end_time": "2019-09-22T19:31:05.922865Z",
     "start_time": "2019-09-22T19:31:05.913897Z"
    }
   },
   "outputs": [
    {
     "data": {
      "text/html": [
       "<div>\n",
       "<style scoped>\n",
       "    .dataframe tbody tr th:only-of-type {\n",
       "        vertical-align: middle;\n",
       "    }\n",
       "\n",
       "    .dataframe tbody tr th {\n",
       "        vertical-align: top;\n",
       "    }\n",
       "\n",
       "    .dataframe thead th {\n",
       "        text-align: right;\n",
       "    }\n",
       "</style>\n",
       "<table border=\"1\" class=\"dataframe\">\n",
       "  <thead>\n",
       "    <tr style=\"text-align: right;\">\n",
       "      <th></th>\n",
       "      <th>business_id</th>\n",
       "      <th>date</th>\n",
       "      <th>minyear</th>\n",
       "      <th>maxyear</th>\n",
       "      <th>estimated_opearating_years</th>\n",
       "      <th>total_checkins</th>\n",
       "      <th>total_checkinyear_count</th>\n",
       "      <th>business_name</th>\n",
       "      <th>city</th>\n",
       "      <th>US_state</th>\n",
       "      <th>...</th>\n",
       "      <th>food_type_Sandwiches</th>\n",
       "      <th>food_type_Seafood</th>\n",
       "      <th>food_type_Soup</th>\n",
       "      <th>food_type_Steakhouses</th>\n",
       "      <th>food_type_Sushi Bars</th>\n",
       "      <th>food_type_Tacos</th>\n",
       "      <th>food_type_Tapas Bars</th>\n",
       "      <th>food_type_Uzbek</th>\n",
       "      <th>food_type_Waffles</th>\n",
       "      <th>food_type_Wraps</th>\n",
       "    </tr>\n",
       "  </thead>\n",
       "  <tbody>\n",
       "    <tr>\n",
       "      <th>0</th>\n",
       "      <td>---kPU91CF4Lq2-WlRu9Lw</td>\n",
       "      <td>2020-03-13 21:10:56, 2020-06-02 22:18:06, 2020...</td>\n",
       "      <td>2020</td>\n",
       "      <td>2021</td>\n",
       "      <td>1</td>\n",
       "      <td>4041</td>\n",
       "      <td>2</td>\n",
       "      <td>Frankie's Raw Bar</td>\n",
       "      <td>New Port Richey</td>\n",
       "      <td>FL</td>\n",
       "      <td>...</td>\n",
       "      <td>0</td>\n",
       "      <td>1</td>\n",
       "      <td>0</td>\n",
       "      <td>0</td>\n",
       "      <td>0</td>\n",
       "      <td>0</td>\n",
       "      <td>0</td>\n",
       "      <td>0</td>\n",
       "      <td>0</td>\n",
       "      <td>0</td>\n",
       "    </tr>\n",
       "    <tr>\n",
       "      <th>1</th>\n",
       "      <td>--0iUa4sNDFiZFrAdIWhZQ</td>\n",
       "      <td>2010-09-13 21:43:09, 2011-05-04 23:08:15, 2011...</td>\n",
       "      <td>2010</td>\n",
       "      <td>2014</td>\n",
       "      <td>4</td>\n",
       "      <td>10060</td>\n",
       "      <td>5</td>\n",
       "      <td>Pupuseria Y Restaurant Melba</td>\n",
       "      <td>Clementon</td>\n",
       "      <td>NJ</td>\n",
       "      <td>...</td>\n",
       "      <td>0</td>\n",
       "      <td>0</td>\n",
       "      <td>0</td>\n",
       "      <td>0</td>\n",
       "      <td>0</td>\n",
       "      <td>0</td>\n",
       "      <td>0</td>\n",
       "      <td>0</td>\n",
       "      <td>0</td>\n",
       "      <td>0</td>\n",
       "    </tr>\n",
       "    <tr>\n",
       "      <th>2</th>\n",
       "      <td>--7PUidqRWpRSpXebiyxTg</td>\n",
       "      <td>2011-02-15 17:12:00, 2011-07-28 02:46:10, 2012...</td>\n",
       "      <td>2011</td>\n",
       "      <td>2015</td>\n",
       "      <td>4</td>\n",
       "      <td>10065</td>\n",
       "      <td>5</td>\n",
       "      <td>Humpty's Family Restaurant</td>\n",
       "      <td>Edmonton</td>\n",
       "      <td>AB</td>\n",
       "      <td>...</td>\n",
       "      <td>0</td>\n",
       "      <td>0</td>\n",
       "      <td>0</td>\n",
       "      <td>0</td>\n",
       "      <td>0</td>\n",
       "      <td>0</td>\n",
       "      <td>0</td>\n",
       "      <td>0</td>\n",
       "      <td>0</td>\n",
       "      <td>0</td>\n",
       "    </tr>\n",
       "    <tr>\n",
       "      <th>3</th>\n",
       "      <td>--8IbOsAAxjKRoYsBFL-PA</td>\n",
       "      <td>2015-06-06 01:03:19, 2015-07-29 16:50:58, 2015...</td>\n",
       "      <td>2015</td>\n",
       "      <td>2018</td>\n",
       "      <td>3</td>\n",
       "      <td>8066</td>\n",
       "      <td>4</td>\n",
       "      <td>The Original Italian Pie</td>\n",
       "      <td>Gentilly</td>\n",
       "      <td>LA</td>\n",
       "      <td>...</td>\n",
       "      <td>0</td>\n",
       "      <td>0</td>\n",
       "      <td>0</td>\n",
       "      <td>0</td>\n",
       "      <td>0</td>\n",
       "      <td>0</td>\n",
       "      <td>0</td>\n",
       "      <td>0</td>\n",
       "      <td>0</td>\n",
       "      <td>0</td>\n",
       "    </tr>\n",
       "    <tr>\n",
       "      <th>4</th>\n",
       "      <td>--MbOh2O1pATkXa7xbU6LA</td>\n",
       "      <td>2013-04-21 01:52:06, 2013-05-02 04:02:07, 2013...</td>\n",
       "      <td>2013</td>\n",
       "      <td>2017</td>\n",
       "      <td>4</td>\n",
       "      <td>10075</td>\n",
       "      <td>5</td>\n",
       "      <td>Sweet Lizard</td>\n",
       "      <td>Tucson</td>\n",
       "      <td>AZ</td>\n",
       "      <td>...</td>\n",
       "      <td>0</td>\n",
       "      <td>0</td>\n",
       "      <td>0</td>\n",
       "      <td>0</td>\n",
       "      <td>0</td>\n",
       "      <td>0</td>\n",
       "      <td>0</td>\n",
       "      <td>0</td>\n",
       "      <td>0</td>\n",
       "      <td>0</td>\n",
       "    </tr>\n",
       "    <tr>\n",
       "      <th>...</th>\n",
       "      <td>...</td>\n",
       "      <td>...</td>\n",
       "      <td>...</td>\n",
       "      <td>...</td>\n",
       "      <td>...</td>\n",
       "      <td>...</td>\n",
       "      <td>...</td>\n",
       "      <td>...</td>\n",
       "      <td>...</td>\n",
       "      <td>...</td>\n",
       "      <td>...</td>\n",
       "      <td>...</td>\n",
       "      <td>...</td>\n",
       "      <td>...</td>\n",
       "      <td>...</td>\n",
       "      <td>...</td>\n",
       "      <td>...</td>\n",
       "      <td>...</td>\n",
       "      <td>...</td>\n",
       "      <td>...</td>\n",
       "      <td>...</td>\n",
       "    </tr>\n",
       "    <tr>\n",
       "      <th>774</th>\n",
       "      <td>-kVGt2QRNtBoZMvKeIjVug</td>\n",
       "      <td>2012-03-27 22:27:40, 2012-07-21 00:52:58, 2012...</td>\n",
       "      <td>2012</td>\n",
       "      <td>2014</td>\n",
       "      <td>2</td>\n",
       "      <td>6039</td>\n",
       "      <td>3</td>\n",
       "      <td>TGI Fridays</td>\n",
       "      <td>Avon</td>\n",
       "      <td>IN</td>\n",
       "      <td>...</td>\n",
       "      <td>0</td>\n",
       "      <td>0</td>\n",
       "      <td>0</td>\n",
       "      <td>0</td>\n",
       "      <td>0</td>\n",
       "      <td>0</td>\n",
       "      <td>0</td>\n",
       "      <td>0</td>\n",
       "      <td>0</td>\n",
       "      <td>0</td>\n",
       "    </tr>\n",
       "    <tr>\n",
       "      <th>775</th>\n",
       "      <td>-kWKHxA5tcrCfbfx-_OLhQ</td>\n",
       "      <td>2011-02-21 18:55:49, 2011-02-27 00:08:03, 2011...</td>\n",
       "      <td>2011</td>\n",
       "      <td>2021</td>\n",
       "      <td>10</td>\n",
       "      <td>22176</td>\n",
       "      <td>11</td>\n",
       "      <td>Field House Pub &amp; Grill</td>\n",
       "      <td>Saint Louis</td>\n",
       "      <td>MO</td>\n",
       "      <td>...</td>\n",
       "      <td>1</td>\n",
       "      <td>0</td>\n",
       "      <td>0</td>\n",
       "      <td>0</td>\n",
       "      <td>0</td>\n",
       "      <td>0</td>\n",
       "      <td>0</td>\n",
       "      <td>0</td>\n",
       "      <td>0</td>\n",
       "      <td>0</td>\n",
       "    </tr>\n",
       "    <tr>\n",
       "      <th>776</th>\n",
       "      <td>-kYESienondGaj9TFadkUg</td>\n",
       "      <td>2010-12-10 17:45:46, 2011-01-17 01:49:42, 2011...</td>\n",
       "      <td>2010</td>\n",
       "      <td>2017</td>\n",
       "      <td>7</td>\n",
       "      <td>16108</td>\n",
       "      <td>8</td>\n",
       "      <td>Ethio Cafe &amp; Carry Out</td>\n",
       "      <td>Philadelphia</td>\n",
       "      <td>PA</td>\n",
       "      <td>...</td>\n",
       "      <td>0</td>\n",
       "      <td>0</td>\n",
       "      <td>0</td>\n",
       "      <td>0</td>\n",
       "      <td>0</td>\n",
       "      <td>0</td>\n",
       "      <td>0</td>\n",
       "      <td>0</td>\n",
       "      <td>0</td>\n",
       "      <td>0</td>\n",
       "    </tr>\n",
       "    <tr>\n",
       "      <th>777</th>\n",
       "      <td>-kY_HDP7IMvGl-kBIZVU4A</td>\n",
       "      <td>2012-10-21 18:42:43, 2012-10-22 00:50:42, 2012...</td>\n",
       "      <td>2012</td>\n",
       "      <td>2022</td>\n",
       "      <td>10</td>\n",
       "      <td>22187</td>\n",
       "      <td>11</td>\n",
       "      <td>Dune Coffee Roasters - Anacapa</td>\n",
       "      <td>Santa Barbara</td>\n",
       "      <td>CA</td>\n",
       "      <td>...</td>\n",
       "      <td>0</td>\n",
       "      <td>0</td>\n",
       "      <td>0</td>\n",
       "      <td>0</td>\n",
       "      <td>0</td>\n",
       "      <td>0</td>\n",
       "      <td>0</td>\n",
       "      <td>0</td>\n",
       "      <td>0</td>\n",
       "      <td>0</td>\n",
       "    </tr>\n",
       "    <tr>\n",
       "      <th>778</th>\n",
       "      <td>-ka45SR1nuoxUU4eTamE_w</td>\n",
       "      <td>2016-05-09 13:06:09, 2016-05-27 11:45:10, 2016...</td>\n",
       "      <td>2016</td>\n",
       "      <td>2019</td>\n",
       "      <td>3</td>\n",
       "      <td>8070</td>\n",
       "      <td>4</td>\n",
       "      <td>Abington All Star Bagel</td>\n",
       "      <td>Abington</td>\n",
       "      <td>PA</td>\n",
       "      <td>...</td>\n",
       "      <td>1</td>\n",
       "      <td>0</td>\n",
       "      <td>0</td>\n",
       "      <td>0</td>\n",
       "      <td>0</td>\n",
       "      <td>0</td>\n",
       "      <td>0</td>\n",
       "      <td>0</td>\n",
       "      <td>0</td>\n",
       "      <td>0</td>\n",
       "    </tr>\n",
       "  </tbody>\n",
       "</table>\n",
       "<p>779 rows × 197 columns</p>\n",
       "</div>"
      ],
      "text/plain": [
       "                business_id  \\\n",
       "0    ---kPU91CF4Lq2-WlRu9Lw   \n",
       "1    --0iUa4sNDFiZFrAdIWhZQ   \n",
       "2    --7PUidqRWpRSpXebiyxTg   \n",
       "3    --8IbOsAAxjKRoYsBFL-PA   \n",
       "4    --MbOh2O1pATkXa7xbU6LA   \n",
       "..                      ...   \n",
       "774  -kVGt2QRNtBoZMvKeIjVug   \n",
       "775  -kWKHxA5tcrCfbfx-_OLhQ   \n",
       "776  -kYESienondGaj9TFadkUg   \n",
       "777  -kY_HDP7IMvGl-kBIZVU4A   \n",
       "778  -ka45SR1nuoxUU4eTamE_w   \n",
       "\n",
       "                                                  date  minyear  maxyear  \\\n",
       "0    2020-03-13 21:10:56, 2020-06-02 22:18:06, 2020...     2020     2021   \n",
       "1    2010-09-13 21:43:09, 2011-05-04 23:08:15, 2011...     2010     2014   \n",
       "2    2011-02-15 17:12:00, 2011-07-28 02:46:10, 2012...     2011     2015   \n",
       "3    2015-06-06 01:03:19, 2015-07-29 16:50:58, 2015...     2015     2018   \n",
       "4    2013-04-21 01:52:06, 2013-05-02 04:02:07, 2013...     2013     2017   \n",
       "..                                                 ...      ...      ...   \n",
       "774  2012-03-27 22:27:40, 2012-07-21 00:52:58, 2012...     2012     2014   \n",
       "775  2011-02-21 18:55:49, 2011-02-27 00:08:03, 2011...     2011     2021   \n",
       "776  2010-12-10 17:45:46, 2011-01-17 01:49:42, 2011...     2010     2017   \n",
       "777  2012-10-21 18:42:43, 2012-10-22 00:50:42, 2012...     2012     2022   \n",
       "778  2016-05-09 13:06:09, 2016-05-27 11:45:10, 2016...     2016     2019   \n",
       "\n",
       "     estimated_opearating_years  total_checkins  total_checkinyear_count  \\\n",
       "0                             1            4041                        2   \n",
       "1                             4           10060                        5   \n",
       "2                             4           10065                        5   \n",
       "3                             3            8066                        4   \n",
       "4                             4           10075                        5   \n",
       "..                          ...             ...                      ...   \n",
       "774                           2            6039                        3   \n",
       "775                          10           22176                       11   \n",
       "776                           7           16108                        8   \n",
       "777                          10           22187                       11   \n",
       "778                           3            8070                        4   \n",
       "\n",
       "                      business_name             city US_state  ...  \\\n",
       "0                 Frankie's Raw Bar  New Port Richey       FL  ...   \n",
       "1      Pupuseria Y Restaurant Melba        Clementon       NJ  ...   \n",
       "2        Humpty's Family Restaurant         Edmonton       AB  ...   \n",
       "3          The Original Italian Pie         Gentilly       LA  ...   \n",
       "4                      Sweet Lizard           Tucson       AZ  ...   \n",
       "..                              ...              ...      ...  ...   \n",
       "774                     TGI Fridays             Avon       IN  ...   \n",
       "775         Field House Pub & Grill      Saint Louis       MO  ...   \n",
       "776          Ethio Cafe & Carry Out     Philadelphia       PA  ...   \n",
       "777  Dune Coffee Roasters - Anacapa    Santa Barbara       CA  ...   \n",
       "778         Abington All Star Bagel         Abington       PA  ...   \n",
       "\n",
       "     food_type_Sandwiches  food_type_Seafood  food_type_Soup  \\\n",
       "0                       0                  1               0   \n",
       "1                       0                  0               0   \n",
       "2                       0                  0               0   \n",
       "3                       0                  0               0   \n",
       "4                       0                  0               0   \n",
       "..                    ...                ...             ...   \n",
       "774                     0                  0               0   \n",
       "775                     1                  0               0   \n",
       "776                     0                  0               0   \n",
       "777                     0                  0               0   \n",
       "778                     1                  0               0   \n",
       "\n",
       "     food_type_Steakhouses  food_type_Sushi Bars  food_type_Tacos  \\\n",
       "0                        0                     0                0   \n",
       "1                        0                     0                0   \n",
       "2                        0                     0                0   \n",
       "3                        0                     0                0   \n",
       "4                        0                     0                0   \n",
       "..                     ...                   ...              ...   \n",
       "774                      0                     0                0   \n",
       "775                      0                     0                0   \n",
       "776                      0                     0                0   \n",
       "777                      0                     0                0   \n",
       "778                      0                     0                0   \n",
       "\n",
       "     food_type_Tapas Bars  food_type_Uzbek  food_type_Waffles  food_type_Wraps  \n",
       "0                       0                0                  0                0  \n",
       "1                       0                0                  0                0  \n",
       "2                       0                0                  0                0  \n",
       "3                       0                0                  0                0  \n",
       "4                       0                0                  0                0  \n",
       "..                    ...              ...                ...              ...  \n",
       "774                     0                0                  0                0  \n",
       "775                     0                0                  0                0  \n",
       "776                     0                0                  0                0  \n",
       "777                     0                0                  0                0  \n",
       "778                     0                0                  0                0  \n",
       "\n",
       "[779 rows x 197 columns]"
      ]
     },
     "execution_count": 32,
     "metadata": {},
     "output_type": "execute_result"
    }
   ],
   "source": [
    "# Put all data in a DataFrame\n",
    "restaurants_ver4 = df_operatingyears.merge(restaurants_ver3, on='business_id')\n",
    "restaurants_ver4"
   ]
  },
  {
   "cell_type": "code",
   "execution_count": 33,
   "metadata": {
    "ExecuteTime": {
     "end_time": "2019-09-22T19:31:05.926443Z",
     "start_time": "2019-09-22T19:30:52.448Z"
    }
   },
   "outputs": [],
   "source": [
    "# Drop the date column since I don't need to use it again\n",
    "restaurants_ver4.drop(columns='date', inplace=True)"
   ]
  },
  {
   "cell_type": "markdown",
   "metadata": {},
   "source": [
    "This code creates a new DataFrame df_operatingyears that contains information about the first and last years in which a business received a review, and estimates the number of years that the business has been operating based on these values. It does this by using the minyear_extract and maxyear_extract functions to extract the minimum and maximum review years, respectively, and then subtracting the minimum review year from the maximum review year to find the number of operating years. Finally, it merges this information with the restaurants_ver3 DataFrame and drops the date column."
   ]
  },
  {
   "cell_type": "markdown",
   "metadata": {},
   "source": [
    "## Create a column for total review count"
   ]
  },
  {
   "cell_type": "code",
   "execution_count": 34,
   "metadata": {
    "ExecuteTime": {
     "end_time": "2019-09-29T21:33:35.615941Z",
     "start_time": "2019-09-29T21:33:14.809311Z"
    }
   },
   "outputs": [
    {
     "data": {
      "text/html": [
       "<div>\n",
       "<style scoped>\n",
       "    .dataframe tbody tr th:only-of-type {\n",
       "        vertical-align: middle;\n",
       "    }\n",
       "\n",
       "    .dataframe tbody tr th {\n",
       "        vertical-align: top;\n",
       "    }\n",
       "\n",
       "    .dataframe thead th {\n",
       "        text-align: right;\n",
       "    }\n",
       "</style>\n",
       "<table border=\"1\" class=\"dataframe\">\n",
       "  <thead>\n",
       "    <tr style=\"text-align: right;\">\n",
       "      <th></th>\n",
       "      <th>review_id</th>\n",
       "      <th>user_id</th>\n",
       "      <th>business_id</th>\n",
       "      <th>stars</th>\n",
       "      <th>useful</th>\n",
       "      <th>funny</th>\n",
       "      <th>cool</th>\n",
       "      <th>text</th>\n",
       "      <th>date</th>\n",
       "    </tr>\n",
       "  </thead>\n",
       "  <tbody>\n",
       "    <tr>\n",
       "      <th>0</th>\n",
       "      <td>KU_O5udG6zpxOg-VcAEodg</td>\n",
       "      <td>mh_-eMZ6K5RLWhZyISBhwA</td>\n",
       "      <td>XQfwVwDr-v0ZS3_CbbE5Xw</td>\n",
       "      <td>3.0</td>\n",
       "      <td>0</td>\n",
       "      <td>0</td>\n",
       "      <td>0</td>\n",
       "      <td>If you decide to eat here, just be aware it is...</td>\n",
       "      <td>2018-07-07 22:09:11</td>\n",
       "    </tr>\n",
       "    <tr>\n",
       "      <th>1</th>\n",
       "      <td>BiTunyQ73aT9WBnpR9DZGw</td>\n",
       "      <td>OyoGAe7OKpv6SyGZT5g77Q</td>\n",
       "      <td>7ATYjTIgM3jUlt4UM3IypQ</td>\n",
       "      <td>5.0</td>\n",
       "      <td>1</td>\n",
       "      <td>0</td>\n",
       "      <td>1</td>\n",
       "      <td>I've taken a lot of spin classes over the year...</td>\n",
       "      <td>2012-01-03 15:28:18</td>\n",
       "    </tr>\n",
       "  </tbody>\n",
       "</table>\n",
       "</div>"
      ],
      "text/plain": [
       "                review_id                 user_id             business_id  \\\n",
       "0  KU_O5udG6zpxOg-VcAEodg  mh_-eMZ6K5RLWhZyISBhwA  XQfwVwDr-v0ZS3_CbbE5Xw   \n",
       "1  BiTunyQ73aT9WBnpR9DZGw  OyoGAe7OKpv6SyGZT5g77Q  7ATYjTIgM3jUlt4UM3IypQ   \n",
       "\n",
       "   stars  useful  funny  cool  \\\n",
       "0    3.0       0      0     0   \n",
       "1    5.0       1      0     1   \n",
       "\n",
       "                                                text                 date  \n",
       "0  If you decide to eat here, just be aware it is...  2018-07-07 22:09:11  \n",
       "1  I've taken a lot of spin classes over the year...  2012-01-03 15:28:18  "
      ]
     },
     "execution_count": 34,
     "metadata": {},
     "output_type": "execute_result"
    }
   ],
   "source": [
    "# Load review data\n",
    "reviewdf = pd.read_pickle('../data/processed/reviewdf.pickle')\n",
    "reviewdf.head(2)"
   ]
  },
  {
   "cell_type": "code",
   "execution_count": 119,
   "metadata": {
    "ExecuteTime": {
     "end_time": "2019-09-29T21:33:58.465498Z",
     "start_time": "2019-09-29T21:33:54.718977Z"
    }
   },
   "outputs": [],
   "source": [
    "# Group reviews by business_id\n",
    "total_reviews = pd.DataFrame(reviewdf.groupby('business_id').count()['review_id'])\n",
    "total_reviews = total_reviews.reset_index()"
   ]
  },
  {
   "cell_type": "code",
   "execution_count": 120,
   "metadata": {
    "ExecuteTime": {
     "end_time": "2019-09-29T21:33:58.721586Z",
     "start_time": "2019-09-29T21:33:58.470979Z"
    }
   },
   "outputs": [],
   "source": [
    "# Put all data in a DataFrame\n",
    "restaurants_ver5 = total_reviews.merge(restaurants_ver4, on='business_id')"
   ]
  },
  {
   "cell_type": "markdown",
   "metadata": {},
   "source": [
    "This code creates a new dataframe called \"total_reviews\" which groups the review data by the business_id and counts the number of review_id's for each business. It then resets the index of this dataframe and combines it with the restaurants_ver2 dataframe using the business_id as a common key. The resulting dataframe is called \"restaurants_ver5\"."
   ]
  },
  {
   "cell_type": "markdown",
   "metadata": {},
   "source": [
    "# Create predictor variables"
   ]
  },
  {
   "cell_type": "code",
   "execution_count": 121,
   "metadata": {
    "ExecuteTime": {
     "end_time": "2019-09-22T19:31:05.932377Z",
     "start_time": "2019-09-22T19:30:59.447Z"
    }
   },
   "outputs": [],
   "source": [
    "# Create categories per business type\n",
    "# Businesses that is active and run for 3+ years: Successful\n",
    "# Businesses that is active but run for less than 3 years: Active for less than three years\n",
    "# Busienss that is closed: Failed\n",
    "predictions = []\n",
    "\n",
    "for o in range(len(restaurants_ver5)):\n",
    "    if (restaurants_ver5['estimated_opearating_years'][o] >= 3) & (restaurants_ver5['business_status'][o] == 1):\n",
    "        predictions.append('successful')\n",
    "    elif (restaurants_ver5['estimated_opearating_years'][o] < 3) & (restaurants_ver5['business_status'][o] == 1):\n",
    "        predictions.append('active for less than three years')\n",
    "    else:\n",
    "        predictions.append('failed')"
   ]
  },
  {
   "cell_type": "code",
   "execution_count": 122,
   "metadata": {
    "ExecuteTime": {
     "end_time": "2019-09-22T19:31:05.933357Z",
     "start_time": "2019-09-22T19:30:59.715Z"
    }
   },
   "outputs": [],
   "source": [
    "# Create a new column\n",
    "restaurants_ver5['prediction_col'] = predictions"
   ]
  },
  {
   "cell_type": "code",
   "execution_count": 123,
   "metadata": {
    "ExecuteTime": {
     "end_time": "2019-09-22T19:31:05.935247Z",
     "start_time": "2019-09-22T19:31:00.399Z"
    }
   },
   "outputs": [],
   "source": [
    "# Check the distribution\n",
    "total = len(restaurants_ver5['prediction_col'])\n",
    "successful_count = len(restaurants_ver5[restaurants_ver5['prediction_col'] == 'successful'])\n",
    "active_count = len(restaurants_ver5[restaurants_ver5['prediction_col'] == 'active for less than three years'])\n",
    "failed_count = len(restaurants_ver5[restaurants_ver5['prediction_col'] == 'failed'])"
   ]
  },
  {
   "cell_type": "code",
   "execution_count": 124,
   "metadata": {
    "ExecuteTime": {
     "end_time": "2019-09-22T19:31:05.940749Z",
     "start_time": "2019-09-22T19:31:01.299Z"
    }
   },
   "outputs": [],
   "source": [
    "# Remove data that are not necessary for this capstone\n",
    "# This capstone predicts 'successful' or 'failed', thus other information need to be removed\n",
    "restaurants_clean = restaurants_ver5[restaurants_ver5['prediction_col'] != 'active for less than three years']"
   ]
  },
  {
   "cell_type": "code",
   "execution_count": 131,
   "metadata": {},
   "outputs": [
    {
     "data": {
      "text/html": [
       "<div>\n",
       "<style scoped>\n",
       "    .dataframe tbody tr th:only-of-type {\n",
       "        vertical-align: middle;\n",
       "    }\n",
       "\n",
       "    .dataframe tbody tr th {\n",
       "        vertical-align: top;\n",
       "    }\n",
       "\n",
       "    .dataframe thead th {\n",
       "        text-align: right;\n",
       "    }\n",
       "</style>\n",
       "<table border=\"1\" class=\"dataframe\">\n",
       "  <thead>\n",
       "    <tr style=\"text-align: right;\">\n",
       "      <th></th>\n",
       "      <th>business_id</th>\n",
       "      <th>review_id</th>\n",
       "      <th>minyear</th>\n",
       "      <th>maxyear</th>\n",
       "      <th>estimated_opearating_years</th>\n",
       "      <th>total_checkins</th>\n",
       "      <th>total_checkinyear_count</th>\n",
       "      <th>business_name</th>\n",
       "      <th>city</th>\n",
       "      <th>US_state</th>\n",
       "      <th>...</th>\n",
       "      <th>food_type_Seafood</th>\n",
       "      <th>food_type_Soup</th>\n",
       "      <th>food_type_Steakhouses</th>\n",
       "      <th>food_type_Sushi Bars</th>\n",
       "      <th>food_type_Tacos</th>\n",
       "      <th>food_type_Tapas Bars</th>\n",
       "      <th>food_type_Uzbek</th>\n",
       "      <th>food_type_Waffles</th>\n",
       "      <th>food_type_Wraps</th>\n",
       "      <th>prediction_col</th>\n",
       "    </tr>\n",
       "  </thead>\n",
       "  <tbody>\n",
       "    <tr>\n",
       "      <th>1</th>\n",
       "      <td>--0iUa4sNDFiZFrAdIWhZQ</td>\n",
       "      <td>14</td>\n",
       "      <td>2010</td>\n",
       "      <td>2014</td>\n",
       "      <td>4</td>\n",
       "      <td>10060</td>\n",
       "      <td>5</td>\n",
       "      <td>Pupuseria Y Restaurant Melba</td>\n",
       "      <td>Clementon</td>\n",
       "      <td>NJ</td>\n",
       "      <td>...</td>\n",
       "      <td>0</td>\n",
       "      <td>0</td>\n",
       "      <td>0</td>\n",
       "      <td>0</td>\n",
       "      <td>0</td>\n",
       "      <td>0</td>\n",
       "      <td>0</td>\n",
       "      <td>0</td>\n",
       "      <td>0</td>\n",
       "      <td>successful</td>\n",
       "    </tr>\n",
       "    <tr>\n",
       "      <th>2</th>\n",
       "      <td>--7PUidqRWpRSpXebiyxTg</td>\n",
       "      <td>12</td>\n",
       "      <td>2011</td>\n",
       "      <td>2015</td>\n",
       "      <td>4</td>\n",
       "      <td>10065</td>\n",
       "      <td>5</td>\n",
       "      <td>Humpty's Family Restaurant</td>\n",
       "      <td>Edmonton</td>\n",
       "      <td>AB</td>\n",
       "      <td>...</td>\n",
       "      <td>0</td>\n",
       "      <td>0</td>\n",
       "      <td>0</td>\n",
       "      <td>0</td>\n",
       "      <td>0</td>\n",
       "      <td>0</td>\n",
       "      <td>0</td>\n",
       "      <td>0</td>\n",
       "      <td>0</td>\n",
       "      <td>failed</td>\n",
       "    </tr>\n",
       "    <tr>\n",
       "      <th>3</th>\n",
       "      <td>--8IbOsAAxjKRoYsBFL-PA</td>\n",
       "      <td>27</td>\n",
       "      <td>2015</td>\n",
       "      <td>2018</td>\n",
       "      <td>3</td>\n",
       "      <td>8066</td>\n",
       "      <td>4</td>\n",
       "      <td>The Original Italian Pie</td>\n",
       "      <td>Gentilly</td>\n",
       "      <td>LA</td>\n",
       "      <td>...</td>\n",
       "      <td>0</td>\n",
       "      <td>0</td>\n",
       "      <td>0</td>\n",
       "      <td>0</td>\n",
       "      <td>0</td>\n",
       "      <td>0</td>\n",
       "      <td>0</td>\n",
       "      <td>0</td>\n",
       "      <td>0</td>\n",
       "      <td>failed</td>\n",
       "    </tr>\n",
       "    <tr>\n",
       "      <th>4</th>\n",
       "      <td>--MbOh2O1pATkXa7xbU6LA</td>\n",
       "      <td>27</td>\n",
       "      <td>2013</td>\n",
       "      <td>2017</td>\n",
       "      <td>4</td>\n",
       "      <td>10075</td>\n",
       "      <td>5</td>\n",
       "      <td>Sweet Lizard</td>\n",
       "      <td>Tucson</td>\n",
       "      <td>AZ</td>\n",
       "      <td>...</td>\n",
       "      <td>0</td>\n",
       "      <td>0</td>\n",
       "      <td>0</td>\n",
       "      <td>0</td>\n",
       "      <td>0</td>\n",
       "      <td>0</td>\n",
       "      <td>0</td>\n",
       "      <td>0</td>\n",
       "      <td>0</td>\n",
       "      <td>failed</td>\n",
       "    </tr>\n",
       "    <tr>\n",
       "      <th>5</th>\n",
       "      <td>--SJXpAa0E-GCp2smaHf0A</td>\n",
       "      <td>13</td>\n",
       "      <td>2014</td>\n",
       "      <td>2019</td>\n",
       "      <td>5</td>\n",
       "      <td>12099</td>\n",
       "      <td>6</td>\n",
       "      <td>Winn Dixie</td>\n",
       "      <td>Riverview</td>\n",
       "      <td>FL</td>\n",
       "      <td>...</td>\n",
       "      <td>0</td>\n",
       "      <td>0</td>\n",
       "      <td>0</td>\n",
       "      <td>0</td>\n",
       "      <td>0</td>\n",
       "      <td>0</td>\n",
       "      <td>0</td>\n",
       "      <td>0</td>\n",
       "      <td>0</td>\n",
       "      <td>successful</td>\n",
       "    </tr>\n",
       "    <tr>\n",
       "      <th>...</th>\n",
       "      <td>...</td>\n",
       "      <td>...</td>\n",
       "      <td>...</td>\n",
       "      <td>...</td>\n",
       "      <td>...</td>\n",
       "      <td>...</td>\n",
       "      <td>...</td>\n",
       "      <td>...</td>\n",
       "      <td>...</td>\n",
       "      <td>...</td>\n",
       "      <td>...</td>\n",
       "      <td>...</td>\n",
       "      <td>...</td>\n",
       "      <td>...</td>\n",
       "      <td>...</td>\n",
       "      <td>...</td>\n",
       "      <td>...</td>\n",
       "      <td>...</td>\n",
       "      <td>...</td>\n",
       "      <td>...</td>\n",
       "      <td>...</td>\n",
       "    </tr>\n",
       "    <tr>\n",
       "      <th>63301</th>\n",
       "      <td>zzjCxn89a7RQo8keIOO_Ag</td>\n",
       "      <td>5</td>\n",
       "      <td>2011</td>\n",
       "      <td>2015</td>\n",
       "      <td>4</td>\n",
       "      <td>6038</td>\n",
       "      <td>3</td>\n",
       "      <td>Thriftway</td>\n",
       "      <td>Pottstown</td>\n",
       "      <td>PA</td>\n",
       "      <td>...</td>\n",
       "      <td>0</td>\n",
       "      <td>0</td>\n",
       "      <td>0</td>\n",
       "      <td>0</td>\n",
       "      <td>0</td>\n",
       "      <td>0</td>\n",
       "      <td>0</td>\n",
       "      <td>0</td>\n",
       "      <td>0</td>\n",
       "      <td>successful</td>\n",
       "    </tr>\n",
       "    <tr>\n",
       "      <th>63302</th>\n",
       "      <td>zzjFdJwXuxBOGe9JeY_EMw</td>\n",
       "      <td>48</td>\n",
       "      <td>2015</td>\n",
       "      <td>2021</td>\n",
       "      <td>6</td>\n",
       "      <td>14126</td>\n",
       "      <td>7</td>\n",
       "      <td>Taste of the Islands</td>\n",
       "      <td>Norristown</td>\n",
       "      <td>PA</td>\n",
       "      <td>...</td>\n",
       "      <td>0</td>\n",
       "      <td>0</td>\n",
       "      <td>0</td>\n",
       "      <td>0</td>\n",
       "      <td>0</td>\n",
       "      <td>0</td>\n",
       "      <td>0</td>\n",
       "      <td>0</td>\n",
       "      <td>0</td>\n",
       "      <td>successful</td>\n",
       "    </tr>\n",
       "    <tr>\n",
       "      <th>63303</th>\n",
       "      <td>zznJox6-nmXlGYNWgTDwQQ</td>\n",
       "      <td>30</td>\n",
       "      <td>2013</td>\n",
       "      <td>2021</td>\n",
       "      <td>8</td>\n",
       "      <td>14115</td>\n",
       "      <td>7</td>\n",
       "      <td>Dunkin'</td>\n",
       "      <td>Clearwater</td>\n",
       "      <td>FL</td>\n",
       "      <td>...</td>\n",
       "      <td>0</td>\n",
       "      <td>0</td>\n",
       "      <td>0</td>\n",
       "      <td>0</td>\n",
       "      <td>0</td>\n",
       "      <td>0</td>\n",
       "      <td>0</td>\n",
       "      <td>0</td>\n",
       "      <td>0</td>\n",
       "      <td>successful</td>\n",
       "    </tr>\n",
       "    <tr>\n",
       "      <th>63305</th>\n",
       "      <td>zzu6_r3DxBJuXcjnOYVdTw</td>\n",
       "      <td>8</td>\n",
       "      <td>2011</td>\n",
       "      <td>2013</td>\n",
       "      <td>2</td>\n",
       "      <td>6036</td>\n",
       "      <td>3</td>\n",
       "      <td>Cafe Diblasi</td>\n",
       "      <td>Gretna</td>\n",
       "      <td>LA</td>\n",
       "      <td>...</td>\n",
       "      <td>0</td>\n",
       "      <td>0</td>\n",
       "      <td>0</td>\n",
       "      <td>0</td>\n",
       "      <td>0</td>\n",
       "      <td>0</td>\n",
       "      <td>0</td>\n",
       "      <td>0</td>\n",
       "      <td>0</td>\n",
       "      <td>failed</td>\n",
       "    </tr>\n",
       "    <tr>\n",
       "      <th>63306</th>\n",
       "      <td>zzyx5x0Z7xXWWvWnZFuxlQ</td>\n",
       "      <td>8</td>\n",
       "      <td>2015</td>\n",
       "      <td>2015</td>\n",
       "      <td>0</td>\n",
       "      <td>2015</td>\n",
       "      <td>1</td>\n",
       "      <td>Walnut Street Pizza</td>\n",
       "      <td>Philadelphia</td>\n",
       "      <td>PA</td>\n",
       "      <td>...</td>\n",
       "      <td>0</td>\n",
       "      <td>0</td>\n",
       "      <td>0</td>\n",
       "      <td>0</td>\n",
       "      <td>0</td>\n",
       "      <td>0</td>\n",
       "      <td>0</td>\n",
       "      <td>0</td>\n",
       "      <td>0</td>\n",
       "      <td>failed</td>\n",
       "    </tr>\n",
       "  </tbody>\n",
       "</table>\n",
       "<p>55661 rows × 198 columns</p>\n",
       "</div>"
      ],
      "text/plain": [
       "                  business_id  review_id  minyear  maxyear  \\\n",
       "1      --0iUa4sNDFiZFrAdIWhZQ         14     2010     2014   \n",
       "2      --7PUidqRWpRSpXebiyxTg         12     2011     2015   \n",
       "3      --8IbOsAAxjKRoYsBFL-PA         27     2015     2018   \n",
       "4      --MbOh2O1pATkXa7xbU6LA         27     2013     2017   \n",
       "5      --SJXpAa0E-GCp2smaHf0A         13     2014     2019   \n",
       "...                       ...        ...      ...      ...   \n",
       "63301  zzjCxn89a7RQo8keIOO_Ag          5     2011     2015   \n",
       "63302  zzjFdJwXuxBOGe9JeY_EMw         48     2015     2021   \n",
       "63303  zznJox6-nmXlGYNWgTDwQQ         30     2013     2021   \n",
       "63305  zzu6_r3DxBJuXcjnOYVdTw          8     2011     2013   \n",
       "63306  zzyx5x0Z7xXWWvWnZFuxlQ          8     2015     2015   \n",
       "\n",
       "       estimated_opearating_years  total_checkins  total_checkinyear_count  \\\n",
       "1                               4           10060                        5   \n",
       "2                               4           10065                        5   \n",
       "3                               3            8066                        4   \n",
       "4                               4           10075                        5   \n",
       "5                               5           12099                        6   \n",
       "...                           ...             ...                      ...   \n",
       "63301                           4            6038                        3   \n",
       "63302                           6           14126                        7   \n",
       "63303                           8           14115                        7   \n",
       "63305                           2            6036                        3   \n",
       "63306                           0            2015                        1   \n",
       "\n",
       "                      business_name          city US_state  ...  \\\n",
       "1      Pupuseria Y Restaurant Melba     Clementon       NJ  ...   \n",
       "2        Humpty's Family Restaurant      Edmonton       AB  ...   \n",
       "3          The Original Italian Pie      Gentilly       LA  ...   \n",
       "4                      Sweet Lizard        Tucson       AZ  ...   \n",
       "5                        Winn Dixie     Riverview       FL  ...   \n",
       "...                             ...           ...      ...  ...   \n",
       "63301                     Thriftway     Pottstown       PA  ...   \n",
       "63302          Taste of the Islands    Norristown       PA  ...   \n",
       "63303                       Dunkin'    Clearwater       FL  ...   \n",
       "63305                  Cafe Diblasi        Gretna       LA  ...   \n",
       "63306           Walnut Street Pizza  Philadelphia       PA  ...   \n",
       "\n",
       "       food_type_Seafood  food_type_Soup  food_type_Steakhouses  \\\n",
       "1                      0               0                      0   \n",
       "2                      0               0                      0   \n",
       "3                      0               0                      0   \n",
       "4                      0               0                      0   \n",
       "5                      0               0                      0   \n",
       "...                  ...             ...                    ...   \n",
       "63301                  0               0                      0   \n",
       "63302                  0               0                      0   \n",
       "63303                  0               0                      0   \n",
       "63305                  0               0                      0   \n",
       "63306                  0               0                      0   \n",
       "\n",
       "       food_type_Sushi Bars  food_type_Tacos  food_type_Tapas Bars  \\\n",
       "1                         0                0                     0   \n",
       "2                         0                0                     0   \n",
       "3                         0                0                     0   \n",
       "4                         0                0                     0   \n",
       "5                         0                0                     0   \n",
       "...                     ...              ...                   ...   \n",
       "63301                     0                0                     0   \n",
       "63302                     0                0                     0   \n",
       "63303                     0                0                     0   \n",
       "63305                     0                0                     0   \n",
       "63306                     0                0                     0   \n",
       "\n",
       "       food_type_Uzbek  food_type_Waffles  food_type_Wraps  prediction_col  \n",
       "1                    0                  0                0      successful  \n",
       "2                    0                  0                0          failed  \n",
       "3                    0                  0                0          failed  \n",
       "4                    0                  0                0          failed  \n",
       "5                    0                  0                0      successful  \n",
       "...                ...                ...              ...             ...  \n",
       "63301                0                  0                0      successful  \n",
       "63302                0                  0                0      successful  \n",
       "63303                0                  0                0      successful  \n",
       "63305                0                  0                0          failed  \n",
       "63306                0                  0                0          failed  \n",
       "\n",
       "[55661 rows x 198 columns]"
      ]
     },
     "execution_count": 131,
     "metadata": {},
     "output_type": "execute_result"
    }
   ],
   "source": [
    "p_restaurantss_clean.drop(columns=['address', 'hours', 'postal_code'], inplace=True)\n",
    "p_restaurantss_clean\n"
   ]
  },
  {
   "cell_type": "code",
   "execution_count": 132,
   "metadata": {
    "ExecuteTime": {
     "end_time": "2019-09-22T19:37:18.645851Z",
     "start_time": "2019-09-22T19:37:18.635902Z"
    }
   },
   "outputs": [],
   "source": [
    "# Pickle results to avoid running all cells \n",
    "p_restaurantss_clean.to_pickle('../data/processed/restaurants_clean.pickle')"
   ]
  },
  {
   "cell_type": "code",
   "execution_count": 129,
   "metadata": {
    "ExecuteTime": {
     "end_time": "2019-09-22T19:37:45.435211Z",
     "start_time": "2019-09-22T19:37:45.331023Z"
    }
   },
   "outputs": [
    {
     "data": {
      "text/html": [
       "<div>\n",
       "<style scoped>\n",
       "    .dataframe tbody tr th:only-of-type {\n",
       "        vertical-align: middle;\n",
       "    }\n",
       "\n",
       "    .dataframe tbody tr th {\n",
       "        vertical-align: top;\n",
       "    }\n",
       "\n",
       "    .dataframe thead th {\n",
       "        text-align: right;\n",
       "    }\n",
       "</style>\n",
       "<table border=\"1\" class=\"dataframe\">\n",
       "  <thead>\n",
       "    <tr style=\"text-align: right;\">\n",
       "      <th></th>\n",
       "      <th>business_id</th>\n",
       "      <th>review_id</th>\n",
       "      <th>minyear</th>\n",
       "      <th>maxyear</th>\n",
       "      <th>estimated_opearating_years</th>\n",
       "      <th>total_checkins</th>\n",
       "      <th>total_checkinyear_count</th>\n",
       "      <th>business_name</th>\n",
       "      <th>city</th>\n",
       "      <th>US_state</th>\n",
       "      <th>...</th>\n",
       "      <th>food_type_Seafood</th>\n",
       "      <th>food_type_Soup</th>\n",
       "      <th>food_type_Steakhouses</th>\n",
       "      <th>food_type_Sushi Bars</th>\n",
       "      <th>food_type_Tacos</th>\n",
       "      <th>food_type_Tapas Bars</th>\n",
       "      <th>food_type_Uzbek</th>\n",
       "      <th>food_type_Waffles</th>\n",
       "      <th>food_type_Wraps</th>\n",
       "      <th>prediction_col</th>\n",
       "    </tr>\n",
       "  </thead>\n",
       "  <tbody>\n",
       "    <tr>\n",
       "      <th>1</th>\n",
       "      <td>--0iUa4sNDFiZFrAdIWhZQ</td>\n",
       "      <td>14</td>\n",
       "      <td>2010</td>\n",
       "      <td>2014</td>\n",
       "      <td>4</td>\n",
       "      <td>10060</td>\n",
       "      <td>5</td>\n",
       "      <td>Pupuseria Y Restaurant Melba</td>\n",
       "      <td>Clementon</td>\n",
       "      <td>NJ</td>\n",
       "      <td>...</td>\n",
       "      <td>0</td>\n",
       "      <td>0</td>\n",
       "      <td>0</td>\n",
       "      <td>0</td>\n",
       "      <td>0</td>\n",
       "      <td>0</td>\n",
       "      <td>0</td>\n",
       "      <td>0</td>\n",
       "      <td>0</td>\n",
       "      <td>successful</td>\n",
       "    </tr>\n",
       "    <tr>\n",
       "      <th>2</th>\n",
       "      <td>--7PUidqRWpRSpXebiyxTg</td>\n",
       "      <td>12</td>\n",
       "      <td>2011</td>\n",
       "      <td>2015</td>\n",
       "      <td>4</td>\n",
       "      <td>10065</td>\n",
       "      <td>5</td>\n",
       "      <td>Humpty's Family Restaurant</td>\n",
       "      <td>Edmonton</td>\n",
       "      <td>AB</td>\n",
       "      <td>...</td>\n",
       "      <td>0</td>\n",
       "      <td>0</td>\n",
       "      <td>0</td>\n",
       "      <td>0</td>\n",
       "      <td>0</td>\n",
       "      <td>0</td>\n",
       "      <td>0</td>\n",
       "      <td>0</td>\n",
       "      <td>0</td>\n",
       "      <td>failed</td>\n",
       "    </tr>\n",
       "    <tr>\n",
       "      <th>3</th>\n",
       "      <td>--8IbOsAAxjKRoYsBFL-PA</td>\n",
       "      <td>27</td>\n",
       "      <td>2015</td>\n",
       "      <td>2018</td>\n",
       "      <td>3</td>\n",
       "      <td>8066</td>\n",
       "      <td>4</td>\n",
       "      <td>The Original Italian Pie</td>\n",
       "      <td>Gentilly</td>\n",
       "      <td>LA</td>\n",
       "      <td>...</td>\n",
       "      <td>0</td>\n",
       "      <td>0</td>\n",
       "      <td>0</td>\n",
       "      <td>0</td>\n",
       "      <td>0</td>\n",
       "      <td>0</td>\n",
       "      <td>0</td>\n",
       "      <td>0</td>\n",
       "      <td>0</td>\n",
       "      <td>failed</td>\n",
       "    </tr>\n",
       "    <tr>\n",
       "      <th>4</th>\n",
       "      <td>--MbOh2O1pATkXa7xbU6LA</td>\n",
       "      <td>27</td>\n",
       "      <td>2013</td>\n",
       "      <td>2017</td>\n",
       "      <td>4</td>\n",
       "      <td>10075</td>\n",
       "      <td>5</td>\n",
       "      <td>Sweet Lizard</td>\n",
       "      <td>Tucson</td>\n",
       "      <td>AZ</td>\n",
       "      <td>...</td>\n",
       "      <td>0</td>\n",
       "      <td>0</td>\n",
       "      <td>0</td>\n",
       "      <td>0</td>\n",
       "      <td>0</td>\n",
       "      <td>0</td>\n",
       "      <td>0</td>\n",
       "      <td>0</td>\n",
       "      <td>0</td>\n",
       "      <td>failed</td>\n",
       "    </tr>\n",
       "    <tr>\n",
       "      <th>5</th>\n",
       "      <td>--SJXpAa0E-GCp2smaHf0A</td>\n",
       "      <td>13</td>\n",
       "      <td>2014</td>\n",
       "      <td>2019</td>\n",
       "      <td>5</td>\n",
       "      <td>12099</td>\n",
       "      <td>6</td>\n",
       "      <td>Winn Dixie</td>\n",
       "      <td>Riverview</td>\n",
       "      <td>FL</td>\n",
       "      <td>...</td>\n",
       "      <td>0</td>\n",
       "      <td>0</td>\n",
       "      <td>0</td>\n",
       "      <td>0</td>\n",
       "      <td>0</td>\n",
       "      <td>0</td>\n",
       "      <td>0</td>\n",
       "      <td>0</td>\n",
       "      <td>0</td>\n",
       "      <td>successful</td>\n",
       "    </tr>\n",
       "    <tr>\n",
       "      <th>...</th>\n",
       "      <td>...</td>\n",
       "      <td>...</td>\n",
       "      <td>...</td>\n",
       "      <td>...</td>\n",
       "      <td>...</td>\n",
       "      <td>...</td>\n",
       "      <td>...</td>\n",
       "      <td>...</td>\n",
       "      <td>...</td>\n",
       "      <td>...</td>\n",
       "      <td>...</td>\n",
       "      <td>...</td>\n",
       "      <td>...</td>\n",
       "      <td>...</td>\n",
       "      <td>...</td>\n",
       "      <td>...</td>\n",
       "      <td>...</td>\n",
       "      <td>...</td>\n",
       "      <td>...</td>\n",
       "      <td>...</td>\n",
       "      <td>...</td>\n",
       "    </tr>\n",
       "    <tr>\n",
       "      <th>774</th>\n",
       "      <td>-kVGt2QRNtBoZMvKeIjVug</td>\n",
       "      <td>7</td>\n",
       "      <td>2012</td>\n",
       "      <td>2014</td>\n",
       "      <td>2</td>\n",
       "      <td>6039</td>\n",
       "      <td>3</td>\n",
       "      <td>TGI Fridays</td>\n",
       "      <td>Avon</td>\n",
       "      <td>IN</td>\n",
       "      <td>...</td>\n",
       "      <td>0</td>\n",
       "      <td>0</td>\n",
       "      <td>0</td>\n",
       "      <td>0</td>\n",
       "      <td>0</td>\n",
       "      <td>0</td>\n",
       "      <td>0</td>\n",
       "      <td>0</td>\n",
       "      <td>0</td>\n",
       "      <td>failed</td>\n",
       "    </tr>\n",
       "    <tr>\n",
       "      <th>775</th>\n",
       "      <td>-kWKHxA5tcrCfbfx-_OLhQ</td>\n",
       "      <td>89</td>\n",
       "      <td>2011</td>\n",
       "      <td>2021</td>\n",
       "      <td>10</td>\n",
       "      <td>22176</td>\n",
       "      <td>11</td>\n",
       "      <td>Field House Pub &amp; Grill</td>\n",
       "      <td>Saint Louis</td>\n",
       "      <td>MO</td>\n",
       "      <td>...</td>\n",
       "      <td>0</td>\n",
       "      <td>0</td>\n",
       "      <td>0</td>\n",
       "      <td>0</td>\n",
       "      <td>0</td>\n",
       "      <td>0</td>\n",
       "      <td>0</td>\n",
       "      <td>0</td>\n",
       "      <td>0</td>\n",
       "      <td>successful</td>\n",
       "    </tr>\n",
       "    <tr>\n",
       "      <th>776</th>\n",
       "      <td>-kYESienondGaj9TFadkUg</td>\n",
       "      <td>116</td>\n",
       "      <td>2010</td>\n",
       "      <td>2017</td>\n",
       "      <td>7</td>\n",
       "      <td>16108</td>\n",
       "      <td>8</td>\n",
       "      <td>Ethio Cafe &amp; Carry Out</td>\n",
       "      <td>Philadelphia</td>\n",
       "      <td>PA</td>\n",
       "      <td>...</td>\n",
       "      <td>0</td>\n",
       "      <td>0</td>\n",
       "      <td>0</td>\n",
       "      <td>0</td>\n",
       "      <td>0</td>\n",
       "      <td>0</td>\n",
       "      <td>0</td>\n",
       "      <td>0</td>\n",
       "      <td>0</td>\n",
       "      <td>failed</td>\n",
       "    </tr>\n",
       "    <tr>\n",
       "      <th>777</th>\n",
       "      <td>-kY_HDP7IMvGl-kBIZVU4A</td>\n",
       "      <td>330</td>\n",
       "      <td>2012</td>\n",
       "      <td>2022</td>\n",
       "      <td>10</td>\n",
       "      <td>22187</td>\n",
       "      <td>11</td>\n",
       "      <td>Dune Coffee Roasters - Anacapa</td>\n",
       "      <td>Santa Barbara</td>\n",
       "      <td>CA</td>\n",
       "      <td>...</td>\n",
       "      <td>0</td>\n",
       "      <td>0</td>\n",
       "      <td>0</td>\n",
       "      <td>0</td>\n",
       "      <td>0</td>\n",
       "      <td>0</td>\n",
       "      <td>0</td>\n",
       "      <td>0</td>\n",
       "      <td>0</td>\n",
       "      <td>successful</td>\n",
       "    </tr>\n",
       "    <tr>\n",
       "      <th>778</th>\n",
       "      <td>-ka45SR1nuoxUU4eTamE_w</td>\n",
       "      <td>58</td>\n",
       "      <td>2016</td>\n",
       "      <td>2019</td>\n",
       "      <td>3</td>\n",
       "      <td>8070</td>\n",
       "      <td>4</td>\n",
       "      <td>Abington All Star Bagel</td>\n",
       "      <td>Abington</td>\n",
       "      <td>PA</td>\n",
       "      <td>...</td>\n",
       "      <td>0</td>\n",
       "      <td>0</td>\n",
       "      <td>0</td>\n",
       "      <td>0</td>\n",
       "      <td>0</td>\n",
       "      <td>0</td>\n",
       "      <td>0</td>\n",
       "      <td>0</td>\n",
       "      <td>0</td>\n",
       "      <td>failed</td>\n",
       "    </tr>\n",
       "  </tbody>\n",
       "</table>\n",
       "<p>687 rows × 198 columns</p>\n",
       "</div>"
      ],
      "text/plain": [
       "                business_id  review_id  minyear  maxyear  \\\n",
       "1    --0iUa4sNDFiZFrAdIWhZQ         14     2010     2014   \n",
       "2    --7PUidqRWpRSpXebiyxTg         12     2011     2015   \n",
       "3    --8IbOsAAxjKRoYsBFL-PA         27     2015     2018   \n",
       "4    --MbOh2O1pATkXa7xbU6LA         27     2013     2017   \n",
       "5    --SJXpAa0E-GCp2smaHf0A         13     2014     2019   \n",
       "..                      ...        ...      ...      ...   \n",
       "774  -kVGt2QRNtBoZMvKeIjVug          7     2012     2014   \n",
       "775  -kWKHxA5tcrCfbfx-_OLhQ         89     2011     2021   \n",
       "776  -kYESienondGaj9TFadkUg        116     2010     2017   \n",
       "777  -kY_HDP7IMvGl-kBIZVU4A        330     2012     2022   \n",
       "778  -ka45SR1nuoxUU4eTamE_w         58     2016     2019   \n",
       "\n",
       "     estimated_opearating_years  total_checkins  total_checkinyear_count  \\\n",
       "1                             4           10060                        5   \n",
       "2                             4           10065                        5   \n",
       "3                             3            8066                        4   \n",
       "4                             4           10075                        5   \n",
       "5                             5           12099                        6   \n",
       "..                          ...             ...                      ...   \n",
       "774                           2            6039                        3   \n",
       "775                          10           22176                       11   \n",
       "776                           7           16108                        8   \n",
       "777                          10           22187                       11   \n",
       "778                           3            8070                        4   \n",
       "\n",
       "                      business_name           city US_state  ...  \\\n",
       "1      Pupuseria Y Restaurant Melba      Clementon       NJ  ...   \n",
       "2        Humpty's Family Restaurant       Edmonton       AB  ...   \n",
       "3          The Original Italian Pie       Gentilly       LA  ...   \n",
       "4                      Sweet Lizard         Tucson       AZ  ...   \n",
       "5                        Winn Dixie      Riverview       FL  ...   \n",
       "..                              ...            ...      ...  ...   \n",
       "774                     TGI Fridays           Avon       IN  ...   \n",
       "775         Field House Pub & Grill    Saint Louis       MO  ...   \n",
       "776          Ethio Cafe & Carry Out   Philadelphia       PA  ...   \n",
       "777  Dune Coffee Roasters - Anacapa  Santa Barbara       CA  ...   \n",
       "778         Abington All Star Bagel       Abington       PA  ...   \n",
       "\n",
       "     food_type_Seafood  food_type_Soup  food_type_Steakhouses  \\\n",
       "1                    0               0                      0   \n",
       "2                    0               0                      0   \n",
       "3                    0               0                      0   \n",
       "4                    0               0                      0   \n",
       "5                    0               0                      0   \n",
       "..                 ...             ...                    ...   \n",
       "774                  0               0                      0   \n",
       "775                  0               0                      0   \n",
       "776                  0               0                      0   \n",
       "777                  0               0                      0   \n",
       "778                  0               0                      0   \n",
       "\n",
       "     food_type_Sushi Bars  food_type_Tacos  food_type_Tapas Bars  \\\n",
       "1                       0                0                     0   \n",
       "2                       0                0                     0   \n",
       "3                       0                0                     0   \n",
       "4                       0                0                     0   \n",
       "5                       0                0                     0   \n",
       "..                    ...              ...                   ...   \n",
       "774                     0                0                     0   \n",
       "775                     0                0                     0   \n",
       "776                     0                0                     0   \n",
       "777                     0                0                     0   \n",
       "778                     0                0                     0   \n",
       "\n",
       "     food_type_Uzbek  food_type_Waffles  food_type_Wraps  prediction_col  \n",
       "1                  0                  0                0      successful  \n",
       "2                  0                  0                0          failed  \n",
       "3                  0                  0                0          failed  \n",
       "4                  0                  0                0          failed  \n",
       "5                  0                  0                0      successful  \n",
       "..               ...                ...              ...             ...  \n",
       "774                0                  0                0          failed  \n",
       "775                0                  0                0      successful  \n",
       "776                0                  0                0          failed  \n",
       "777                0                  0                0      successful  \n",
       "778                0                  0                0          failed  \n",
       "\n",
       "[687 rows x 198 columns]"
      ]
     },
     "execution_count": 129,
     "metadata": {},
     "output_type": "execute_result"
    }
   ],
   "source": [
    "# Load data\n",
    "p_restaurants_clean = pd.read_pickle('../data/processed/restaurants_cleann.pickle')\n",
    "p_restaurants_clean"
   ]
  },
  {
   "cell_type": "markdown",
   "metadata": {},
   "source": [
    "The code creates a new column in the DataFrame called \"prediction_col\" that categorizes each restaurant as 'successful', 'active for less than three years', or 'failed'. The categorization is based on the estimated operating years of the restaurant and its business status. If the restaurant has been operating for at least 3 years and has a business status of 1, it is classified as 'successful'. If it has been operating for less than 3 years and has a business status of 1, it is classified as 'active for less than three years'. Otherwise, it is classified as 'failed'. The code then removes the data for restaurants classified as 'active for less than three years' and saves the resulting DataFrame as a pickle file."
   ]
  }
 ],
 "metadata": {
  "kernelspec": {
   "display_name": "practicas0",
   "language": "python",
   "name": "practicas0"
  },
  "language_info": {
   "codemirror_mode": {
    "name": "ipython",
    "version": 3
   },
   "file_extension": ".py",
   "mimetype": "text/x-python",
   "name": "python",
   "nbconvert_exporter": "python",
   "pygments_lexer": "ipython3",
   "version": "3.9.13"
  },
  "toc": {
   "base_numbering": 1,
   "nav_menu": {},
   "number_sections": true,
   "sideBar": true,
   "skip_h1_title": false,
   "title_cell": "Table of Contents",
   "title_sidebar": "Contents",
   "toc_cell": false,
   "toc_position": {
    "height": "calc(100% - 180px)",
    "left": "10px",
    "top": "150px",
    "width": "165px"
   },
   "toc_section_display": true,
   "toc_window_display": true
  }
 },
 "nbformat": 4,
 "nbformat_minor": 2
}
