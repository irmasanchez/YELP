{
 "cells": [
  {
   "cell_type": "markdown",
   "metadata": {},
   "source": [
    "## MODELS"
   ]
  },
  {
   "cell_type": "markdown",
   "metadata": {},
   "source": [
    "**Adriana de Vicente**\n",
    "\n",
    "**Irma Sánchez**"
   ]
  },
  {
   "cell_type": "markdown",
   "metadata": {},
   "source": [
    "In the present notebook, we are going to make some models for predict what are the attributes and categories are the best for a restaurant to become more popular"
   ]
  },
  {
   "cell_type": "markdown",
   "metadata": {},
   "source": [
    "# Import packages"
   ]
  },
  {
   "cell_type": "code",
   "execution_count": 1,
   "metadata": {
    "ExecuteTime": {
     "end_time": "2019-09-30T22:16:12.709686Z",
     "start_time": "2019-09-30T22:16:12.642039Z"
    }
   },
   "outputs": [],
   "source": [
    "from math import log10, floor\n",
    "import pandas as pd\n",
    "import numpy as np\n",
    "\n",
    "import scipy.stats as stats\n",
    "\n",
    "from sklearn.linear_model import LinearRegression\n",
    "\n",
    "from sklearn import datasets, metrics\n",
    "from sklearn.preprocessing import StandardScaler\n",
    "from sklearn import svm, linear_model, datasets\n",
    "from sklearn.linear_model import LogisticRegression, LogisticRegressionCV\n",
    "from sklearn.model_selection import train_test_split, cross_val_score, GridSearchCV, cross_val_predict, KFold, StratifiedKFold\n",
    "from sklearn.metrics import roc_curve, auc\n",
    "\n",
    "from sklearn.pipeline import Pipeline\n",
    "from sklearn.pipeline import make_pipeline\n",
    "from sklearn import datasets, metrics\n",
    "from sklearn.preprocessing import StandardScaler\n",
    "from sklearn.metrics import classification_report, confusion_matrix, accuracy_score\n",
    "from sklearn.model_selection import train_test_split, GridSearchCV, cross_val_score\n",
    "from sklearn.linear_model import LogisticRegression, LogisticRegressionCV\n",
    "\n",
    "from sklearn.tree import DecisionTreeClassifier\n",
    "from sklearn.tree import DecisionTreeRegressor\n",
    "from sklearn.model_selection import cross_val_score, train_test_split\n",
    "from sklearn.neighbors import KNeighborsClassifier\n",
    "from sklearn.ensemble import BaggingClassifier, GradientBoostingClassifier, GradientBoostingRegressor, AdaBoostClassifier, RandomForestRegressor\n",
    "from sklearn.datasets import make_classification\n",
    "\n",
    "from sklearn.metrics import classification_report, confusion_matrix, precision_score\n",
    "from IPython.display import Image\n",
    "from sklearn.tree import export_graphviz\n",
    "\n",
    "import pickle\n",
    "\n",
    "import warnings\n",
    "warnings.simplefilter(\"ignore\")\n",
    "\n",
    "import seaborn as sns\n",
    "import matplotlib.pyplot as plt; plt.rcdefaults()\n",
    "from matplotlib import pyplot as plt\n",
    "\n",
    "np.set_printoptions(precision=4)\n",
    "\n",
    "plt.style.use('fivethirtyeight')\n",
    "\n",
    "%matplotlib inline\n",
    "%config InlineBackend.figure_format = 'retina'"
   ]
  },
  {
   "cell_type": "markdown",
   "metadata": {},
   "source": [
    "# Load data"
   ]
  },
  {
   "cell_type": "code",
   "execution_count": 38,
   "metadata": {
    "ExecuteTime": {
     "end_time": "2019-09-30T22:17:38.371514Z",
     "start_time": "2019-09-30T22:17:38.306491Z"
    }
   },
   "outputs": [],
   "source": [
    "# Decided to use .sample - the original dataset is large and takes long time to run models\n",
    "restaurants = pd.read_pickle('../data/processed/restaurants_clean.pickle')"
   ]
  },
  {
   "cell_type": "code",
   "execution_count": 39,
   "metadata": {
    "ExecuteTime": {
     "end_time": "2019-09-30T22:17:50.709067Z",
     "start_time": "2019-09-30T22:17:50.690207Z"
    },
    "scrolled": true
   },
   "outputs": [
    {
     "data": {
      "text/html": [
       "<div>\n",
       "<style scoped>\n",
       "    .dataframe tbody tr th:only-of-type {\n",
       "        vertical-align: middle;\n",
       "    }\n",
       "\n",
       "    .dataframe tbody tr th {\n",
       "        vertical-align: top;\n",
       "    }\n",
       "\n",
       "    .dataframe thead th {\n",
       "        text-align: right;\n",
       "    }\n",
       "</style>\n",
       "<table border=\"1\" class=\"dataframe\">\n",
       "  <thead>\n",
       "    <tr style=\"text-align: right;\">\n",
       "      <th></th>\n",
       "      <th>business_id</th>\n",
       "      <th>review_id</th>\n",
       "      <th>minyear</th>\n",
       "      <th>maxyear</th>\n",
       "      <th>estimated_opearating_years</th>\n",
       "      <th>total_checkins</th>\n",
       "      <th>total_checkinyear_count</th>\n",
       "      <th>business_name</th>\n",
       "      <th>city</th>\n",
       "      <th>US_state</th>\n",
       "      <th>...</th>\n",
       "      <th>food_type_Seafood</th>\n",
       "      <th>food_type_Soup</th>\n",
       "      <th>food_type_Steakhouses</th>\n",
       "      <th>food_type_Sushi Bars</th>\n",
       "      <th>food_type_Tacos</th>\n",
       "      <th>food_type_Tapas Bars</th>\n",
       "      <th>food_type_Uzbek</th>\n",
       "      <th>food_type_Waffles</th>\n",
       "      <th>food_type_Wraps</th>\n",
       "      <th>prediction_col</th>\n",
       "    </tr>\n",
       "  </thead>\n",
       "  <tbody>\n",
       "    <tr>\n",
       "      <th>1</th>\n",
       "      <td>--0iUa4sNDFiZFrAdIWhZQ</td>\n",
       "      <td>14</td>\n",
       "      <td>2010</td>\n",
       "      <td>2014</td>\n",
       "      <td>4</td>\n",
       "      <td>10060</td>\n",
       "      <td>5</td>\n",
       "      <td>Pupuseria Y Restaurant Melba</td>\n",
       "      <td>Clementon</td>\n",
       "      <td>NJ</td>\n",
       "      <td>...</td>\n",
       "      <td>0</td>\n",
       "      <td>0</td>\n",
       "      <td>0</td>\n",
       "      <td>0</td>\n",
       "      <td>0</td>\n",
       "      <td>0</td>\n",
       "      <td>0</td>\n",
       "      <td>0</td>\n",
       "      <td>0</td>\n",
       "      <td>successful</td>\n",
       "    </tr>\n",
       "    <tr>\n",
       "      <th>2</th>\n",
       "      <td>--7PUidqRWpRSpXebiyxTg</td>\n",
       "      <td>12</td>\n",
       "      <td>2011</td>\n",
       "      <td>2015</td>\n",
       "      <td>4</td>\n",
       "      <td>10065</td>\n",
       "      <td>5</td>\n",
       "      <td>Humpty's Family Restaurant</td>\n",
       "      <td>Edmonton</td>\n",
       "      <td>AB</td>\n",
       "      <td>...</td>\n",
       "      <td>0</td>\n",
       "      <td>0</td>\n",
       "      <td>0</td>\n",
       "      <td>0</td>\n",
       "      <td>0</td>\n",
       "      <td>0</td>\n",
       "      <td>0</td>\n",
       "      <td>0</td>\n",
       "      <td>0</td>\n",
       "      <td>failed</td>\n",
       "    </tr>\n",
       "    <tr>\n",
       "      <th>3</th>\n",
       "      <td>--8IbOsAAxjKRoYsBFL-PA</td>\n",
       "      <td>27</td>\n",
       "      <td>2015</td>\n",
       "      <td>2018</td>\n",
       "      <td>3</td>\n",
       "      <td>8066</td>\n",
       "      <td>4</td>\n",
       "      <td>The Original Italian Pie</td>\n",
       "      <td>Gentilly</td>\n",
       "      <td>LA</td>\n",
       "      <td>...</td>\n",
       "      <td>0</td>\n",
       "      <td>0</td>\n",
       "      <td>0</td>\n",
       "      <td>0</td>\n",
       "      <td>0</td>\n",
       "      <td>0</td>\n",
       "      <td>0</td>\n",
       "      <td>0</td>\n",
       "      <td>0</td>\n",
       "      <td>failed</td>\n",
       "    </tr>\n",
       "    <tr>\n",
       "      <th>4</th>\n",
       "      <td>--MbOh2O1pATkXa7xbU6LA</td>\n",
       "      <td>27</td>\n",
       "      <td>2013</td>\n",
       "      <td>2017</td>\n",
       "      <td>4</td>\n",
       "      <td>10075</td>\n",
       "      <td>5</td>\n",
       "      <td>Sweet Lizard</td>\n",
       "      <td>Tucson</td>\n",
       "      <td>AZ</td>\n",
       "      <td>...</td>\n",
       "      <td>0</td>\n",
       "      <td>0</td>\n",
       "      <td>0</td>\n",
       "      <td>0</td>\n",
       "      <td>0</td>\n",
       "      <td>0</td>\n",
       "      <td>0</td>\n",
       "      <td>0</td>\n",
       "      <td>0</td>\n",
       "      <td>failed</td>\n",
       "    </tr>\n",
       "    <tr>\n",
       "      <th>5</th>\n",
       "      <td>--SJXpAa0E-GCp2smaHf0A</td>\n",
       "      <td>13</td>\n",
       "      <td>2014</td>\n",
       "      <td>2019</td>\n",
       "      <td>5</td>\n",
       "      <td>12099</td>\n",
       "      <td>6</td>\n",
       "      <td>Winn Dixie</td>\n",
       "      <td>Riverview</td>\n",
       "      <td>FL</td>\n",
       "      <td>...</td>\n",
       "      <td>0</td>\n",
       "      <td>0</td>\n",
       "      <td>0</td>\n",
       "      <td>0</td>\n",
       "      <td>0</td>\n",
       "      <td>0</td>\n",
       "      <td>0</td>\n",
       "      <td>0</td>\n",
       "      <td>0</td>\n",
       "      <td>successful</td>\n",
       "    </tr>\n",
       "  </tbody>\n",
       "</table>\n",
       "<p>5 rows × 198 columns</p>\n",
       "</div>"
      ],
      "text/plain": [
       "              business_id  review_id  minyear  maxyear  \\\n",
       "1  --0iUa4sNDFiZFrAdIWhZQ         14     2010     2014   \n",
       "2  --7PUidqRWpRSpXebiyxTg         12     2011     2015   \n",
       "3  --8IbOsAAxjKRoYsBFL-PA         27     2015     2018   \n",
       "4  --MbOh2O1pATkXa7xbU6LA         27     2013     2017   \n",
       "5  --SJXpAa0E-GCp2smaHf0A         13     2014     2019   \n",
       "\n",
       "   estimated_opearating_years  total_checkins  total_checkinyear_count  \\\n",
       "1                           4           10060                        5   \n",
       "2                           4           10065                        5   \n",
       "3                           3            8066                        4   \n",
       "4                           4           10075                        5   \n",
       "5                           5           12099                        6   \n",
       "\n",
       "                  business_name       city US_state  ...  food_type_Seafood  \\\n",
       "1  Pupuseria Y Restaurant Melba  Clementon       NJ  ...                  0   \n",
       "2    Humpty's Family Restaurant   Edmonton       AB  ...                  0   \n",
       "3      The Original Italian Pie   Gentilly       LA  ...                  0   \n",
       "4                  Sweet Lizard     Tucson       AZ  ...                  0   \n",
       "5                    Winn Dixie  Riverview       FL  ...                  0   \n",
       "\n",
       "   food_type_Soup  food_type_Steakhouses  food_type_Sushi Bars  \\\n",
       "1               0                      0                     0   \n",
       "2               0                      0                     0   \n",
       "3               0                      0                     0   \n",
       "4               0                      0                     0   \n",
       "5               0                      0                     0   \n",
       "\n",
       "   food_type_Tacos  food_type_Tapas Bars  food_type_Uzbek  food_type_Waffles  \\\n",
       "1                0                     0                0                  0   \n",
       "2                0                     0                0                  0   \n",
       "3                0                     0                0                  0   \n",
       "4                0                     0                0                  0   \n",
       "5                0                     0                0                  0   \n",
       "\n",
       "   food_type_Wraps  prediction_col  \n",
       "1                0      successful  \n",
       "2                0          failed  \n",
       "3                0          failed  \n",
       "4                0          failed  \n",
       "5                0      successful  \n",
       "\n",
       "[5 rows x 198 columns]"
      ]
     },
     "execution_count": 39,
     "metadata": {},
     "output_type": "execute_result"
    }
   ],
   "source": [
    "restaurants.head()"
   ]
  },
  {
   "cell_type": "markdown",
   "metadata": {},
   "source": [
    "# Create target variables "
   ]
  },
  {
   "cell_type": "code",
   "execution_count": 40,
   "metadata": {
    "ExecuteTime": {
     "end_time": "2019-09-30T22:17:57.421795Z",
     "start_time": "2019-09-30T22:17:57.392011Z"
    }
   },
   "outputs": [],
   "source": [
    "restaurants.prediction_col = restaurants.prediction_col.replace('successful', 1)\n",
    "restaurants.prediction_col = restaurants.prediction_col.replace('failed', 0)"
   ]
  },
  {
   "cell_type": "markdown",
   "metadata": {},
   "source": [
    "# Check data type"
   ]
  },
  {
   "cell_type": "code",
   "execution_count": 41,
   "metadata": {
    "ExecuteTime": {
     "end_time": "2019-09-30T22:17:58.724430Z",
     "start_time": "2019-09-30T22:17:58.704419Z"
    }
   },
   "outputs": [],
   "source": [
    "# Use pandas.qcut to categorise checkin count data\n",
    "restaurants['total_checkins_qcut'] = pd.qcut(restaurants['total_checkins'], 3, labels=['low', 'medium', 'high'])"
   ]
  },
  {
   "cell_type": "code",
   "execution_count": 42,
   "metadata": {
    "ExecuteTime": {
     "end_time": "2019-09-30T22:17:59.133183Z",
     "start_time": "2019-09-30T22:17:59.120531Z"
    }
   },
   "outputs": [],
   "source": [
    "# Use pandas.qcut to categorise review count data\n",
    "restaurants['review_count_per_business_qcut'] = pd.qcut(restaurants['review_count_per_business'], 3, labels=['low', 'medium', 'high'])"
   ]
  },
  {
   "cell_type": "code",
   "execution_count": 43,
   "metadata": {
    "ExecuteTime": {
     "end_time": "2019-09-30T22:17:59.497878Z",
     "start_time": "2019-09-30T22:17:59.484761Z"
    }
   },
   "outputs": [],
   "source": [
    "# Use pandas.qcut to categorise star rating data\n",
    "restaurants['average_stars_per_business_qcut'] = pd.qcut(restaurants['average_stars_per_business'], 3, labels=['low', 'medium', 'high'])"
   ]
  },
  {
   "cell_type": "code",
   "execution_count": 44,
   "metadata": {
    "ExecuteTime": {
     "end_time": "2019-09-30T22:17:59.965359Z",
     "start_time": "2019-09-30T22:17:59.951208Z"
    },
    "scrolled": true
   },
   "outputs": [],
   "source": [
    "# Check data type of all the columns\n",
    "object_col = []\n",
    "float_col = []\n",
    "int_col = []\n",
    "for column in restaurants.columns: \n",
    "    if restaurants[column].dtype == 'O':\n",
    "        object_col.append(column)\n",
    "    elif restaurants[column].dtype == 'float64':\n",
    "        float_col.append(column)\n",
    "    elif restaurants[column].dtype == 'int64':\n",
    "        int_col.append(column)\n",
    "    else:\n",
    "        pass\n"
   ]
  },
  {
   "cell_type": "markdown",
   "metadata": {},
   "source": [
    "# Check correlation values"
   ]
  },
  {
   "cell_type": "code",
   "execution_count": 45,
   "metadata": {
    "ExecuteTime": {
     "end_time": "2019-09-30T22:18:21.466321Z",
     "start_time": "2019-09-30T22:18:18.521147Z"
    }
   },
   "outputs": [
    {
     "data": {
      "text/html": [
       "<div>\n",
       "<style scoped>\n",
       "    .dataframe tbody tr th:only-of-type {\n",
       "        vertical-align: middle;\n",
       "    }\n",
       "\n",
       "    .dataframe tbody tr th {\n",
       "        vertical-align: top;\n",
       "    }\n",
       "\n",
       "    .dataframe thead th {\n",
       "        text-align: right;\n",
       "    }\n",
       "</style>\n",
       "<table border=\"1\" class=\"dataframe\">\n",
       "  <thead>\n",
       "    <tr style=\"text-align: right;\">\n",
       "      <th></th>\n",
       "      <th>variable_1</th>\n",
       "      <th>variable_2</th>\n",
       "      <th>value</th>\n",
       "    </tr>\n",
       "  </thead>\n",
       "  <tbody>\n",
       "    <tr>\n",
       "      <th>37635</th>\n",
       "      <td>prediction_col</td>\n",
       "      <td>prediction_col</td>\n",
       "      <td>1.000000</td>\n",
       "    </tr>\n",
       "    <tr>\n",
       "      <th>37452</th>\n",
       "      <td>prediction_col</td>\n",
       "      <td>business_status</td>\n",
       "      <td>1.000000</td>\n",
       "    </tr>\n",
       "    <tr>\n",
       "      <th>37444</th>\n",
       "      <td>prediction_col</td>\n",
       "      <td>maxyear</td>\n",
       "      <td>0.720997</td>\n",
       "    </tr>\n",
       "    <tr>\n",
       "      <th>37445</th>\n",
       "      <td>prediction_col</td>\n",
       "      <td>estimated_opearating_years</td>\n",
       "      <td>0.607853</td>\n",
       "    </tr>\n",
       "    <tr>\n",
       "      <th>37446</th>\n",
       "      <td>prediction_col</td>\n",
       "      <td>total_checkins</td>\n",
       "      <td>0.539515</td>\n",
       "    </tr>\n",
       "  </tbody>\n",
       "</table>\n",
       "</div>"
      ],
      "text/plain": [
       "           variable_1                  variable_2     value\n",
       "37635  prediction_col              prediction_col  1.000000\n",
       "37452  prediction_col             business_status  1.000000\n",
       "37444  prediction_col                     maxyear  0.720997\n",
       "37445  prediction_col  estimated_opearating_years  0.607853\n",
       "37446  prediction_col              total_checkins  0.539515"
      ]
     },
     "execution_count": 45,
     "metadata": {},
     "output_type": "execute_result"
    }
   ],
   "source": [
    "crr_matrix = restaurants.corr().abs()\n",
    "\n",
    "# Too big to show on heatmap thus I created a DataFrame\n",
    "crr_matrix2 = crr_matrix.unstack()\n",
    "crr_df = pd.DataFrame(crr_matrix2).reset_index()\n",
    "crr_df.columns = ['variable_1', 'variable_2', 'value']\n",
    "crr_df[crr_df.variable_1.str.contains('prediction_col') == True].sort_values(by='value', ascending=False).head()"
   ]
  },
  {
   "cell_type": "markdown",
   "metadata": {
    "ExecuteTime": {
     "end_time": "2019-09-24T11:04:36.545084Z",
     "start_time": "2019-09-24T11:04:36.541901Z"
    }
   },
   "source": [
    "# Remove columns unnecessary for building models"
   ]
  },
  {
   "cell_type": "code",
   "execution_count": 46,
   "metadata": {
    "ExecuteTime": {
     "end_time": "2019-09-30T22:18:45.519739Z",
     "start_time": "2019-09-30T22:18:45.515341Z"
    }
   },
   "outputs": [],
   "source": [
    "# List up columns to drop\n",
    "columns_to_drop = [\n",
    "           'US_state', 'business_type_Restaurants', 'business_id', 'city', 'business_name', \n",
    "           'latitude', 'longitude', 'average_stars_per_business',\n",
    "           'review_id', 'minyear', 'maxyear', 'estimated_opearating_years', \n",
    "           'total_checkins', 'total_checkinyear_count', \n",
    "           'acceptsinsurance_true', 'acceptsinsurance_none',\n",
    "           'business_status', 'review_count_per_business', \n",
    "           ]"
   ]
  },
  {
   "cell_type": "code",
   "execution_count": 47,
   "metadata": {
    "ExecuteTime": {
     "end_time": "2019-09-30T22:18:46.142599Z",
     "start_time": "2019-09-30T22:18:46.107285Z"
    }
   },
   "outputs": [],
   "source": [
    "# Drop the columns\n",
    "restaurants.drop(columns_to_drop, axis=1, inplace=True)"
   ]
  },
  {
   "cell_type": "code",
   "execution_count": 12,
   "metadata": {},
   "outputs": [
    {
     "data": {
      "text/html": [
       "<div>\n",
       "<style scoped>\n",
       "    .dataframe tbody tr th:only-of-type {\n",
       "        vertical-align: middle;\n",
       "    }\n",
       "\n",
       "    .dataframe tbody tr th {\n",
       "        vertical-align: top;\n",
       "    }\n",
       "\n",
       "    .dataframe thead th {\n",
       "        text-align: right;\n",
       "    }\n",
       "</style>\n",
       "<table border=\"1\" class=\"dataframe\">\n",
       "  <thead>\n",
       "    <tr style=\"text-align: right;\">\n",
       "      <th></th>\n",
       "      <th>alcohol_beer_and_wine</th>\n",
       "      <th>alcohol_full_bar</th>\n",
       "      <th>alcohol_not_available</th>\n",
       "      <th>alcohol_none</th>\n",
       "      <th>byob_none</th>\n",
       "      <th>byob_true</th>\n",
       "      <th>byobcorkage__no_</th>\n",
       "      <th>byobcorkage__yes_corkage_</th>\n",
       "      <th>byobcorkage__yes_free_</th>\n",
       "      <th>byobcorkage_none</th>\n",
       "      <th>...</th>\n",
       "      <th>food_type_Sushi Bars</th>\n",
       "      <th>food_type_Tacos</th>\n",
       "      <th>food_type_Tapas Bars</th>\n",
       "      <th>food_type_Uzbek</th>\n",
       "      <th>food_type_Waffles</th>\n",
       "      <th>food_type_Wraps</th>\n",
       "      <th>prediction_col</th>\n",
       "      <th>total_checkins_qcut</th>\n",
       "      <th>review_count_per_business_qcut</th>\n",
       "      <th>average_stars_per_business_qcut</th>\n",
       "    </tr>\n",
       "  </thead>\n",
       "  <tbody>\n",
       "    <tr>\n",
       "      <th>1</th>\n",
       "      <td>0.0</td>\n",
       "      <td>0.0</td>\n",
       "      <td>0.0</td>\n",
       "      <td>0.0</td>\n",
       "      <td>0.0</td>\n",
       "      <td>0.0</td>\n",
       "      <td>0.0</td>\n",
       "      <td>0.0</td>\n",
       "      <td>0.0</td>\n",
       "      <td>0.0</td>\n",
       "      <td>...</td>\n",
       "      <td>0</td>\n",
       "      <td>0</td>\n",
       "      <td>0</td>\n",
       "      <td>0</td>\n",
       "      <td>0</td>\n",
       "      <td>0</td>\n",
       "      <td>1</td>\n",
       "      <td>low</td>\n",
       "      <td>low</td>\n",
       "      <td>low</td>\n",
       "    </tr>\n",
       "    <tr>\n",
       "      <th>2</th>\n",
       "      <td>0.0</td>\n",
       "      <td>0.0</td>\n",
       "      <td>0.0</td>\n",
       "      <td>0.0</td>\n",
       "      <td>0.0</td>\n",
       "      <td>0.0</td>\n",
       "      <td>0.0</td>\n",
       "      <td>0.0</td>\n",
       "      <td>0.0</td>\n",
       "      <td>0.0</td>\n",
       "      <td>...</td>\n",
       "      <td>0</td>\n",
       "      <td>0</td>\n",
       "      <td>0</td>\n",
       "      <td>0</td>\n",
       "      <td>0</td>\n",
       "      <td>0</td>\n",
       "      <td>0</td>\n",
       "      <td>low</td>\n",
       "      <td>low</td>\n",
       "      <td>low</td>\n",
       "    </tr>\n",
       "    <tr>\n",
       "      <th>3</th>\n",
       "      <td>0.0</td>\n",
       "      <td>0.0</td>\n",
       "      <td>1.0</td>\n",
       "      <td>0.0</td>\n",
       "      <td>0.0</td>\n",
       "      <td>0.0</td>\n",
       "      <td>0.0</td>\n",
       "      <td>0.0</td>\n",
       "      <td>0.0</td>\n",
       "      <td>0.0</td>\n",
       "      <td>...</td>\n",
       "      <td>0</td>\n",
       "      <td>0</td>\n",
       "      <td>0</td>\n",
       "      <td>0</td>\n",
       "      <td>0</td>\n",
       "      <td>0</td>\n",
       "      <td>0</td>\n",
       "      <td>low</td>\n",
       "      <td>medium</td>\n",
       "      <td>low</td>\n",
       "    </tr>\n",
       "    <tr>\n",
       "      <th>4</th>\n",
       "      <td>0.0</td>\n",
       "      <td>0.0</td>\n",
       "      <td>0.0</td>\n",
       "      <td>0.0</td>\n",
       "      <td>0.0</td>\n",
       "      <td>0.0</td>\n",
       "      <td>0.0</td>\n",
       "      <td>0.0</td>\n",
       "      <td>0.0</td>\n",
       "      <td>0.0</td>\n",
       "      <td>...</td>\n",
       "      <td>0</td>\n",
       "      <td>0</td>\n",
       "      <td>0</td>\n",
       "      <td>0</td>\n",
       "      <td>0</td>\n",
       "      <td>0</td>\n",
       "      <td>0</td>\n",
       "      <td>low</td>\n",
       "      <td>medium</td>\n",
       "      <td>medium</td>\n",
       "    </tr>\n",
       "    <tr>\n",
       "      <th>5</th>\n",
       "      <td>0.0</td>\n",
       "      <td>0.0</td>\n",
       "      <td>0.0</td>\n",
       "      <td>0.0</td>\n",
       "      <td>0.0</td>\n",
       "      <td>0.0</td>\n",
       "      <td>0.0</td>\n",
       "      <td>0.0</td>\n",
       "      <td>0.0</td>\n",
       "      <td>0.0</td>\n",
       "      <td>...</td>\n",
       "      <td>0</td>\n",
       "      <td>0</td>\n",
       "      <td>0</td>\n",
       "      <td>0</td>\n",
       "      <td>0</td>\n",
       "      <td>0</td>\n",
       "      <td>1</td>\n",
       "      <td>medium</td>\n",
       "      <td>low</td>\n",
       "      <td>low</td>\n",
       "    </tr>\n",
       "    <tr>\n",
       "      <th>...</th>\n",
       "      <td>...</td>\n",
       "      <td>...</td>\n",
       "      <td>...</td>\n",
       "      <td>...</td>\n",
       "      <td>...</td>\n",
       "      <td>...</td>\n",
       "      <td>...</td>\n",
       "      <td>...</td>\n",
       "      <td>...</td>\n",
       "      <td>...</td>\n",
       "      <td>...</td>\n",
       "      <td>...</td>\n",
       "      <td>...</td>\n",
       "      <td>...</td>\n",
       "      <td>...</td>\n",
       "      <td>...</td>\n",
       "      <td>...</td>\n",
       "      <td>...</td>\n",
       "      <td>...</td>\n",
       "      <td>...</td>\n",
       "      <td>...</td>\n",
       "    </tr>\n",
       "    <tr>\n",
       "      <th>774</th>\n",
       "      <td>0.0</td>\n",
       "      <td>0.0</td>\n",
       "      <td>0.0</td>\n",
       "      <td>0.0</td>\n",
       "      <td>0.0</td>\n",
       "      <td>0.0</td>\n",
       "      <td>0.0</td>\n",
       "      <td>0.0</td>\n",
       "      <td>0.0</td>\n",
       "      <td>0.0</td>\n",
       "      <td>...</td>\n",
       "      <td>0</td>\n",
       "      <td>0</td>\n",
       "      <td>0</td>\n",
       "      <td>0</td>\n",
       "      <td>0</td>\n",
       "      <td>0</td>\n",
       "      <td>0</td>\n",
       "      <td>low</td>\n",
       "      <td>low</td>\n",
       "      <td>low</td>\n",
       "    </tr>\n",
       "    <tr>\n",
       "      <th>775</th>\n",
       "      <td>0.0</td>\n",
       "      <td>0.0</td>\n",
       "      <td>0.0</td>\n",
       "      <td>0.0</td>\n",
       "      <td>0.0</td>\n",
       "      <td>0.0</td>\n",
       "      <td>0.0</td>\n",
       "      <td>0.0</td>\n",
       "      <td>0.0</td>\n",
       "      <td>0.0</td>\n",
       "      <td>...</td>\n",
       "      <td>0</td>\n",
       "      <td>0</td>\n",
       "      <td>0</td>\n",
       "      <td>0</td>\n",
       "      <td>0</td>\n",
       "      <td>0</td>\n",
       "      <td>1</td>\n",
       "      <td>high</td>\n",
       "      <td>high</td>\n",
       "      <td>low</td>\n",
       "    </tr>\n",
       "    <tr>\n",
       "      <th>776</th>\n",
       "      <td>0.0</td>\n",
       "      <td>0.0</td>\n",
       "      <td>0.0</td>\n",
       "      <td>0.0</td>\n",
       "      <td>0.0</td>\n",
       "      <td>0.0</td>\n",
       "      <td>0.0</td>\n",
       "      <td>0.0</td>\n",
       "      <td>0.0</td>\n",
       "      <td>0.0</td>\n",
       "      <td>...</td>\n",
       "      <td>0</td>\n",
       "      <td>0</td>\n",
       "      <td>0</td>\n",
       "      <td>0</td>\n",
       "      <td>0</td>\n",
       "      <td>0</td>\n",
       "      <td>0</td>\n",
       "      <td>medium</td>\n",
       "      <td>high</td>\n",
       "      <td>medium</td>\n",
       "    </tr>\n",
       "    <tr>\n",
       "      <th>777</th>\n",
       "      <td>0.0</td>\n",
       "      <td>0.0</td>\n",
       "      <td>0.0</td>\n",
       "      <td>0.0</td>\n",
       "      <td>0.0</td>\n",
       "      <td>0.0</td>\n",
       "      <td>0.0</td>\n",
       "      <td>0.0</td>\n",
       "      <td>0.0</td>\n",
       "      <td>0.0</td>\n",
       "      <td>...</td>\n",
       "      <td>0</td>\n",
       "      <td>0</td>\n",
       "      <td>0</td>\n",
       "      <td>0</td>\n",
       "      <td>0</td>\n",
       "      <td>0</td>\n",
       "      <td>1</td>\n",
       "      <td>high</td>\n",
       "      <td>high</td>\n",
       "      <td>medium</td>\n",
       "    </tr>\n",
       "    <tr>\n",
       "      <th>778</th>\n",
       "      <td>0.0</td>\n",
       "      <td>0.0</td>\n",
       "      <td>0.0</td>\n",
       "      <td>0.0</td>\n",
       "      <td>0.0</td>\n",
       "      <td>0.0</td>\n",
       "      <td>0.0</td>\n",
       "      <td>0.0</td>\n",
       "      <td>0.0</td>\n",
       "      <td>0.0</td>\n",
       "      <td>...</td>\n",
       "      <td>0</td>\n",
       "      <td>0</td>\n",
       "      <td>0</td>\n",
       "      <td>0</td>\n",
       "      <td>0</td>\n",
       "      <td>0</td>\n",
       "      <td>0</td>\n",
       "      <td>low</td>\n",
       "      <td>medium</td>\n",
       "      <td>high</td>\n",
       "    </tr>\n",
       "  </tbody>\n",
       "</table>\n",
       "<p>687 rows × 183 columns</p>\n",
       "</div>"
      ],
      "text/plain": [
       "     alcohol_beer_and_wine  alcohol_full_bar  alcohol_not_available  \\\n",
       "1                      0.0               0.0                    0.0   \n",
       "2                      0.0               0.0                    0.0   \n",
       "3                      0.0               0.0                    1.0   \n",
       "4                      0.0               0.0                    0.0   \n",
       "5                      0.0               0.0                    0.0   \n",
       "..                     ...               ...                    ...   \n",
       "774                    0.0               0.0                    0.0   \n",
       "775                    0.0               0.0                    0.0   \n",
       "776                    0.0               0.0                    0.0   \n",
       "777                    0.0               0.0                    0.0   \n",
       "778                    0.0               0.0                    0.0   \n",
       "\n",
       "     alcohol_none  byob_none  byob_true  byobcorkage__no_  \\\n",
       "1             0.0        0.0        0.0               0.0   \n",
       "2             0.0        0.0        0.0               0.0   \n",
       "3             0.0        0.0        0.0               0.0   \n",
       "4             0.0        0.0        0.0               0.0   \n",
       "5             0.0        0.0        0.0               0.0   \n",
       "..            ...        ...        ...               ...   \n",
       "774           0.0        0.0        0.0               0.0   \n",
       "775           0.0        0.0        0.0               0.0   \n",
       "776           0.0        0.0        0.0               0.0   \n",
       "777           0.0        0.0        0.0               0.0   \n",
       "778           0.0        0.0        0.0               0.0   \n",
       "\n",
       "     byobcorkage__yes_corkage_  byobcorkage__yes_free_  byobcorkage_none  ...  \\\n",
       "1                          0.0                     0.0               0.0  ...   \n",
       "2                          0.0                     0.0               0.0  ...   \n",
       "3                          0.0                     0.0               0.0  ...   \n",
       "4                          0.0                     0.0               0.0  ...   \n",
       "5                          0.0                     0.0               0.0  ...   \n",
       "..                         ...                     ...               ...  ...   \n",
       "774                        0.0                     0.0               0.0  ...   \n",
       "775                        0.0                     0.0               0.0  ...   \n",
       "776                        0.0                     0.0               0.0  ...   \n",
       "777                        0.0                     0.0               0.0  ...   \n",
       "778                        0.0                     0.0               0.0  ...   \n",
       "\n",
       "     food_type_Sushi Bars  food_type_Tacos  food_type_Tapas Bars  \\\n",
       "1                       0                0                     0   \n",
       "2                       0                0                     0   \n",
       "3                       0                0                     0   \n",
       "4                       0                0                     0   \n",
       "5                       0                0                     0   \n",
       "..                    ...              ...                   ...   \n",
       "774                     0                0                     0   \n",
       "775                     0                0                     0   \n",
       "776                     0                0                     0   \n",
       "777                     0                0                     0   \n",
       "778                     0                0                     0   \n",
       "\n",
       "     food_type_Uzbek  food_type_Waffles  food_type_Wraps  prediction_col  \\\n",
       "1                  0                  0                0               1   \n",
       "2                  0                  0                0               0   \n",
       "3                  0                  0                0               0   \n",
       "4                  0                  0                0               0   \n",
       "5                  0                  0                0               1   \n",
       "..               ...                ...              ...             ...   \n",
       "774                0                  0                0               0   \n",
       "775                0                  0                0               1   \n",
       "776                0                  0                0               0   \n",
       "777                0                  0                0               1   \n",
       "778                0                  0                0               0   \n",
       "\n",
       "     total_checkins_qcut  review_count_per_business_qcut  \\\n",
       "1                    low                             low   \n",
       "2                    low                             low   \n",
       "3                    low                          medium   \n",
       "4                    low                          medium   \n",
       "5                 medium                             low   \n",
       "..                   ...                             ...   \n",
       "774                  low                             low   \n",
       "775                 high                            high   \n",
       "776               medium                            high   \n",
       "777                 high                            high   \n",
       "778                  low                          medium   \n",
       "\n",
       "     average_stars_per_business_qcut  \n",
       "1                                low  \n",
       "2                                low  \n",
       "3                                low  \n",
       "4                             medium  \n",
       "5                                low  \n",
       "..                               ...  \n",
       "774                              low  \n",
       "775                              low  \n",
       "776                           medium  \n",
       "777                           medium  \n",
       "778                             high  \n",
       "\n",
       "[687 rows x 183 columns]"
      ]
     },
     "execution_count": 12,
     "metadata": {},
     "output_type": "execute_result"
    }
   ],
   "source": [
    "restaurants"
   ]
  },
  {
   "cell_type": "markdown",
   "metadata": {},
   "source": [
    "# Dummify columns"
   ]
  },
  {
   "cell_type": "code",
   "execution_count": 48,
   "metadata": {
    "ExecuteTime": {
     "end_time": "2019-09-30T22:18:47.720125Z",
     "start_time": "2019-09-30T22:18:47.638561Z"
    }
   },
   "outputs": [],
   "source": [
    "restaurants = pd.get_dummies(restaurants, columns=['total_checkins_qcut', 'review_count_per_business_qcut', 'average_stars_per_business_qcut'], drop_first=True)"
   ]
  },
  {
   "cell_type": "markdown",
   "metadata": {},
   "source": [
    "# Pickle results to save time"
   ]
  },
  {
   "cell_type": "code",
   "execution_count": 49,
   "metadata": {
    "ExecuteTime": {
     "end_time": "2019-09-30T22:18:57.145235Z",
     "start_time": "2019-09-30T22:18:57.074289Z"
    }
   },
   "outputs": [],
   "source": [
    "# Pickle results to avoid running all the above code again - it took hours to finish running\n",
    "restaurants.to_pickle('../data/processed/restaurants_for_classification_models.pickle')"
   ]
  },
  {
   "cell_type": "code",
   "execution_count": 68,
   "metadata": {
    "ExecuteTime": {
     "end_time": "2019-09-30T22:19:18.810942Z",
     "start_time": "2019-09-30T22:19:18.776680Z"
    }
   },
   "outputs": [],
   "source": [
    "# Load data\n",
    "restaurants = pd.read_pickle('../data/processed/restaurants_for_classification_models.pickle')"
   ]
  },
  {
   "cell_type": "code",
   "execution_count": 69,
   "metadata": {
    "ExecuteTime": {
     "end_time": "2019-09-30T22:19:19.275686Z",
     "start_time": "2019-09-30T22:19:19.251043Z"
    }
   },
   "outputs": [
    {
     "data": {
      "text/html": [
       "<div>\n",
       "<style scoped>\n",
       "    .dataframe tbody tr th:only-of-type {\n",
       "        vertical-align: middle;\n",
       "    }\n",
       "\n",
       "    .dataframe tbody tr th {\n",
       "        vertical-align: top;\n",
       "    }\n",
       "\n",
       "    .dataframe thead th {\n",
       "        text-align: right;\n",
       "    }\n",
       "</style>\n",
       "<table border=\"1\" class=\"dataframe\">\n",
       "  <thead>\n",
       "    <tr style=\"text-align: right;\">\n",
       "      <th></th>\n",
       "      <th>alcohol_beer_and_wine</th>\n",
       "      <th>alcohol_full_bar</th>\n",
       "      <th>alcohol_not_available</th>\n",
       "      <th>alcohol_none</th>\n",
       "      <th>byob_none</th>\n",
       "      <th>byob_true</th>\n",
       "      <th>byobcorkage__no_</th>\n",
       "      <th>byobcorkage__yes_corkage_</th>\n",
       "      <th>byobcorkage__yes_free_</th>\n",
       "      <th>byobcorkage_none</th>\n",
       "      <th>...</th>\n",
       "      <th>food_type_Uzbek</th>\n",
       "      <th>food_type_Waffles</th>\n",
       "      <th>food_type_Wraps</th>\n",
       "      <th>prediction_col</th>\n",
       "      <th>total_checkins_qcut_medium</th>\n",
       "      <th>total_checkins_qcut_high</th>\n",
       "      <th>review_count_per_business_qcut_medium</th>\n",
       "      <th>review_count_per_business_qcut_high</th>\n",
       "      <th>average_stars_per_business_qcut_medium</th>\n",
       "      <th>average_stars_per_business_qcut_high</th>\n",
       "    </tr>\n",
       "  </thead>\n",
       "  <tbody>\n",
       "    <tr>\n",
       "      <th>1</th>\n",
       "      <td>0.0</td>\n",
       "      <td>0.0</td>\n",
       "      <td>0.0</td>\n",
       "      <td>0.0</td>\n",
       "      <td>0.0</td>\n",
       "      <td>0.0</td>\n",
       "      <td>0.0</td>\n",
       "      <td>0.0</td>\n",
       "      <td>0.0</td>\n",
       "      <td>0.0</td>\n",
       "      <td>...</td>\n",
       "      <td>0</td>\n",
       "      <td>0</td>\n",
       "      <td>0</td>\n",
       "      <td>1</td>\n",
       "      <td>0</td>\n",
       "      <td>0</td>\n",
       "      <td>0</td>\n",
       "      <td>0</td>\n",
       "      <td>0</td>\n",
       "      <td>0</td>\n",
       "    </tr>\n",
       "    <tr>\n",
       "      <th>2</th>\n",
       "      <td>0.0</td>\n",
       "      <td>0.0</td>\n",
       "      <td>0.0</td>\n",
       "      <td>0.0</td>\n",
       "      <td>0.0</td>\n",
       "      <td>0.0</td>\n",
       "      <td>0.0</td>\n",
       "      <td>0.0</td>\n",
       "      <td>0.0</td>\n",
       "      <td>0.0</td>\n",
       "      <td>...</td>\n",
       "      <td>0</td>\n",
       "      <td>0</td>\n",
       "      <td>0</td>\n",
       "      <td>0</td>\n",
       "      <td>0</td>\n",
       "      <td>0</td>\n",
       "      <td>0</td>\n",
       "      <td>0</td>\n",
       "      <td>0</td>\n",
       "      <td>0</td>\n",
       "    </tr>\n",
       "    <tr>\n",
       "      <th>3</th>\n",
       "      <td>0.0</td>\n",
       "      <td>0.0</td>\n",
       "      <td>1.0</td>\n",
       "      <td>0.0</td>\n",
       "      <td>0.0</td>\n",
       "      <td>0.0</td>\n",
       "      <td>0.0</td>\n",
       "      <td>0.0</td>\n",
       "      <td>0.0</td>\n",
       "      <td>0.0</td>\n",
       "      <td>...</td>\n",
       "      <td>0</td>\n",
       "      <td>0</td>\n",
       "      <td>0</td>\n",
       "      <td>0</td>\n",
       "      <td>0</td>\n",
       "      <td>0</td>\n",
       "      <td>1</td>\n",
       "      <td>0</td>\n",
       "      <td>0</td>\n",
       "      <td>0</td>\n",
       "    </tr>\n",
       "    <tr>\n",
       "      <th>4</th>\n",
       "      <td>0.0</td>\n",
       "      <td>0.0</td>\n",
       "      <td>0.0</td>\n",
       "      <td>0.0</td>\n",
       "      <td>0.0</td>\n",
       "      <td>0.0</td>\n",
       "      <td>0.0</td>\n",
       "      <td>0.0</td>\n",
       "      <td>0.0</td>\n",
       "      <td>0.0</td>\n",
       "      <td>...</td>\n",
       "      <td>0</td>\n",
       "      <td>0</td>\n",
       "      <td>0</td>\n",
       "      <td>0</td>\n",
       "      <td>0</td>\n",
       "      <td>0</td>\n",
       "      <td>1</td>\n",
       "      <td>0</td>\n",
       "      <td>1</td>\n",
       "      <td>0</td>\n",
       "    </tr>\n",
       "    <tr>\n",
       "      <th>5</th>\n",
       "      <td>0.0</td>\n",
       "      <td>0.0</td>\n",
       "      <td>0.0</td>\n",
       "      <td>0.0</td>\n",
       "      <td>0.0</td>\n",
       "      <td>0.0</td>\n",
       "      <td>0.0</td>\n",
       "      <td>0.0</td>\n",
       "      <td>0.0</td>\n",
       "      <td>0.0</td>\n",
       "      <td>...</td>\n",
       "      <td>0</td>\n",
       "      <td>0</td>\n",
       "      <td>0</td>\n",
       "      <td>1</td>\n",
       "      <td>1</td>\n",
       "      <td>0</td>\n",
       "      <td>0</td>\n",
       "      <td>0</td>\n",
       "      <td>0</td>\n",
       "      <td>0</td>\n",
       "    </tr>\n",
       "  </tbody>\n",
       "</table>\n",
       "<p>5 rows × 186 columns</p>\n",
       "</div>"
      ],
      "text/plain": [
       "   alcohol_beer_and_wine  alcohol_full_bar  alcohol_not_available  \\\n",
       "1                    0.0               0.0                    0.0   \n",
       "2                    0.0               0.0                    0.0   \n",
       "3                    0.0               0.0                    1.0   \n",
       "4                    0.0               0.0                    0.0   \n",
       "5                    0.0               0.0                    0.0   \n",
       "\n",
       "   alcohol_none  byob_none  byob_true  byobcorkage__no_  \\\n",
       "1           0.0        0.0        0.0               0.0   \n",
       "2           0.0        0.0        0.0               0.0   \n",
       "3           0.0        0.0        0.0               0.0   \n",
       "4           0.0        0.0        0.0               0.0   \n",
       "5           0.0        0.0        0.0               0.0   \n",
       "\n",
       "   byobcorkage__yes_corkage_  byobcorkage__yes_free_  byobcorkage_none  ...  \\\n",
       "1                        0.0                     0.0               0.0  ...   \n",
       "2                        0.0                     0.0               0.0  ...   \n",
       "3                        0.0                     0.0               0.0  ...   \n",
       "4                        0.0                     0.0               0.0  ...   \n",
       "5                        0.0                     0.0               0.0  ...   \n",
       "\n",
       "   food_type_Uzbek  food_type_Waffles  food_type_Wraps  prediction_col  \\\n",
       "1                0                  0                0               1   \n",
       "2                0                  0                0               0   \n",
       "3                0                  0                0               0   \n",
       "4                0                  0                0               0   \n",
       "5                0                  0                0               1   \n",
       "\n",
       "   total_checkins_qcut_medium  total_checkins_qcut_high  \\\n",
       "1                           0                         0   \n",
       "2                           0                         0   \n",
       "3                           0                         0   \n",
       "4                           0                         0   \n",
       "5                           1                         0   \n",
       "\n",
       "   review_count_per_business_qcut_medium  review_count_per_business_qcut_high  \\\n",
       "1                                      0                                    0   \n",
       "2                                      0                                    0   \n",
       "3                                      1                                    0   \n",
       "4                                      1                                    0   \n",
       "5                                      0                                    0   \n",
       "\n",
       "   average_stars_per_business_qcut_medium  \\\n",
       "1                                       0   \n",
       "2                                       0   \n",
       "3                                       0   \n",
       "4                                       1   \n",
       "5                                       0   \n",
       "\n",
       "   average_stars_per_business_qcut_high  \n",
       "1                                     0  \n",
       "2                                     0  \n",
       "3                                     0  \n",
       "4                                     0  \n",
       "5                                     0  \n",
       "\n",
       "[5 rows x 186 columns]"
      ]
     },
     "execution_count": 69,
     "metadata": {},
     "output_type": "execute_result"
    }
   ],
   "source": [
    "# Check the data\n",
    "restaurants.head()"
   ]
  },
  {
   "cell_type": "markdown",
   "metadata": {},
   "source": [
    "# Prepare data to build models"
   ]
  },
  {
   "cell_type": "code",
   "execution_count": 71,
   "metadata": {
    "ExecuteTime": {
     "end_time": "2019-09-30T22:19:29.517637Z",
     "start_time": "2019-09-30T22:19:29.508039Z"
    },
    "scrolled": true
   },
   "outputs": [],
   "source": [
    "# Set up y variable\n",
    "y = restaurants.pop('prediction_col')"
   ]
  },
  {
   "cell_type": "code",
   "execution_count": 54,
   "metadata": {
    "ExecuteTime": {
     "end_time": "2019-09-30T22:19:30.058273Z",
     "start_time": "2019-09-30T22:19:30.051548Z"
    }
   },
   "outputs": [
    {
     "data": {
      "text/plain": [
       "55661"
      ]
     },
     "execution_count": 54,
     "metadata": {},
     "output_type": "execute_result"
    }
   ],
   "source": [
    "# Check the length\n",
    "len(y)"
   ]
  },
  {
   "cell_type": "code",
   "execution_count": 55,
   "metadata": {
    "ExecuteTime": {
     "end_time": "2019-09-30T22:19:30.538825Z",
     "start_time": "2019-09-30T22:19:30.535192Z"
    }
   },
   "outputs": [],
   "source": [
    "# Specify X variables\n",
    "X = restaurants"
   ]
  },
  {
   "cell_type": "code",
   "execution_count": 56,
   "metadata": {
    "ExecuteTime": {
     "end_time": "2019-09-30T22:19:31.042360Z",
     "start_time": "2019-09-30T22:19:31.037505Z"
    }
   },
   "outputs": [
    {
     "data": {
      "text/plain": [
       "185"
      ]
     },
     "execution_count": 56,
     "metadata": {},
     "output_type": "execute_result"
    }
   ],
   "source": [
    "# Check the length\n",
    "len(X.columns)"
   ]
  },
  {
   "cell_type": "markdown",
   "metadata": {},
   "source": [
    "# Check baseline"
   ]
  },
  {
   "cell_type": "code",
   "execution_count": 57,
   "metadata": {
    "ExecuteTime": {
     "end_time": "2019-09-30T22:19:33.764278Z",
     "start_time": "2019-09-30T22:19:33.733768Z"
    }
   },
   "outputs": [
    {
     "data": {
      "text/plain": [
       "0.6506350945904673"
      ]
     },
     "execution_count": 57,
     "metadata": {},
     "output_type": "execute_result"
    }
   ],
   "source": [
    "baseline = y.value_counts(normalize=True).max()\n",
    "baseline"
   ]
  },
  {
   "cell_type": "markdown",
   "metadata": {},
   "source": [
    "# Build models to predict closure status (1 = successful, 0 = failed)"
   ]
  },
  {
   "cell_type": "code",
   "execution_count": 58,
   "metadata": {
    "ExecuteTime": {
     "end_time": "2019-09-30T22:19:37.310385Z",
     "start_time": "2019-09-30T22:19:37.304862Z"
    }
   },
   "outputs": [],
   "source": [
    "kf = StratifiedKFold(n_splits=10, shuffle=True, random_state=1)"
   ]
  },
  {
   "cell_type": "code",
   "execution_count": 59,
   "metadata": {
    "ExecuteTime": {
     "end_time": "2019-09-30T22:19:37.678453Z",
     "start_time": "2019-09-30T22:19:37.674305Z"
    }
   },
   "outputs": [],
   "source": [
    "scaler = StandardScaler()"
   ]
  },
  {
   "cell_type": "code",
   "execution_count": 60,
   "metadata": {
    "ExecuteTime": {
     "end_time": "2019-09-30T22:19:37.996341Z",
     "start_time": "2019-09-30T22:19:37.991399Z"
    }
   },
   "outputs": [],
   "source": [
    "# Create a function to show confusion matrix\n",
    "def predictions_confusion(model, X, y):\n",
    "\n",
    "    yhat = model.predict(X)\n",
    "    yhat_pp = model.predict_proba(X)\n",
    "\n",
    "    conmat = np.array(confusion_matrix(y, yhat, labels=[1, 0]))\n",
    "\n",
    "    confusion = pd.DataFrame(conmat, index=['1', '0'],\n",
    "                             columns=['predicted_1', 'predicted_0'])\n",
    "    return yhat, yhat_pp, confusion"
   ]
  },
  {
   "cell_type": "markdown",
   "metadata": {},
   "source": [
    "# Use a logistic regression with a Lasso penalty"
   ]
  },
  {
   "cell_type": "code",
   "execution_count": 61,
   "metadata": {
    "ExecuteTime": {
     "end_time": "2019-09-30T22:20:48.260765Z",
     "start_time": "2019-09-30T22:20:47.984284Z"
    }
   },
   "outputs": [],
   "source": [
    "# Prepare the datasets for modeling\n",
    "yl = y.copy()\n",
    "Xl = X.copy()\n",
    "\n",
    "Xl_train, Xl_test, yl_train, yl_test = train_test_split(Xl, yl, stratify=yl, test_size=0.5, random_state=1)\n",
    "\n",
    "Xl_train = scaler.fit_transform(Xl_train)\n",
    "Xl_test = scaler.transform(Xl_test)"
   ]
  },
  {
   "cell_type": "code",
   "execution_count": null,
   "metadata": {
    "ExecuteTime": {
     "end_time": "2019-09-30T22:26:47.505105Z",
     "start_time": "2019-09-30T22:20:48.401969Z"
    }
   },
   "outputs": [],
   "source": [
    "# Instantiate the model\n",
    "lr_lasso = LogisticRegressionCV(penalty='l1', solver='liblinear', Cs=10, cv=kf)\n",
    "\n",
    "# Fit the model\n",
    "lr_lasso.fit(Xl_train, yl_train)"
   ]
  },
  {
   "cell_type": "markdown",
   "metadata": {},
   "source": [
    "This code creates an instance of a logistic regression model with a Lasso penalty and fits the model to the training data."
   ]
  },
  {
   "cell_type": "code",
   "execution_count": 88,
   "metadata": {},
   "outputs": [],
   "source": [
    "# We save the model to a .pickle\n",
    "with open('../models/Model_LASSO.pickle', 'wb') as f:\n",
    "    pickle.dump(lr_lasso, f)"
   ]
  },
  {
   "cell_type": "markdown",
   "metadata": {},
   "source": [
    "This code creates an instance of a logistic regression model with a Lasso penalty and specifies the best hyperparameters found by the cross-validation process."
   ]
  },
  {
   "cell_type": "code",
   "execution_count": 28,
   "metadata": {
    "ExecuteTime": {
     "end_time": "2019-09-29T15:36:08.371335Z",
     "start_time": "2019-09-29T15:36:08.365562Z"
    }
   },
   "outputs": [],
   "source": [
    "# Define the best model\n",
    "lasso_best = LogisticRegression(C=lr_lasso.C_[0], penalty='l1', solver='liblinear')"
   ]
  },
  {
   "cell_type": "code",
   "execution_count": 29,
   "metadata": {
    "ExecuteTime": {
     "end_time": "2019-09-29T15:36:08.402153Z",
     "start_time": "2019-09-29T15:36:08.375018Z"
    }
   },
   "outputs": [
    {
     "name": "stdout",
     "output_type": "stream",
     "text": [
      "[0.3594]\n",
      "0.8571428571428571\n",
      "0.7267441860465116\n"
     ]
    }
   ],
   "source": [
    "# Check the evaluation scores\n",
    "print(lr_lasso.C_)\n",
    "print(lr_lasso.score(Xl_train, yl_train))\n",
    "print(lr_lasso.score(Xl_test, yl_test))"
   ]
  },
  {
   "cell_type": "markdown",
   "metadata": {},
   "source": [
    "In this case, the model has an accuracy of approximately 86% on the training set and approximately 73% on the test set. This suggests that the model is able to generalize well to unseen data, but it is still not perfect. There may be room for improvement by using different model hyperparameters or by using a different model altogether."
   ]
  },
  {
   "cell_type": "code",
   "execution_count": 30,
   "metadata": {
    "ExecuteTime": {
     "end_time": "2019-09-29T15:36:14.363254Z",
     "start_time": "2019-09-29T15:36:08.404558Z"
    }
   },
   "outputs": [
    {
     "name": "stdout",
     "output_type": "stream",
     "text": [
      "0.7575873827791987\n"
     ]
    }
   ],
   "source": [
    "# Check the cv scores\n",
    "cv_scores = cross_val_score(lasso_best, Xl_train, yl_train, cv=5).mean()\n",
    "print(cv_scores)"
   ]
  },
  {
   "cell_type": "markdown",
   "metadata": {},
   "source": [
    "The resulting score is the mean accuracy of the model's predictions on the training data, where accuracy is the number of correct predictions divided by the total number of predictions. In this case, the model has an accuracy of approximately 76% on the training data, which is slightly lower than the score on the full training set. This is to be expected, as cross-validation uses a smaller portion of the data for training and a larger portion for evaluation, which can lead to a lower score."
   ]
  },
  {
   "cell_type": "code",
   "execution_count": 31,
   "metadata": {
    "ExecuteTime": {
     "end_time": "2019-09-30T22:26:47.719810Z",
     "start_time": "2019-09-30T22:26:47.513474Z"
    }
   },
   "outputs": [
    {
     "name": "stdout",
     "output_type": "stream",
     "text": [
      "              precision    recall  f1-score   support\n",
      "\n",
      "           0       0.60      0.55      0.57       115\n",
      "           1       0.78      0.82      0.80       229\n",
      "\n",
      "    accuracy                           0.73       344\n",
      "   macro avg       0.69      0.68      0.69       344\n",
      "weighted avg       0.72      0.73      0.72       344\n",
      "\n"
     ]
    }
   ],
   "source": [
    "# Check precision and recall scores\n",
    "yhat_lr_lasso = lr_lasso.predict(Xl_test)\n",
    "yhat_pp_lasso = lr_lasso.predict_proba(Xl_test)\n",
    "print(classification_report(yl_test, yhat_lr_lasso))"
   ]
  },
  {
   "cell_type": "markdown",
   "metadata": {},
   "source": [
    " the model has a precision of approximately 60% for class 0 and a precision of approximately 78% for class 1. The recall is approximately 55% for class 0 and 82% for class 1. The f1-score is a weighted average of the precision and recall, and the model has an f1-score of approximately 57% for class 0 and 80% for class 1. The overall accuracy of the model is approximately 73%."
   ]
  },
  {
   "cell_type": "code",
   "execution_count": 32,
   "metadata": {
    "ExecuteTime": {
     "end_time": "2019-09-30T22:26:47.834746Z",
     "start_time": "2019-09-30T22:26:47.731277Z"
    }
   },
   "outputs": [
    {
     "data": {
      "text/html": [
       "<div>\n",
       "<style scoped>\n",
       "    .dataframe tbody tr th:only-of-type {\n",
       "        vertical-align: middle;\n",
       "    }\n",
       "\n",
       "    .dataframe tbody tr th {\n",
       "        vertical-align: top;\n",
       "    }\n",
       "\n",
       "    .dataframe thead th {\n",
       "        text-align: right;\n",
       "    }\n",
       "</style>\n",
       "<table border=\"1\" class=\"dataframe\">\n",
       "  <thead>\n",
       "    <tr style=\"text-align: right;\">\n",
       "      <th></th>\n",
       "      <th>prediction_col</th>\n",
       "      <th>actual</th>\n",
       "      <th>0</th>\n",
       "      <th>1</th>\n",
       "      <th>difference</th>\n",
       "    </tr>\n",
       "  </thead>\n",
       "  <tbody>\n",
       "    <tr>\n",
       "      <th>7</th>\n",
       "      <td>0</td>\n",
       "      <td>1</td>\n",
       "      <td>0.309814</td>\n",
       "      <td>0.690186</td>\n",
       "      <td>-0.38</td>\n",
       "    </tr>\n",
       "    <tr>\n",
       "      <th>21</th>\n",
       "      <td>0</td>\n",
       "      <td>1</td>\n",
       "      <td>0.164214</td>\n",
       "      <td>0.835786</td>\n",
       "      <td>-0.67</td>\n",
       "    </tr>\n",
       "    <tr>\n",
       "      <th>28</th>\n",
       "      <td>1</td>\n",
       "      <td>0</td>\n",
       "      <td>0.540729</td>\n",
       "      <td>0.459271</td>\n",
       "      <td>0.08</td>\n",
       "    </tr>\n",
       "    <tr>\n",
       "      <th>36</th>\n",
       "      <td>1</td>\n",
       "      <td>0</td>\n",
       "      <td>0.623319</td>\n",
       "      <td>0.376681</td>\n",
       "      <td>0.25</td>\n",
       "    </tr>\n",
       "    <tr>\n",
       "      <th>40</th>\n",
       "      <td>0</td>\n",
       "      <td>1</td>\n",
       "      <td>0.264633</td>\n",
       "      <td>0.735367</td>\n",
       "      <td>-0.47</td>\n",
       "    </tr>\n",
       "  </tbody>\n",
       "</table>\n",
       "</div>"
      ],
      "text/plain": [
       "    prediction_col  actual         0         1  difference\n",
       "7                0       1  0.309814  0.690186       -0.38\n",
       "21               0       1  0.164214  0.835786       -0.67\n",
       "28               1       0  0.540729  0.459271        0.08\n",
       "36               1       0  0.623319  0.376681        0.25\n",
       "40               0       1  0.264633  0.735367       -0.47"
      ]
     },
     "execution_count": 32,
     "metadata": {},
     "output_type": "execute_result"
    }
   ],
   "source": [
    "# Check the misclassified items\n",
    "pred_list_lr_lasso = lr_lasso.predict_proba(Xl_train)\n",
    "pred_result_lr_lasso = pd.DataFrame(pred_list_lr_lasso, yl_train)\n",
    "pred_result_lr_lasso['actual'] = lr_lasso.predict(Xl_train)\n",
    "pred_result_lr_lasso.reset_index(inplace=True)\n",
    "\n",
    "misclassified_lr_lasso = pred_result_lr_lasso[pred_result_lr_lasso.prediction_col != pred_result_lr_lasso.actual]\n",
    "misclassified_lr_lasso = misclassified_lr_lasso.reindex(columns=['prediction_col', 'actual', 0, 1])\n",
    "misclassified_lr_lasso['difference'] = (misclassified_lr_lasso[0] - misclassified_lr_lasso[1]).round(2)\n",
    "misclassified_lr_lasso[:5]"
   ]
  },
  {
   "cell_type": "markdown",
   "metadata": {},
   "source": [
    "Finally, the first 5 rows of the 'misclassified_lr_lasso' dataframe are printed. The resulting dataframe contains the misclassified samples and their predicted class probabilities, as well as the difference between the probabilities. This can be useful for identifying patterns in the misclassified samples and understanding why the model made incorrect predictions."
   ]
  },
  {
   "cell_type": "code",
   "execution_count": 33,
   "metadata": {
    "ExecuteTime": {
     "end_time": "2019-09-29T19:50:29.808396Z",
     "start_time": "2019-09-29T19:50:29.748489Z"
    }
   },
   "outputs": [
    {
     "data": {
      "text/html": [
       "<div>\n",
       "<style scoped>\n",
       "    .dataframe tbody tr th:only-of-type {\n",
       "        vertical-align: middle;\n",
       "    }\n",
       "\n",
       "    .dataframe tbody tr th {\n",
       "        vertical-align: top;\n",
       "    }\n",
       "\n",
       "    .dataframe thead th {\n",
       "        text-align: right;\n",
       "    }\n",
       "</style>\n",
       "<table border=\"1\" class=\"dataframe\">\n",
       "  <thead>\n",
       "    <tr style=\"text-align: right;\">\n",
       "      <th></th>\n",
       "      <th>predicted_1</th>\n",
       "      <th>predicted_0</th>\n",
       "    </tr>\n",
       "  </thead>\n",
       "  <tbody>\n",
       "    <tr>\n",
       "      <th>1</th>\n",
       "      <td>187</td>\n",
       "      <td>42</td>\n",
       "    </tr>\n",
       "    <tr>\n",
       "      <th>0</th>\n",
       "      <td>52</td>\n",
       "      <td>63</td>\n",
       "    </tr>\n",
       "  </tbody>\n",
       "</table>\n",
       "</div>"
      ],
      "text/plain": [
       "   predicted_1  predicted_0\n",
       "1          187           42\n",
       "0           52           63"
      ]
     },
     "execution_count": 33,
     "metadata": {},
     "output_type": "execute_result"
    }
   ],
   "source": [
    "# Check the confusion matrix\n",
    "yhat_lasso = lr_lasso.predict(Xl_test)\n",
    "yhat_pp_lasso = lr_lasso.predict_proba(Xl_test)\n",
    "\n",
    "yhat_lasso, yhat_pp_lasso, confusion_lasso = predictions_confusion(\n",
    "    lr_lasso, Xl_test, yl_test)\n",
    "confusion_lasso"
   ]
  },
  {
   "cell_type": "markdown",
   "metadata": {},
   "source": [
    "the confusion matrix shows that the model made 187 correct predictions for class 1, 63 correct predictions for class 0, 42 incorrect predictions for class 0, and 52 incorrect predictions for class 1."
   ]
  },
  {
   "cell_type": "code",
   "execution_count": 34,
   "metadata": {
    "ExecuteTime": {
     "end_time": "2019-09-29T15:36:14.587914Z",
     "start_time": "2019-09-29T15:36:14.575555Z"
    },
    "scrolled": true
   },
   "outputs": [
    {
     "data": {
      "text/html": [
       "<div>\n",
       "<style scoped>\n",
       "    .dataframe tbody tr th:only-of-type {\n",
       "        vertical-align: middle;\n",
       "    }\n",
       "\n",
       "    .dataframe tbody tr th {\n",
       "        vertical-align: top;\n",
       "    }\n",
       "\n",
       "    .dataframe thead th {\n",
       "        text-align: right;\n",
       "    }\n",
       "</style>\n",
       "<table border=\"1\" class=\"dataframe\">\n",
       "  <thead>\n",
       "    <tr style=\"text-align: right;\">\n",
       "      <th></th>\n",
       "      <th>feature</th>\n",
       "      <th>coef</th>\n",
       "      <th>abs_coef</th>\n",
       "    </tr>\n",
       "  </thead>\n",
       "  <tbody>\n",
       "    <tr>\n",
       "      <th>180</th>\n",
       "      <td>total_checkins_qcut_high</td>\n",
       "      <td>1.470827</td>\n",
       "      <td>1.470827</td>\n",
       "    </tr>\n",
       "    <tr>\n",
       "      <th>179</th>\n",
       "      <td>total_checkins_qcut_medium</td>\n",
       "      <td>0.665953</td>\n",
       "      <td>0.665953</td>\n",
       "    </tr>\n",
       "    <tr>\n",
       "      <th>73</th>\n",
       "      <td>ambience_classy</td>\n",
       "      <td>0.616383</td>\n",
       "      <td>0.616383</td>\n",
       "    </tr>\n",
       "    <tr>\n",
       "      <th>58</th>\n",
       "      <td>reservations_true</td>\n",
       "      <td>-0.434097</td>\n",
       "      <td>0.434097</td>\n",
       "    </tr>\n",
       "    <tr>\n",
       "      <th>42</th>\n",
       "      <td>outdoorseating_true</td>\n",
       "      <td>-0.406521</td>\n",
       "      <td>0.406521</td>\n",
       "    </tr>\n",
       "  </tbody>\n",
       "</table>\n",
       "</div>"
      ],
      "text/plain": [
       "                        feature      coef  abs_coef\n",
       "180    total_checkins_qcut_high  1.470827  1.470827\n",
       "179  total_checkins_qcut_medium  0.665953  0.665953\n",
       "73              ambience_classy  0.616383  0.616383\n",
       "58            reservations_true -0.434097  0.434097\n",
       "42          outdoorseating_true -0.406521  0.406521"
      ]
     },
     "execution_count": 34,
     "metadata": {},
     "output_type": "execute_result"
    }
   ],
   "source": [
    "# Create a DataFrame to look at the coefficients\n",
    "coef_df_lr_lasso = pd.DataFrame({'feature': Xl.columns,\n",
    "                        'coef': lr_lasso.coef_[0],\n",
    "                        'abs_coef': np.abs(lr_lasso.coef_[0])})\n",
    "\n",
    "# Sort by absolute value of coefficient (magnitude)\n",
    "coef_df_lr_lasso = coef_df_lr_lasso.sort_values(by='abs_coef', ascending=False)\n",
    "coef_df_lr_lasso.head()"
   ]
  },
  {
   "cell_type": "markdown",
   "metadata": {},
   "source": [
    "the coefficients represent the effect of each feature on the probability of the target class. Features with large positive or negative coefficients have a strong effect on the probability, while features with small coefficients have a weaker effect. The sign of the coefficient indicates the direction of the effect: positive coefficients increase the probability of the positive class, while negative coefficients decrease the probability."
   ]
  },
  {
   "cell_type": "code",
   "execution_count": 35,
   "metadata": {
    "ExecuteTime": {
     "end_time": "2019-09-29T15:40:52.169717Z",
     "start_time": "2019-09-29T15:40:51.938075Z"
    }
   },
   "outputs": [
    {
     "data": {
      "image/png": "[encoded data removed]",
      "text/plain": [
       "<Figure size 432x288 with 1 Axes>"
      ]
     },
     "metadata": {
      "image/png": {
       "height": 278,
       "width": 805
      },
      "needs_background": "light"
     },
     "output_type": "display_data"
    }
   ],
   "source": [
    "# Plot the coefficient table\n",
    "sort_coef = pd.concat([coef_df_lr_lasso.sort_values(by='coef', ascending=False).head(5),\n",
    "                      coef_df_lr_lasso.sort_values(by='coef', ascending=False).tail(5)])\n",
    "sns.barplot(y = sort_coef.feature, x = sort_coef.coef, palette = \"RdBu_r\")\n",
    "plt.title(\"Coefficients for LogisticRegresssion with a Lasso Penalty (Highest and Lowest)\", loc = 'left', fontsize = 16)\n",
    "plt.show()"
   ]
  },
  {
   "cell_type": "markdown",
   "metadata": {},
   "source": [
    "Features with large positive coefficients(total_checkins_qcut_high, total_checkins_qcut_medium...) have a strong positive effect on the probability of the target class, while features with large negative coefficients (reserations_true) have a strong negative effect. Features with small coefficients have a weaker effect on the probability"
   ]
  },
  {
   "cell_type": "code",
   "execution_count": 78,
   "metadata": {
    "ExecuteTime": {
     "end_time": "2019-09-25T12:21:30.770419Z",
     "start_time": "2019-09-25T12:21:30.765016Z"
    }
   },
   "outputs": [],
   "source": [
    "# Pickle results to avoid running all the above code again - it took hours to finish running\n",
    "coef_df_lr_lasso.to_pickle('../data/processed/lasso')"
   ]
  },
  {
   "cell_type": "code",
   "execution_count": 22,
   "metadata": {
    "ExecuteTime": {
     "end_time": "2019-09-25T12:21:31.737906Z",
     "start_time": "2019-09-25T12:21:31.729627Z"
    }
   },
   "outputs": [],
   "source": [
    "# Save the data as csv\n",
    "coef_df_lr_lasso.to_csv('coef_df_lr_lasso.csv')"
   ]
  },
  {
   "cell_type": "markdown",
   "metadata": {},
   "source": [
    "## ADA BOOST"
   ]
  },
  {
   "cell_type": "code",
   "execution_count": 85,
   "metadata": {
    "ExecuteTime": {
     "end_time": "2019-09-24T12:51:22.521227Z",
     "start_time": "2019-09-24T12:51:22.262373Z"
    }
   },
   "outputs": [],
   "source": [
    "# Create the datasets\n",
    "yab = y.copy()\n",
    "Xab = X.copy()\n",
    "\n",
    "Xab_train, Xab_test, yab_train, yab_test = train_test_split(Xab, yab, stratify=yab, test_size=0.5, random_state=1)\n",
    "\n",
    "Xab_train = scaler.fit_transform(Xab_train)\n",
    "Xab_test = scaler.transform(Xab_test)"
   ]
  },
  {
   "cell_type": "markdown",
   "metadata": {},
   "source": [
    "The resulting training and test sets will be used to fit and evaluate an AdaBoost classifier."
   ]
  },
  {
   "cell_type": "code",
   "execution_count": 86,
   "metadata": {
    "ExecuteTime": {
     "end_time": "2019-09-24T12:51:28.495439Z",
     "start_time": "2019-09-24T12:51:22.523274Z"
    }
   },
   "outputs": [
    {
     "data": {
      "text/html": [
       "<style>#sk-container-id-5 {color: black;background-color: white;}#sk-container-id-5 pre{padding: 0;}#sk-container-id-5 div.sk-toggleable {background-color: white;}#sk-container-id-5 label.sk-toggleable__label {cursor: pointer;display: block;width: 100%;margin-bottom: 0;padding: 0.3em;box-sizing: border-box;text-align: center;}#sk-container-id-5 label.sk-toggleable__label-arrow:before {content: \"▸\";float: left;margin-right: 0.25em;color: #696969;}#sk-container-id-5 label.sk-toggleable__label-arrow:hover:before {color: black;}#sk-container-id-5 div.sk-estimator:hover label.sk-toggleable__label-arrow:before {color: black;}#sk-container-id-5 div.sk-toggleable__content {max-height: 0;max-width: 0;overflow: hidden;text-align: left;background-color: #f0f8ff;}#sk-container-id-5 div.sk-toggleable__content pre {margin: 0.2em;color: black;border-radius: 0.25em;background-color: #f0f8ff;}#sk-container-id-5 input.sk-toggleable__control:checked~div.sk-toggleable__content {max-height: 200px;max-width: 100%;overflow: auto;}#sk-container-id-5 input.sk-toggleable__control:checked~label.sk-toggleable__label-arrow:before {content: \"▾\";}#sk-container-id-5 div.sk-estimator input.sk-toggleable__control:checked~label.sk-toggleable__label {background-color: #d4ebff;}#sk-container-id-5 div.sk-label input.sk-toggleable__control:checked~label.sk-toggleable__label {background-color: #d4ebff;}#sk-container-id-5 input.sk-hidden--visually {border: 0;clip: rect(1px 1px 1px 1px);clip: rect(1px, 1px, 1px, 1px);height: 1px;margin: -1px;overflow: hidden;padding: 0;position: absolute;width: 1px;}#sk-container-id-5 div.sk-estimator {font-family: monospace;background-color: #f0f8ff;border: 1px dotted black;border-radius: 0.25em;box-sizing: border-box;margin-bottom: 0.5em;}#sk-container-id-5 div.sk-estimator:hover {background-color: #d4ebff;}#sk-container-id-5 div.sk-parallel-item::after {content: \"\";width: 100%;border-bottom: 1px solid gray;flex-grow: 1;}#sk-container-id-5 div.sk-label:hover label.sk-toggleable__label {background-color: #d4ebff;}#sk-container-id-5 div.sk-serial::before {content: \"\";position: absolute;border-left: 1px solid gray;box-sizing: border-box;top: 0;bottom: 0;left: 50%;z-index: 0;}#sk-container-id-5 div.sk-serial {display: flex;flex-direction: column;align-items: center;background-color: white;padding-right: 0.2em;padding-left: 0.2em;position: relative;}#sk-container-id-5 div.sk-item {position: relative;z-index: 1;}#sk-container-id-5 div.sk-parallel {display: flex;align-items: stretch;justify-content: center;background-color: white;position: relative;}#sk-container-id-5 div.sk-item::before, #sk-container-id-5 div.sk-parallel-item::before {content: \"\";position: absolute;border-left: 1px solid gray;box-sizing: border-box;top: 0;bottom: 0;left: 50%;z-index: -1;}#sk-container-id-5 div.sk-parallel-item {display: flex;flex-direction: column;z-index: 1;position: relative;background-color: white;}#sk-container-id-5 div.sk-parallel-item:first-child::after {align-self: flex-end;width: 50%;}#sk-container-id-5 div.sk-parallel-item:last-child::after {align-self: flex-start;width: 50%;}#sk-container-id-5 div.sk-parallel-item:only-child::after {width: 0;}#sk-container-id-5 div.sk-dashed-wrapped {border: 1px dashed gray;margin: 0 0.4em 0.5em 0.4em;box-sizing: border-box;padding-bottom: 0.4em;background-color: white;}#sk-container-id-5 div.sk-label label {font-family: monospace;font-weight: bold;display: inline-block;line-height: 1.2em;}#sk-container-id-5 div.sk-label-container {text-align: center;}#sk-container-id-5 div.sk-container {/* jupyter's `normalize.less` sets `[hidden] { display: none; }` but bootstrap.min.css set `[hidden] { display: none !important; }` so we also need the `!important` here to be able to override the default hidden behavior on the sphinx rendered scikit-learn.org. See: https://github.com/scikit-learn/scikit-learn/issues/21755 */display: inline-block !important;position: relative;}#sk-container-id-5 div.sk-text-repr-fallback {display: none;}</style><div id=\"sk-container-id-5\" class=\"sk-top-container\"><div class=\"sk-text-repr-fallback\"><pre>AdaBoostClassifier(base_estimator=DecisionTreeClassifier(max_depth=3),\n",
       "                   n_estimators=100, random_state=1)</pre><b>In a Jupyter environment, please rerun this cell to show the HTML representation or trust the notebook. <br />On GitHub, the HTML representation is unable to render, please try loading this page with nbviewer.org.</b></div><div class=\"sk-container\" hidden><div class=\"sk-item sk-dashed-wrapped\"><div class=\"sk-label-container\"><div class=\"sk-label sk-toggleable\"><input class=\"sk-toggleable__control sk-hidden--visually\" id=\"sk-estimator-id-5\" type=\"checkbox\" ><label for=\"sk-estimator-id-5\" class=\"sk-toggleable__label sk-toggleable__label-arrow\">AdaBoostClassifier</label><div class=\"sk-toggleable__content\"><pre>AdaBoostClassifier(base_estimator=DecisionTreeClassifier(max_depth=3),\n",
       "                   n_estimators=100, random_state=1)</pre></div></div></div><div class=\"sk-parallel\"><div class=\"sk-parallel-item\"><div class=\"sk-item\"><div class=\"sk-label-container\"><div class=\"sk-label sk-toggleable\"><input class=\"sk-toggleable__control sk-hidden--visually\" id=\"sk-estimator-id-6\" type=\"checkbox\" ><label for=\"sk-estimator-id-6\" class=\"sk-toggleable__label sk-toggleable__label-arrow\">base_estimator: DecisionTreeClassifier</label><div class=\"sk-toggleable__content\"><pre>DecisionTreeClassifier(max_depth=3)</pre></div></div></div><div class=\"sk-serial\"><div class=\"sk-item\"><div class=\"sk-estimator sk-toggleable\"><input class=\"sk-toggleable__control sk-hidden--visually\" id=\"sk-estimator-id-7\" type=\"checkbox\" ><label for=\"sk-estimator-id-7\" class=\"sk-toggleable__label sk-toggleable__label-arrow\">DecisionTreeClassifier</label><div class=\"sk-toggleable__content\"><pre>DecisionTreeClassifier(max_depth=3)</pre></div></div></div></div></div></div></div></div></div></div>"
      ],
      "text/plain": [
       "AdaBoostClassifier(base_estimator=DecisionTreeClassifier(max_depth=3),\n",
       "                   n_estimators=100, random_state=1)"
      ]
     },
     "execution_count": 86,
     "metadata": {},
     "output_type": "execute_result"
    }
   ],
   "source": [
    "# Fit the model\n",
    "base_estimator = DecisionTreeClassifier(max_depth=3)\n",
    "ab_model = AdaBoostClassifier(base_estimator=base_estimator,\n",
    "                           n_estimators=100,\n",
    "                           random_state=1)\n",
    "ab_model.fit(Xab_train, yab_train)"
   ]
  },
  {
   "cell_type": "code",
   "execution_count": 87,
   "metadata": {},
   "outputs": [],
   "source": [
    "with open('../models/Model_ADA.pickle', 'wb') as f:\n",
    "    pickle.dump(ab_model, f)"
   ]
  },
  {
   "cell_type": "code",
   "execution_count": 81,
   "metadata": {
    "ExecuteTime": {
     "end_time": "2019-09-24T12:52:31.717091Z",
     "start_time": "2019-09-24T12:51:28.496892Z"
    }
   },
   "outputs": [
    {
     "name": "stdout",
     "output_type": "stream",
     "text": [
      "0.9\n",
      "0.776\n",
      "0.788\n",
      "0.788\n"
     ]
    }
   ],
   "source": [
    "# Check the evaluation scores\n",
    "print(ab_model.score(Xab_train, yab_train))\n",
    "print(cross_val_score(ab_model, Xab_train, yab_train, cv=5).mean())\n",
    "print(ab_model.score(Xab_test, yab_test))\n",
    "print(pd.DataFrame(ab_model.staged_predict(Xab_test)\n",
    "                   ).T.apply(lambda x: accuracy_score(yab_test, x),\n",
    "                             axis=0)[ab_model.n_estimators-1])"
   ]
  },
  {
   "cell_type": "markdown",
   "metadata": {},
   "source": [
    "This code prints the evaluation scores for an AdaBoost classifier.These scores show the model's performance on the training and test sets, as well as the performance of the model using cross-validation. The final score (0.788) shows the accuracy of the model at the final stage of the boosting process."
   ]
  },
  {
   "cell_type": "code",
   "execution_count": 82,
   "metadata": {
    "ExecuteTime": {
     "end_time": "2019-09-24T12:52:31.736203Z",
     "start_time": "2019-09-24T12:52:31.729248Z"
    }
   },
   "outputs": [
    {
     "data": {
      "text/plain": [
       "array([0.0042, 0.0046, 0.0115, 0.    , 0.    , 0.006 , 0.0022, 0.    ,\n",
       "       0.0025, 0.    ])"
      ]
     },
     "execution_count": 82,
     "metadata": {},
     "output_type": "execute_result"
    }
   ],
   "source": [
    "# Check the feature importance values\n",
    "ab_model.feature_importances_[:10]"
   ]
  },
  {
   "cell_type": "markdown",
   "metadata": {},
   "source": [
    "These values indicate how important each feature was in the model's decision-making process. Features with higher importance values had a greater impact on the model's predictions, while features with lower importance values had a smaller impact."
   ]
  },
  {
   "cell_type": "code",
   "execution_count": 83,
   "metadata": {
    "ExecuteTime": {
     "end_time": "2019-09-24T12:52:31.727994Z",
     "start_time": "2019-09-24T12:52:31.719073Z"
    }
   },
   "outputs": [],
   "source": [
    "# Create a feature importance table\n",
    "ab_model_result = pd.DataFrame(ab_model.feature_importances_,\n",
    "             columns=['importance'],\n",
    "             #index=Xab.feature_names\n",
    "             ).sort_values(by='importance', ascending=False\n",
    "                           )"
   ]
  },
  {
   "cell_type": "code",
   "execution_count": 84,
   "metadata": {
    "ExecuteTime": {
     "end_time": "2019-09-24T12:52:32.413103Z",
     "start_time": "2019-09-24T12:52:31.738265Z"
    }
   },
   "outputs": [
    {
     "name": "stdout",
     "output_type": "stream",
     "text": [
      "              precision    recall  f1-score   support\n",
      "\n",
      "           0       0.70      0.69      0.70      1762\n",
      "           1       0.83      0.84      0.84      3238\n",
      "\n",
      "    accuracy                           0.79      5000\n",
      "   macro avg       0.77      0.77      0.77      5000\n",
      "weighted avg       0.79      0.79      0.79      5000\n",
      "\n"
     ]
    }
   ],
   "source": [
    "# Check precision and recall scores\n",
    "yhat_ab_model = ab_model.predict(Xab_test)\n",
    "yhat_pp_ab_model = ab_model.predict_proba(Xab_test)\n",
    "print(classification_report(yab_test, yhat_ab_model))"
   ]
  },
  {
   "cell_type": "markdown",
   "metadata": {},
   "source": [
    "The results show the precision, recall, and F1 score of the model for each class and for the entire dataset. Precision measures the proportion of correct positive predictions made by the model, while recall measures the proportion of actual positive cases that are correctly predicted by the model. The F1 score is the harmonic mean of precision and recall, and is a balance between the two, with a higher score indicating better balance.\n",
    "\n",
    "The results also show the support for each class, which is the number of instances of that class in the test set. These results can be used to evaluate the effectiveness of the model in terms of precision, recall, and balance between the two."
   ]
  },
  {
   "cell_type": "code",
   "execution_count": 109,
   "metadata": {},
   "outputs": [
    {
     "data": {
      "image/png": "[encoded data removed]",
      "text/plain": [
       "<Figure size 432x288 with 1 Axes>"
      ]
     },
     "metadata": {
      "image/png": {
       "height": 260,
       "width": 425
      },
      "needs_background": "light"
     },
     "output_type": "display_data"
    }
   ],
   "source": [
    "from sklearn.metrics import roc_curve\n",
    "import matplotlib.pyplot as plt\n",
    "\n",
    "# Calculamos las predicciones del modelo para distintos umbrales de decisión\n",
    "y_scores = ab_model.predict_proba(Xab_test)[:,1]\n",
    "fpr, tpr, thresholds = roc_curve(yab_test, y_scores)\n",
    "\n",
    "# Graficamos las curvas ROC\n",
    "plt.plot(fpr, tpr)\n",
    "plt.xlabel(\"False Positive Rate\")\n",
    "plt.ylabel(\"True Positive Rate\")\n",
    "plt.show()\n"
   ]
  },
  {
   "cell_type": "markdown",
   "metadata": {},
   "source": [
    "# SVM classifiers"
   ]
  },
  {
   "cell_type": "code",
   "execution_count": 74,
   "metadata": {
    "ExecuteTime": {
     "end_time": "2019-09-29T15:41:55.717854Z",
     "start_time": "2019-09-29T15:41:55.184517Z"
    }
   },
   "outputs": [],
   "source": [
    "# Prepare the datasets\n",
    "X_svm = X.copy()\n",
    "y_svm = y.copy()\n",
    "\n",
    "Xsvm_train, Xsvm_test, y_svm_train, y_svm_test = train_test_split(X_svm, y_svm, test_size=0.5, random_state=8)\n",
    "\n",
    "Xsvm_train = scaler.fit_transform(Xsvm_train)\n",
    "Xsvm_test = scaler.transform(Xsvm_test)"
   ]
  },
  {
   "cell_type": "code",
   "execution_count": 75,
   "metadata": {
    "ExecuteTime": {
     "end_time": "2019-09-29T15:41:55.754738Z",
     "start_time": "2019-09-29T15:41:55.726218Z"
    }
   },
   "outputs": [
    {
     "data": {
      "text/plain": [
       "0.6506350945904673"
      ]
     },
     "execution_count": 75,
     "metadata": {},
     "output_type": "execute_result"
    }
   ],
   "source": [
    "# Check the distribution of y values\n",
    "y_svm.value_counts(normalize=True).max()"
   ]
  },
  {
   "cell_type": "markdown",
   "metadata": {},
   "source": [
    "the code is checking the proportion of the most common label in the y_svm dataset. If the maximum value is close to 1, it indicates that the labels are heavily imbalanced, with one class being much more common than the other. This can affect the performance of some machine learning models, as they may be biased towards the more common class.\n",
    "\n",
    "This code trains a Support Vector Machine (SVM) classifier on the training data."
   ]
  },
  {
   "cell_type": "code",
   "execution_count": 76,
   "metadata": {
    "ExecuteTime": {
     "end_time": "2019-09-29T15:58:05.490865Z",
     "start_time": "2019-09-29T15:41:55.760080Z"
    }
   },
   "outputs": [
    {
     "data": {
      "text/html": [
       "<style>#sk-container-id-3 {color: black;background-color: white;}#sk-container-id-3 pre{padding: 0;}#sk-container-id-3 div.sk-toggleable {background-color: white;}#sk-container-id-3 label.sk-toggleable__label {cursor: pointer;display: block;width: 100%;margin-bottom: 0;padding: 0.3em;box-sizing: border-box;text-align: center;}#sk-container-id-3 label.sk-toggleable__label-arrow:before {content: \"▸\";float: left;margin-right: 0.25em;color: #696969;}#sk-container-id-3 label.sk-toggleable__label-arrow:hover:before {color: black;}#sk-container-id-3 div.sk-estimator:hover label.sk-toggleable__label-arrow:before {color: black;}#sk-container-id-3 div.sk-toggleable__content {max-height: 0;max-width: 0;overflow: hidden;text-align: left;background-color: #f0f8ff;}#sk-container-id-3 div.sk-toggleable__content pre {margin: 0.2em;color: black;border-radius: 0.25em;background-color: #f0f8ff;}#sk-container-id-3 input.sk-toggleable__control:checked~div.sk-toggleable__content {max-height: 200px;max-width: 100%;overflow: auto;}#sk-container-id-3 input.sk-toggleable__control:checked~label.sk-toggleable__label-arrow:before {content: \"▾\";}#sk-container-id-3 div.sk-estimator input.sk-toggleable__control:checked~label.sk-toggleable__label {background-color: #d4ebff;}#sk-container-id-3 div.sk-label input.sk-toggleable__control:checked~label.sk-toggleable__label {background-color: #d4ebff;}#sk-container-id-3 input.sk-hidden--visually {border: 0;clip: rect(1px 1px 1px 1px);clip: rect(1px, 1px, 1px, 1px);height: 1px;margin: -1px;overflow: hidden;padding: 0;position: absolute;width: 1px;}#sk-container-id-3 div.sk-estimator {font-family: monospace;background-color: #f0f8ff;border: 1px dotted black;border-radius: 0.25em;box-sizing: border-box;margin-bottom: 0.5em;}#sk-container-id-3 div.sk-estimator:hover {background-color: #d4ebff;}#sk-container-id-3 div.sk-parallel-item::after {content: \"\";width: 100%;border-bottom: 1px solid gray;flex-grow: 1;}#sk-container-id-3 div.sk-label:hover label.sk-toggleable__label {background-color: #d4ebff;}#sk-container-id-3 div.sk-serial::before {content: \"\";position: absolute;border-left: 1px solid gray;box-sizing: border-box;top: 0;bottom: 0;left: 50%;z-index: 0;}#sk-container-id-3 div.sk-serial {display: flex;flex-direction: column;align-items: center;background-color: white;padding-right: 0.2em;padding-left: 0.2em;position: relative;}#sk-container-id-3 div.sk-item {position: relative;z-index: 1;}#sk-container-id-3 div.sk-parallel {display: flex;align-items: stretch;justify-content: center;background-color: white;position: relative;}#sk-container-id-3 div.sk-item::before, #sk-container-id-3 div.sk-parallel-item::before {content: \"\";position: absolute;border-left: 1px solid gray;box-sizing: border-box;top: 0;bottom: 0;left: 50%;z-index: -1;}#sk-container-id-3 div.sk-parallel-item {display: flex;flex-direction: column;z-index: 1;position: relative;background-color: white;}#sk-container-id-3 div.sk-parallel-item:first-child::after {align-self: flex-end;width: 50%;}#sk-container-id-3 div.sk-parallel-item:last-child::after {align-self: flex-start;width: 50%;}#sk-container-id-3 div.sk-parallel-item:only-child::after {width: 0;}#sk-container-id-3 div.sk-dashed-wrapped {border: 1px dashed gray;margin: 0 0.4em 0.5em 0.4em;box-sizing: border-box;padding-bottom: 0.4em;background-color: white;}#sk-container-id-3 div.sk-label label {font-family: monospace;font-weight: bold;display: inline-block;line-height: 1.2em;}#sk-container-id-3 div.sk-label-container {text-align: center;}#sk-container-id-3 div.sk-container {/* jupyter's `normalize.less` sets `[hidden] { display: none; }` but bootstrap.min.css set `[hidden] { display: none !important; }` so we also need the `!important` here to be able to override the default hidden behavior on the sphinx rendered scikit-learn.org. See: https://github.com/scikit-learn/scikit-learn/issues/21755 */display: inline-block !important;position: relative;}#sk-container-id-3 div.sk-text-repr-fallback {display: none;}</style><div id=\"sk-container-id-3\" class=\"sk-top-container\"><div class=\"sk-text-repr-fallback\"><pre>SVC(gamma=&#x27;auto&#x27;, probability=True)</pre><b>In a Jupyter environment, please rerun this cell to show the HTML representation or trust the notebook. <br />On GitHub, the HTML representation is unable to render, please try loading this page with nbviewer.org.</b></div><div class=\"sk-container\" hidden><div class=\"sk-item\"><div class=\"sk-estimator sk-toggleable\"><input class=\"sk-toggleable__control sk-hidden--visually\" id=\"sk-estimator-id-3\" type=\"checkbox\" checked><label for=\"sk-estimator-id-3\" class=\"sk-toggleable__label sk-toggleable__label-arrow\">SVC</label><div class=\"sk-toggleable__content\"><pre>SVC(gamma=&#x27;auto&#x27;, probability=True)</pre></div></div></div></div></div>"
      ],
      "text/plain": [
       "SVC(gamma='auto', probability=True)"
      ]
     },
     "execution_count": 76,
     "metadata": {},
     "output_type": "execute_result"
    }
   ],
   "source": [
    "# Fit the model\n",
    "clf = svm.SVC(gamma='auto', probability=True)\n",
    "clf.fit(Xsvm_train, y_svm_train)"
   ]
  },
  {
   "cell_type": "code",
   "execution_count": 77,
   "metadata": {
    "ExecuteTime": {
     "end_time": "2019-09-29T16:05:28.484650Z",
     "start_time": "2019-09-29T16:01:45.388321Z"
    }
   },
   "outputs": [
    {
     "name": "stdout",
     "output_type": "stream",
     "text": [
      "0.8111031261228889\n",
      "0.7628903021810212\n"
     ]
    }
   ],
   "source": [
    "# Check the evaluation scores\n",
    "print(clf.score(Xsvm_train, y_svm_train))\n",
    "print(clf.score(Xsvm_test, y_svm_test))"
   ]
  },
  {
   "cell_type": "markdown",
   "metadata": {},
   "source": [
    "A high accuracy score on the training dataset (0.8111031261228889 in this case) indicates that the classifier is able to classify the training data accurately. However, a lower accuracy score on the test dataset (0.7628903021810212 in this case) could indicate that the classifier is not generalizing well to new data. This could be due to overfitting, where the classifier has learned the training data too well and is not able to generalize to new data."
   ]
  },
  {
   "cell_type": "code",
   "execution_count": 78,
   "metadata": {
    "ExecuteTime": {
     "end_time": "2019-09-29T16:56:01.971186Z",
     "start_time": "2019-09-29T16:05:28.487936Z"
    }
   },
   "outputs": [
    {
     "name": "stdout",
     "output_type": "stream",
     "text": [
      "0.7611570247933885\n"
     ]
    }
   ],
   "source": [
    "# Check the cv score\n",
    "print(cross_val_score(clf, Xsvm_train, y_svm_train, cv=5, scoring='accuracy').mean())"
   ]
  },
  {
   "cell_type": "markdown",
   "metadata": {},
   "source": [
    "A high CV score indicates that the classifier is generalizing well to new data"
   ]
  },
  {
   "cell_type": "code",
   "execution_count": 79,
   "metadata": {
    "ExecuteTime": {
     "end_time": "2019-09-29T16:01:45.386822Z",
     "start_time": "2019-09-29T15:58:05.494024Z"
    }
   },
   "outputs": [
    {
     "name": "stdout",
     "output_type": "stream",
     "text": [
      "              precision    recall  f1-score   support\n",
      "\n",
      "           0       0.73      0.51      0.60      9716\n",
      "           1       0.77      0.90      0.83     18115\n",
      "\n",
      "    accuracy                           0.76     27831\n",
      "   macro avg       0.75      0.70      0.72     27831\n",
      "weighted avg       0.76      0.76      0.75     27831\n",
      "\n"
     ]
    }
   ],
   "source": [
    "# Check precision and recall scores\n",
    "yhat_clf = clf.predict(Xsvm_test)\n",
    "yhat_pp_clf = clf.predict_proba(Xsvm_test)\n",
    "print(classification_report(y_svm_test, yhat_clf))"
   ]
  },
  {
   "cell_type": "markdown",
   "metadata": {},
   "source": [
    "In this case, the classifier has a precision score of 0.73 for class 0 and a precision score of 0.77 for class 1. It has a recall score of 0.51 for class 0 and a recall score of 0.90 for class 1. The f1-score is 0.60 for class 0 and 0.83 for class 1. The support is 9716 for class 0 and 18115 for class 1.\n",
    "\n",
    "Overall, the classifier has a weighted average f1-score of 0.75, which indicates that it is performing reasonably well. However, the classifier has a lower precision and recall score for class 0 compared to class 1, which could indicate that it is not performing equally well for both classes. It is important to consider the business goals and constraints of the problem when interpreting the evaluation metrics and determining the appropriate trade-offs between precision and recall."
   ]
  },
  {
   "cell_type": "markdown",
   "metadata": {},
   "source": [
    "--------"
   ]
  },
  {
   "cell_type": "code",
   "execution_count": 80,
   "metadata": {
    "ExecuteTime": {
     "end_time": "2019-09-24T14:34:38.939334Z",
     "start_time": "2019-09-24T14:18:18.047307Z"
    }
   },
   "outputs": [
    {
     "data": {
      "text/html": [
       "<style>#sk-container-id-4 {color: black;background-color: white;}#sk-container-id-4 pre{padding: 0;}#sk-container-id-4 div.sk-toggleable {background-color: white;}#sk-container-id-4 label.sk-toggleable__label {cursor: pointer;display: block;width: 100%;margin-bottom: 0;padding: 0.3em;box-sizing: border-box;text-align: center;}#sk-container-id-4 label.sk-toggleable__label-arrow:before {content: \"▸\";float: left;margin-right: 0.25em;color: #696969;}#sk-container-id-4 label.sk-toggleable__label-arrow:hover:before {color: black;}#sk-container-id-4 div.sk-estimator:hover label.sk-toggleable__label-arrow:before {color: black;}#sk-container-id-4 div.sk-toggleable__content {max-height: 0;max-width: 0;overflow: hidden;text-align: left;background-color: #f0f8ff;}#sk-container-id-4 div.sk-toggleable__content pre {margin: 0.2em;color: black;border-radius: 0.25em;background-color: #f0f8ff;}#sk-container-id-4 input.sk-toggleable__control:checked~div.sk-toggleable__content {max-height: 200px;max-width: 100%;overflow: auto;}#sk-container-id-4 input.sk-toggleable__control:checked~label.sk-toggleable__label-arrow:before {content: \"▾\";}#sk-container-id-4 div.sk-estimator input.sk-toggleable__control:checked~label.sk-toggleable__label {background-color: #d4ebff;}#sk-container-id-4 div.sk-label input.sk-toggleable__control:checked~label.sk-toggleable__label {background-color: #d4ebff;}#sk-container-id-4 input.sk-hidden--visually {border: 0;clip: rect(1px 1px 1px 1px);clip: rect(1px, 1px, 1px, 1px);height: 1px;margin: -1px;overflow: hidden;padding: 0;position: absolute;width: 1px;}#sk-container-id-4 div.sk-estimator {font-family: monospace;background-color: #f0f8ff;border: 1px dotted black;border-radius: 0.25em;box-sizing: border-box;margin-bottom: 0.5em;}#sk-container-id-4 div.sk-estimator:hover {background-color: #d4ebff;}#sk-container-id-4 div.sk-parallel-item::after {content: \"\";width: 100%;border-bottom: 1px solid gray;flex-grow: 1;}#sk-container-id-4 div.sk-label:hover label.sk-toggleable__label {background-color: #d4ebff;}#sk-container-id-4 div.sk-serial::before {content: \"\";position: absolute;border-left: 1px solid gray;box-sizing: border-box;top: 0;bottom: 0;left: 50%;z-index: 0;}#sk-container-id-4 div.sk-serial {display: flex;flex-direction: column;align-items: center;background-color: white;padding-right: 0.2em;padding-left: 0.2em;position: relative;}#sk-container-id-4 div.sk-item {position: relative;z-index: 1;}#sk-container-id-4 div.sk-parallel {display: flex;align-items: stretch;justify-content: center;background-color: white;position: relative;}#sk-container-id-4 div.sk-item::before, #sk-container-id-4 div.sk-parallel-item::before {content: \"\";position: absolute;border-left: 1px solid gray;box-sizing: border-box;top: 0;bottom: 0;left: 50%;z-index: -1;}#sk-container-id-4 div.sk-parallel-item {display: flex;flex-direction: column;z-index: 1;position: relative;background-color: white;}#sk-container-id-4 div.sk-parallel-item:first-child::after {align-self: flex-end;width: 50%;}#sk-container-id-4 div.sk-parallel-item:last-child::after {align-self: flex-start;width: 50%;}#sk-container-id-4 div.sk-parallel-item:only-child::after {width: 0;}#sk-container-id-4 div.sk-dashed-wrapped {border: 1px dashed gray;margin: 0 0.4em 0.5em 0.4em;box-sizing: border-box;padding-bottom: 0.4em;background-color: white;}#sk-container-id-4 div.sk-label label {font-family: monospace;font-weight: bold;display: inline-block;line-height: 1.2em;}#sk-container-id-4 div.sk-label-container {text-align: center;}#sk-container-id-4 div.sk-container {/* jupyter's `normalize.less` sets `[hidden] { display: none; }` but bootstrap.min.css set `[hidden] { display: none !important; }` so we also need the `!important` here to be able to override the default hidden behavior on the sphinx rendered scikit-learn.org. See: https://github.com/scikit-learn/scikit-learn/issues/21755 */display: inline-block !important;position: relative;}#sk-container-id-4 div.sk-text-repr-fallback {display: none;}</style><div id=\"sk-container-id-4\" class=\"sk-top-container\"><div class=\"sk-text-repr-fallback\"><pre>SVC(probability=True)</pre><b>In a Jupyter environment, please rerun this cell to show the HTML representation or trust the notebook. <br />On GitHub, the HTML representation is unable to render, please try loading this page with nbviewer.org.</b></div><div class=\"sk-container\" hidden><div class=\"sk-item\"><div class=\"sk-estimator sk-toggleable\"><input class=\"sk-toggleable__control sk-hidden--visually\" id=\"sk-estimator-id-4\" type=\"checkbox\" checked><label for=\"sk-estimator-id-4\" class=\"sk-toggleable__label sk-toggleable__label-arrow\">SVC</label><div class=\"sk-toggleable__content\"><pre>SVC(probability=True)</pre></div></div></div></div></div>"
      ],
      "text/plain": [
       "SVC(probability=True)"
      ]
     },
     "execution_count": 80,
     "metadata": {},
     "output_type": "execute_result"
    }
   ],
   "source": [
    "# Fit the model\n",
    "clf_gscale = svm.SVC(gamma='scale', probability=True)\n",
    "clf_gscale.fit(Xsvm_train, y_svm_train)"
   ]
  },
  {
   "cell_type": "code",
   "execution_count": 83,
   "metadata": {},
   "outputs": [],
   "source": [
    "with open('../models/Model_SVM.pickle', 'wb') as f:\n",
    "    pickle.dump(clf_gscale, f)"
   ]
  },
  {
   "cell_type": "code",
   "execution_count": 81,
   "metadata": {
    "ExecuteTime": {
     "end_time": "2019-09-24T16:55:56.734212Z",
     "start_time": "2019-09-24T15:59:34.635505Z"
    },
    "scrolled": true
   },
   "outputs": [
    {
     "name": "stdout",
     "output_type": "stream",
     "text": [
      "0.8114265181458857\n",
      "0.7631058891164528\n",
      "0.7609414301113905\n"
     ]
    }
   ],
   "source": [
    "# Check the evaluation scores\n",
    "print(clf_gscale.score(Xsvm_train, y_svm_train))\n",
    "print(clf_gscale.score(Xsvm_test, y_svm_test))\n",
    "print(cross_val_score(clf_gscale, Xsvm_train, y_svm_train, cv=5, scoring='accuracy').mean())"
   ]
  },
  {
   "cell_type": "markdown",
   "metadata": {},
   "source": [
    "The evaluation scores for the SVM classifier are generally quite good. The training score is quite high, indicating that the model is able to fit the training data well. The test score is also quite good, with a value of around 0.76, indicating that the model is able to generalize well to new data.\n",
    "\n",
    "The cross-validation score is also quite good, with a value of around 0.76. This suggests that the model is relatively robust and not overfitting to the training data.\n",
    "\n",
    "Overall, these results suggest that the SVM classifier is performing well on this dataset. However, it is always a good idea to try several different models and compare their performance to see which one works best for your particular problem."
   ]
  },
  {
   "cell_type": "code",
   "execution_count": 82,
   "metadata": {
    "ExecuteTime": {
     "end_time": "2019-09-24T14:38:26.313229Z",
     "start_time": "2019-09-24T14:34:38.941143Z"
    }
   },
   "outputs": [
    {
     "name": "stdout",
     "output_type": "stream",
     "text": [
      "              precision    recall  f1-score   support\n",
      "\n",
      "           0       0.73      0.51      0.60      9716\n",
      "           1       0.77      0.90      0.83     18115\n",
      "\n",
      "    accuracy                           0.76     27831\n",
      "   macro avg       0.75      0.70      0.72     27831\n",
      "weighted avg       0.76      0.76      0.75     27831\n",
      "\n"
     ]
    }
   ],
   "source": [
    "# Check precision and recall scores\n",
    "yhat_clf_gscale = clf_gscale.predict(Xsvm_test)\n",
    "yhat_pp_clf_gscale = clf_gscale.predict_proba(Xsvm_test)\n",
    "print(classification_report(y_svm_test, yhat_clf_gscale))"
   ]
  },
  {
   "cell_type": "markdown",
   "metadata": {},
   "source": [
    "The accuracy score for the model on the training data is around 0.81, while the accuracy on the test data is around 0.76. This indicates that the model is performing well on the training data, but there is some difference in performance on the test data, which could be due to overfitting.\n",
    "\n",
    "The cross-validation score, which gives an estimate of the model's performance on unseen data, is around 0.76. This is slightly lower than the accuracy on the test data, which suggests that the model may not be generalizing well to unseen data.\n",
    "\n",
    "The precision and recall scores show that the model is more accurate at predicting the positive class (1) than the negative class (0). The f1-score, which is the harmonic mean of precision and recall, is around 0.83 for the positive class and 0.60 for the negative class."
   ]
  },
  {
   "cell_type": "code",
   "execution_count": 107,
   "metadata": {},
   "outputs": [],
   "source": [
    "from sklearn.metrics import roc_curve\n",
    "\n",
    "# Obtener las predicciones de probabilidad del clasificador SVM para el conjunto de prueba\n",
    "y_probs = clf.predict_proba(Xsvm_test)\n",
    "\n",
    "# Obtener las tasas de TPR y FPR para diferentes umbrales de probabilidad\n",
    "fpr, tpr, thresholds = roc_curve(y_svm_test, y_probs[:,1])\n"
   ]
  },
  {
   "cell_type": "code",
   "execution_count": 108,
   "metadata": {},
   "outputs": [
    {
     "data": {
      "image/png": "[encoded data removed]",
      "text/plain": [
       "<Figure size 432x288 with 1 Axes>"
      ]
     },
     "metadata": {
      "image/png": {
       "height": 277,
       "width": 425
      },
      "needs_background": "light"
     },
     "output_type": "display_data"
    }
   ],
   "source": [
    "import matplotlib.pyplot as plt\n",
    "\n",
    "# Dibujar la curva ROC\n",
    "plt.plot(fpr, tpr)\n",
    "plt.xlabel(\"FPR\")\n",
    "plt.ylabel(\"TPR\")\n",
    "plt.title(\"Curva ROC\")\n",
    "plt.show()\n"
   ]
  },
  {
   "cell_type": "markdown",
   "metadata": {},
   "source": [
    "# Plot scores for evaluation"
   ]
  },
  {
   "cell_type": "code",
   "execution_count": 89,
   "metadata": {
    "ExecuteTime": {
     "end_time": "2019-09-29T19:38:11.444336Z",
     "start_time": "2019-09-29T19:38:11.438639Z"
    }
   },
   "outputs": [],
   "source": [
    "# Load data\n",
    "lasso = pd.read_pickle('../models/Model_LASSO.pickle')\n",
    "ADA= pd.read_pickle('../models/Model_ADA.pickle')\n",
    "SVM = pd.read_pickle('../models/Model_SVM.pickle')"
   ]
  },
  {
   "cell_type": "code",
   "execution_count": 99,
   "metadata": {
    "ExecuteTime": {
     "end_time": "2019-09-29T19:54:28.205422Z",
     "start_time": "2019-09-29T19:54:27.987433Z"
    }
   },
   "outputs": [
    {
     "data": {
      "image/png": "[encoded data removed]",
      "text/plain": [
       "<Figure size 576x360 with 1 Axes>"
      ]
     },
     "metadata": {
      "image/png": {
       "height": 317,
       "width": 551
      },
      "needs_background": "light"
     },
     "output_type": "display_data"
    }
   ],
   "source": [
    "# Set up the plot\n",
    "fig, ax = plt.subplots(figsize=(8, 5))\n",
    "\n",
    "# List of model names\n",
    "model_names = ['Logistic Regression (Lasso)', 'AdaBoost', 'SVM']\n",
    "\n",
    "# List of model scores\n",
    "model_scores = [lr_lasso.score(Xl_test, yl_test), ab_model.score(Xab_test, yab_test), clf_gscale.score(Xsvm_test, y_svm_test)]\n",
    "\n",
    "# Create the bar chart\n",
    "sns.barplot(x=model_names, y=model_scores, palette=\"RdBu_r\")\n",
    "\n",
    "# Add labels and title\n",
    "plt.ylabel(\"Accuracy Score\")\n",
    "plt.title(\"Model Comparison\", loc='left', fontsize=16)\n",
    "\n",
    "plt.show()"
   ]
  },
  {
   "cell_type": "markdown",
   "metadata": {},
   "source": [
    "After performing the Plot scores for evaluation, the Logistic Regression (Lasso) comes out higher with an Accuracy Score value of 0.86, the ADA BOOST model obtained an accuracy of 0.78, while the SVM model obtains a value of 0.76.; Depending on accuracy, the best model is the Lasso, although it is difficult to determine which model is better based on accuracy alone"
   ]
  },
  {
   "cell_type": "code",
   "execution_count": 111,
   "metadata": {},
   "outputs": [],
   "source": [
    "import shap"
   ]
  },
  {
   "cell_type": "code",
   "execution_count": 122,
   "metadata": {},
   "outputs": [
    {
     "data": {
      "image/png": "[encoded data removed]",
      "text/plain": [
       "<Figure size 576x684 with 2 Axes>"
      ]
     },
     "metadata": {
      "image/png": {
       "height": 676,
       "width": 549
      },
      "needs_background": "light"
     },
     "output_type": "display_data"
    }
   ],
   "source": [
    "# create a LinearExplainer\n",
    "explainer = shap.LinearExplainer(lr_lasso, Xl_train)\n",
    "\n",
    "# explain the predictions of the Lasso model\n",
    "shap_values = explainer.shap_values(Xl_test)\n"
   ]
  },
  {
   "cell_type": "markdown",
   "metadata": {},
   "source": [
    "We used SHAP on the best model, in our case the Lasso Regresion. We can see on the graph above the explicability of the features of our model.\n",
    "Most of them have a really low impact, thats because some attributes and categories are not really relevant. \n",
    "In the model that we choose, it is really important the classy ambient, the dresscode casual, and that the restaurant have a delivery option. Those attributes contribute to make the probability higher of the model, that means that those that have this attributes would be more capable of become a popular restaurant.\n",
    "The attributes that do not contrubute to the succeess of the restaurant are the reservations, and the outdoorseating."
   ]
  },
  {
   "cell_type": "code",
   "execution_count": null,
   "metadata": {},
   "outputs": [],
   "source": []
  }
 ],
 "metadata": {
  "kernelspec": {
   "display_name": "practicas0",
   "language": "python",
   "name": "practicas0"
  },
  "language_info": {
   "codemirror_mode": {
    "name": "ipython",
    "version": 3
   },
   "file_extension": ".py",
   "mimetype": "text/x-python",
   "name": "python",
   "nbconvert_exporter": "python",
   "pygments_lexer": "ipython3",
   "version": "3.9.13"
  },
  "toc": {
   "base_numbering": 1,
   "nav_menu": {},
   "number_sections": true,
   "sideBar": true,
   "skip_h1_title": false,
   "title_cell": "Table of Contents",
   "title_sidebar": "Contents",
   "toc_cell": false,
   "toc_position": {},
   "toc_section_display": true,
   "toc_window_display": false
  }
 },
 "nbformat": 4,
 "nbformat_minor": 2
}
