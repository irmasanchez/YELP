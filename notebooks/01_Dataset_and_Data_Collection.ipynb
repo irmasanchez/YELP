{
 "cells": [
  {
   "cell_type": "markdown",
   "metadata": {},
   "source": [
    "## DATASET COLLECTION"
   ]
  },
  {
   "cell_type": "markdown",
   "metadata": {},
   "source": [
    "**Adriana de Vicente**\n",
    "\n",
    "**Irma Sánchez**"
   ]
  },
  {
   "cell_type": "markdown",
   "metadata": {
    "ExecuteTime": {
     "end_time": "2019-09-30T15:21:16.252031Z",
     "start_time": "2019-09-30T15:21:16.249769Z"
    }
   },
   "source": [
    "# Download data"
   ]
  },
  {
   "cell_type": "markdown",
   "metadata": {},
   "source": [
    "We downloaded the dataset from Yelp (https://www.yelp.com/dataset) "
   ]
  },
  {
   "cell_type": "markdown",
   "metadata": {},
   "source": [
    "# About files"
   ]
  },
  {
   "cell_type": "markdown",
   "metadata": {},
   "source": [
    "We loaded and transformed Yelp data challenge datasets into Pandas DataFrames:\n",
    "- **Users** include user information from registered users on Yelp. It contains reviews per user, number of useful reviews they posted, type of reviews, etc.\n",
    "- **Review** include reviews submitted by customers about the business\n",
    "- **Checkin** include check-in times of customers at given business store\n",
    "- **Tip** include tips per business id\n",
    "- **Business** contain attributes of business listed on Yelp such as categories (e.g. good for lunch), city info, hours, location and Yelp stars. These columns are consistent with Yelp.com. "
   ]
  },
  {
   "cell_type": "markdown",
   "metadata": {},
   "source": [
    "# Import packages"
   ]
  },
  {
   "cell_type": "code",
   "execution_count": 1,
   "metadata": {
    "ExecuteTime": {
     "end_time": "2019-09-30T16:04:51.849490Z",
     "start_time": "2019-09-30T16:04:49.344826Z"
    }
   },
   "outputs": [],
   "source": [
    "import json\n",
    "import warnings\n",
    "warnings.filterwarnings('ignore')\n",
    "from copy import deepcopy\n",
    "import pickle\n",
    "import pandas as pd\n",
    "import numpy as np\n",
    "from sklearn.feature_extraction import DictVectorizer"
   ]
  },
  {
   "cell_type": "markdown",
   "metadata": {
    "ExecuteTime": {
     "end_time": "2019-09-21T21:07:06.805324Z",
     "start_time": "2019-09-21T21:07:06.791806Z"
    }
   },
   "source": [
    "# Turn business.json to a Pandas Dataframe"
   ]
  },
  {
   "cell_type": "markdown",
   "metadata": {},
   "source": [
    "This code reads a file in JSON format and loads it into a Pandas dataframe."
   ]
  },
  {
   "cell_type": "code",
   "execution_count": 2,
   "metadata": {
    "ExecuteTime": {
     "end_time": "2019-09-30T16:04:52.812199Z",
     "start_time": "2019-09-30T16:04:52.809056Z"
    }
   },
   "outputs": [],
   "source": [
    "business_df = pd.read_json('../data/raw/yelp_academic_dataset_business.json',lines=True)"
   ]
  },
  {
   "cell_type": "code",
   "execution_count": 3,
   "metadata": {
    "ExecuteTime": {
     "end_time": "2019-09-30T16:04:57.104767Z",
     "start_time": "2019-09-30T16:04:53.595900Z"
    }
   },
   "outputs": [],
   "source": [
    "business_df.to_csv('../data/processed/business_df.csv', index=False)\n"
   ]
  },
  {
   "cell_type": "code",
   "execution_count": 4,
   "metadata": {},
   "outputs": [],
   "source": [
    "business_df = pd.read_csv('../data/processed/business_df.csv')"
   ]
  },
  {
   "cell_type": "code",
   "execution_count": 5,
   "metadata": {},
   "outputs": [],
   "source": [
    "business_df = pd.read_pickle('../data/processed/businessdf.pickle')\n"
   ]
  },
  {
   "cell_type": "markdown",
   "metadata": {},
   "source": [
    "The head() method is used to return the first few rows of a dataframe. "
   ]
  },
  {
   "cell_type": "code",
   "execution_count": 138,
   "metadata": {
    "ExecuteTime": {
     "end_time": "2019-09-22T15:51:32.834240Z",
     "start_time": "2019-09-22T15:51:32.802691Z"
    }
   },
   "outputs": [
    {
     "data": {
      "text/html": [
       "<div>\n",
       "<style scoped>\n",
       "    .dataframe tbody tr th:only-of-type {\n",
       "        vertical-align: middle;\n",
       "    }\n",
       "\n",
       "    .dataframe tbody tr th {\n",
       "        vertical-align: top;\n",
       "    }\n",
       "\n",
       "    .dataframe thead th {\n",
       "        text-align: right;\n",
       "    }\n",
       "</style>\n",
       "<table border=\"1\" class=\"dataframe\">\n",
       "  <thead>\n",
       "    <tr style=\"text-align: right;\">\n",
       "      <th></th>\n",
       "      <th>business_id</th>\n",
       "      <th>business_name</th>\n",
       "      <th>address</th>\n",
       "      <th>city</th>\n",
       "      <th>US_state</th>\n",
       "      <th>postal_code</th>\n",
       "      <th>latitude</th>\n",
       "      <th>longitude</th>\n",
       "      <th>average_stars_per_business</th>\n",
       "      <th>review_count_per_business</th>\n",
       "      <th>...</th>\n",
       "      <th>meal_brunch</th>\n",
       "      <th>meal_dessert</th>\n",
       "      <th>meal_dinner</th>\n",
       "      <th>meal_latenight</th>\n",
       "      <th>meal_lunch</th>\n",
       "      <th>parking_garage</th>\n",
       "      <th>parking_lot</th>\n",
       "      <th>parking_street</th>\n",
       "      <th>parking_valet</th>\n",
       "      <th>parking_validated</th>\n",
       "    </tr>\n",
       "  </thead>\n",
       "  <tbody>\n",
       "    <tr>\n",
       "      <th>0</th>\n",
       "      <td>Pns2l4eNsfO8kk83dixA6A</td>\n",
       "      <td>Abby Rappoport, LAC, CMQ</td>\n",
       "      <td>1616 Chapala St, Ste 2</td>\n",
       "      <td>Santa Barbara</td>\n",
       "      <td>CA</td>\n",
       "      <td>93101</td>\n",
       "      <td>34.426679</td>\n",
       "      <td>-119.711197</td>\n",
       "      <td>5.0</td>\n",
       "      <td>7</td>\n",
       "      <td>...</td>\n",
       "      <td>0.0</td>\n",
       "      <td>0.0</td>\n",
       "      <td>0.0</td>\n",
       "      <td>0.0</td>\n",
       "      <td>0.0</td>\n",
       "      <td>0.0</td>\n",
       "      <td>0.0</td>\n",
       "      <td>0.0</td>\n",
       "      <td>0.0</td>\n",
       "      <td>0.0</td>\n",
       "    </tr>\n",
       "    <tr>\n",
       "      <th>1</th>\n",
       "      <td>mpf3x-BjTdTEA3yCZrAYPw</td>\n",
       "      <td>The UPS Store</td>\n",
       "      <td>87 Grasso Plaza Shopping Center</td>\n",
       "      <td>Affton</td>\n",
       "      <td>MO</td>\n",
       "      <td>63123</td>\n",
       "      <td>38.551126</td>\n",
       "      <td>-90.335695</td>\n",
       "      <td>3.0</td>\n",
       "      <td>15</td>\n",
       "      <td>...</td>\n",
       "      <td>0.0</td>\n",
       "      <td>0.0</td>\n",
       "      <td>0.0</td>\n",
       "      <td>0.0</td>\n",
       "      <td>0.0</td>\n",
       "      <td>0.0</td>\n",
       "      <td>0.0</td>\n",
       "      <td>0.0</td>\n",
       "      <td>0.0</td>\n",
       "      <td>0.0</td>\n",
       "    </tr>\n",
       "    <tr>\n",
       "      <th>2</th>\n",
       "      <td>tUFrWirKiKi_TAnsVWINQQ</td>\n",
       "      <td>Target</td>\n",
       "      <td>5255 E Broadway Blvd</td>\n",
       "      <td>Tucson</td>\n",
       "      <td>AZ</td>\n",
       "      <td>85711</td>\n",
       "      <td>32.223236</td>\n",
       "      <td>-110.880452</td>\n",
       "      <td>3.5</td>\n",
       "      <td>22</td>\n",
       "      <td>...</td>\n",
       "      <td>0.0</td>\n",
       "      <td>0.0</td>\n",
       "      <td>0.0</td>\n",
       "      <td>0.0</td>\n",
       "      <td>0.0</td>\n",
       "      <td>0.0</td>\n",
       "      <td>0.0</td>\n",
       "      <td>0.0</td>\n",
       "      <td>0.0</td>\n",
       "      <td>0.0</td>\n",
       "    </tr>\n",
       "    <tr>\n",
       "      <th>3</th>\n",
       "      <td>MTSW4McQd7CbVtyjqoe9mw</td>\n",
       "      <td>St Honore Pastries</td>\n",
       "      <td>935 Race St</td>\n",
       "      <td>Philadelphia</td>\n",
       "      <td>PA</td>\n",
       "      <td>19107</td>\n",
       "      <td>39.955505</td>\n",
       "      <td>-75.155564</td>\n",
       "      <td>4.0</td>\n",
       "      <td>80</td>\n",
       "      <td>...</td>\n",
       "      <td>0.0</td>\n",
       "      <td>0.0</td>\n",
       "      <td>0.0</td>\n",
       "      <td>0.0</td>\n",
       "      <td>0.0</td>\n",
       "      <td>0.0</td>\n",
       "      <td>0.0</td>\n",
       "      <td>0.0</td>\n",
       "      <td>0.0</td>\n",
       "      <td>0.0</td>\n",
       "    </tr>\n",
       "    <tr>\n",
       "      <th>4</th>\n",
       "      <td>mWMc6_wTdE0EUBKIGXDVfA</td>\n",
       "      <td>Perkiomen Valley Brewery</td>\n",
       "      <td>101 Walnut St</td>\n",
       "      <td>Green Lane</td>\n",
       "      <td>PA</td>\n",
       "      <td>18054</td>\n",
       "      <td>40.338183</td>\n",
       "      <td>-75.471659</td>\n",
       "      <td>4.5</td>\n",
       "      <td>13</td>\n",
       "      <td>...</td>\n",
       "      <td>0.0</td>\n",
       "      <td>0.0</td>\n",
       "      <td>0.0</td>\n",
       "      <td>0.0</td>\n",
       "      <td>0.0</td>\n",
       "      <td>0.0</td>\n",
       "      <td>0.0</td>\n",
       "      <td>0.0</td>\n",
       "      <td>0.0</td>\n",
       "      <td>0.0</td>\n",
       "    </tr>\n",
       "  </tbody>\n",
       "</table>\n",
       "<p>5 rows × 107 columns</p>\n",
       "</div>"
      ],
      "text/plain": [
       "              business_id             business_name  \\\n",
       "0  Pns2l4eNsfO8kk83dixA6A  Abby Rappoport, LAC, CMQ   \n",
       "1  mpf3x-BjTdTEA3yCZrAYPw             The UPS Store   \n",
       "2  tUFrWirKiKi_TAnsVWINQQ                    Target   \n",
       "3  MTSW4McQd7CbVtyjqoe9mw        St Honore Pastries   \n",
       "4  mWMc6_wTdE0EUBKIGXDVfA  Perkiomen Valley Brewery   \n",
       "\n",
       "                           address           city US_state postal_code  \\\n",
       "0           1616 Chapala St, Ste 2  Santa Barbara       CA       93101   \n",
       "1  87 Grasso Plaza Shopping Center         Affton       MO       63123   \n",
       "2             5255 E Broadway Blvd         Tucson       AZ       85711   \n",
       "3                      935 Race St   Philadelphia       PA       19107   \n",
       "4                    101 Walnut St     Green Lane       PA       18054   \n",
       "\n",
       "    latitude   longitude  average_stars_per_business  \\\n",
       "0  34.426679 -119.711197                         5.0   \n",
       "1  38.551126  -90.335695                         3.0   \n",
       "2  32.223236 -110.880452                         3.5   \n",
       "3  39.955505  -75.155564                         4.0   \n",
       "4  40.338183  -75.471659                         4.5   \n",
       "\n",
       "   review_count_per_business  ...  meal_brunch meal_dessert meal_dinner  \\\n",
       "0                          7  ...          0.0          0.0         0.0   \n",
       "1                         15  ...          0.0          0.0         0.0   \n",
       "2                         22  ...          0.0          0.0         0.0   \n",
       "3                         80  ...          0.0          0.0         0.0   \n",
       "4                         13  ...          0.0          0.0         0.0   \n",
       "\n",
       "   meal_latenight  meal_lunch  parking_garage  parking_lot  parking_street  \\\n",
       "0             0.0         0.0             0.0          0.0             0.0   \n",
       "1             0.0         0.0             0.0          0.0             0.0   \n",
       "2             0.0         0.0             0.0          0.0             0.0   \n",
       "3             0.0         0.0             0.0          0.0             0.0   \n",
       "4             0.0         0.0             0.0          0.0             0.0   \n",
       "\n",
       "   parking_valet  parking_validated  \n",
       "0            0.0                0.0  \n",
       "1            0.0                0.0  \n",
       "2            0.0                0.0  \n",
       "3            0.0                0.0  \n",
       "4            0.0                0.0  \n",
       "\n",
       "[5 rows x 107 columns]"
      ]
     },
     "execution_count": 138,
     "metadata": {},
     "output_type": "execute_result"
    }
   ],
   "source": [
    "# Check how the dataframe looks like\n",
    "business_df.head()"
   ]
  },
  {
   "cell_type": "code",
   "execution_count": 6,
   "metadata": {
    "ExecuteTime": {
     "end_time": "2019-09-30T16:05:00.905064Z",
     "start_time": "2019-09-30T16:05:00.844692Z"
    }
   },
   "outputs": [],
   "source": [
    "# Drop unnecessary columns for this project\n",
    "business_df.drop(columns=['address', 'hours', 'postal_code'], inplace=True)"
   ]
  },
  {
   "cell_type": "code",
   "execution_count": 7,
   "metadata": {
    "ExecuteTime": {
     "end_time": "2019-09-30T16:05:01.532155Z",
     "start_time": "2019-09-30T16:05:01.514242Z"
    }
   },
   "outputs": [
    {
     "data": {
      "text/plain": [
       "0                             {'ByAppointmentOnly': 'True'}\n",
       "1                    {'BusinessAcceptsCreditCards': 'True'}\n",
       "2         {'BikeParking': 'True', 'BusinessAcceptsCredit...\n",
       "3         {'RestaurantsDelivery': 'False', 'OutdoorSeati...\n",
       "4         {'BusinessAcceptsCreditCards': 'True', 'Wheelc...\n",
       "                                ...                        \n",
       "150341    {'ByAppointmentOnly': 'False', 'RestaurantsPri...\n",
       "150342    {'BusinessAcceptsCreditCards': 'True', 'Restau...\n",
       "150343    {'RestaurantsPriceRange2': '1', 'BusinessAccep...\n",
       "150344    {'BusinessParking': \"{'garage': False, 'street...\n",
       "150345    {'WheelchairAccessible': 'True', 'BusinessAcce...\n",
       "Name: attributes, Length: 150346, dtype: object"
      ]
     },
     "execution_count": 7,
     "metadata": {},
     "output_type": "execute_result"
    }
   ],
   "source": [
    "# Check how the nested dictionary in 'attributes' column looks like\n",
    "# Check the first item\n",
    "business_df.attributes"
   ]
  },
  {
   "cell_type": "markdown",
   "metadata": {},
   "source": [
    "This code sets the index of the attributes dataframe to the index of the business_df dataframe, and then adds a new column called 'business_id' that contains the index values."
   ]
  },
  {
   "cell_type": "code",
   "execution_count": 107,
   "metadata": {},
   "outputs": [
    {
     "data": {
      "text/html": [
       "<div>\n",
       "<style scoped>\n",
       "    .dataframe tbody tr th:only-of-type {\n",
       "        vertical-align: middle;\n",
       "    }\n",
       "\n",
       "    .dataframe tbody tr th {\n",
       "        vertical-align: top;\n",
       "    }\n",
       "\n",
       "    .dataframe thead th {\n",
       "        text-align: right;\n",
       "    }\n",
       "</style>\n",
       "<table border=\"1\" class=\"dataframe\">\n",
       "  <thead>\n",
       "    <tr style=\"text-align: right;\">\n",
       "      <th></th>\n",
       "      <th>ByAppointmentOnly</th>\n",
       "      <th>BusinessAcceptsCreditCards</th>\n",
       "      <th>BikeParking</th>\n",
       "      <th>RestaurantsPriceRange2</th>\n",
       "      <th>CoatCheck</th>\n",
       "      <th>RestaurantsTakeOut</th>\n",
       "      <th>RestaurantsDelivery</th>\n",
       "      <th>Caters</th>\n",
       "      <th>WiFi</th>\n",
       "      <th>BusinessParking</th>\n",
       "      <th>...</th>\n",
       "      <th>BestNights</th>\n",
       "      <th>BYOB</th>\n",
       "      <th>Corkage</th>\n",
       "      <th>BYOBCorkage</th>\n",
       "      <th>HairSpecializesIn</th>\n",
       "      <th>Open24Hours</th>\n",
       "      <th>RestaurantsCounterService</th>\n",
       "      <th>AgesAllowed</th>\n",
       "      <th>DietaryRestrictions</th>\n",
       "      <th>business_id</th>\n",
       "    </tr>\n",
       "  </thead>\n",
       "  <tbody>\n",
       "    <tr>\n",
       "      <th>0</th>\n",
       "      <td>True</td>\n",
       "      <td>NaN</td>\n",
       "      <td>NaN</td>\n",
       "      <td>NaN</td>\n",
       "      <td>NaN</td>\n",
       "      <td>NaN</td>\n",
       "      <td>NaN</td>\n",
       "      <td>NaN</td>\n",
       "      <td>NaN</td>\n",
       "      <td>NaN</td>\n",
       "      <td>...</td>\n",
       "      <td>NaN</td>\n",
       "      <td>NaN</td>\n",
       "      <td>NaN</td>\n",
       "      <td>NaN</td>\n",
       "      <td>NaN</td>\n",
       "      <td>NaN</td>\n",
       "      <td>NaN</td>\n",
       "      <td>NaN</td>\n",
       "      <td>NaN</td>\n",
       "      <td>0</td>\n",
       "    </tr>\n",
       "    <tr>\n",
       "      <th>1</th>\n",
       "      <td>NaN</td>\n",
       "      <td>True</td>\n",
       "      <td>NaN</td>\n",
       "      <td>NaN</td>\n",
       "      <td>NaN</td>\n",
       "      <td>NaN</td>\n",
       "      <td>NaN</td>\n",
       "      <td>NaN</td>\n",
       "      <td>NaN</td>\n",
       "      <td>NaN</td>\n",
       "      <td>...</td>\n",
       "      <td>NaN</td>\n",
       "      <td>NaN</td>\n",
       "      <td>NaN</td>\n",
       "      <td>NaN</td>\n",
       "      <td>NaN</td>\n",
       "      <td>NaN</td>\n",
       "      <td>NaN</td>\n",
       "      <td>NaN</td>\n",
       "      <td>NaN</td>\n",
       "      <td>1</td>\n",
       "    </tr>\n",
       "    <tr>\n",
       "      <th>2</th>\n",
       "      <td>False</td>\n",
       "      <td>True</td>\n",
       "      <td>True</td>\n",
       "      <td>2</td>\n",
       "      <td>False</td>\n",
       "      <td>False</td>\n",
       "      <td>False</td>\n",
       "      <td>False</td>\n",
       "      <td>u'no'</td>\n",
       "      <td>{'garage': False, 'street': False, 'validated'...</td>\n",
       "      <td>...</td>\n",
       "      <td>NaN</td>\n",
       "      <td>NaN</td>\n",
       "      <td>NaN</td>\n",
       "      <td>NaN</td>\n",
       "      <td>NaN</td>\n",
       "      <td>NaN</td>\n",
       "      <td>NaN</td>\n",
       "      <td>NaN</td>\n",
       "      <td>NaN</td>\n",
       "      <td>2</td>\n",
       "    </tr>\n",
       "    <tr>\n",
       "      <th>3</th>\n",
       "      <td>False</td>\n",
       "      <td>False</td>\n",
       "      <td>True</td>\n",
       "      <td>1</td>\n",
       "      <td>NaN</td>\n",
       "      <td>True</td>\n",
       "      <td>False</td>\n",
       "      <td>True</td>\n",
       "      <td>u'free'</td>\n",
       "      <td>{'garage': False, 'street': True, 'validated':...</td>\n",
       "      <td>...</td>\n",
       "      <td>NaN</td>\n",
       "      <td>NaN</td>\n",
       "      <td>NaN</td>\n",
       "      <td>NaN</td>\n",
       "      <td>NaN</td>\n",
       "      <td>NaN</td>\n",
       "      <td>NaN</td>\n",
       "      <td>NaN</td>\n",
       "      <td>NaN</td>\n",
       "      <td>3</td>\n",
       "    </tr>\n",
       "    <tr>\n",
       "      <th>4</th>\n",
       "      <td>NaN</td>\n",
       "      <td>True</td>\n",
       "      <td>True</td>\n",
       "      <td>NaN</td>\n",
       "      <td>NaN</td>\n",
       "      <td>True</td>\n",
       "      <td>NaN</td>\n",
       "      <td>False</td>\n",
       "      <td>NaN</td>\n",
       "      <td>{'garage': None, 'street': None, 'validated': ...</td>\n",
       "      <td>...</td>\n",
       "      <td>NaN</td>\n",
       "      <td>NaN</td>\n",
       "      <td>NaN</td>\n",
       "      <td>NaN</td>\n",
       "      <td>NaN</td>\n",
       "      <td>NaN</td>\n",
       "      <td>NaN</td>\n",
       "      <td>NaN</td>\n",
       "      <td>NaN</td>\n",
       "      <td>4</td>\n",
       "    </tr>\n",
       "    <tr>\n",
       "      <th>...</th>\n",
       "      <td>...</td>\n",
       "      <td>...</td>\n",
       "      <td>...</td>\n",
       "      <td>...</td>\n",
       "      <td>...</td>\n",
       "      <td>...</td>\n",
       "      <td>...</td>\n",
       "      <td>...</td>\n",
       "      <td>...</td>\n",
       "      <td>...</td>\n",
       "      <td>...</td>\n",
       "      <td>...</td>\n",
       "      <td>...</td>\n",
       "      <td>...</td>\n",
       "      <td>...</td>\n",
       "      <td>...</td>\n",
       "      <td>...</td>\n",
       "      <td>...</td>\n",
       "      <td>...</td>\n",
       "      <td>...</td>\n",
       "      <td>...</td>\n",
       "    </tr>\n",
       "    <tr>\n",
       "      <th>150341</th>\n",
       "      <td>False</td>\n",
       "      <td>NaN</td>\n",
       "      <td>NaN</td>\n",
       "      <td>3</td>\n",
       "      <td>NaN</td>\n",
       "      <td>NaN</td>\n",
       "      <td>NaN</td>\n",
       "      <td>NaN</td>\n",
       "      <td>NaN</td>\n",
       "      <td>NaN</td>\n",
       "      <td>...</td>\n",
       "      <td>NaN</td>\n",
       "      <td>NaN</td>\n",
       "      <td>NaN</td>\n",
       "      <td>NaN</td>\n",
       "      <td>NaN</td>\n",
       "      <td>NaN</td>\n",
       "      <td>NaN</td>\n",
       "      <td>NaN</td>\n",
       "      <td>NaN</td>\n",
       "      <td>150341</td>\n",
       "    </tr>\n",
       "    <tr>\n",
       "      <th>150342</th>\n",
       "      <td>NaN</td>\n",
       "      <td>True</td>\n",
       "      <td>True</td>\n",
       "      <td>2</td>\n",
       "      <td>NaN</td>\n",
       "      <td>NaN</td>\n",
       "      <td>NaN</td>\n",
       "      <td>NaN</td>\n",
       "      <td>u'no'</td>\n",
       "      <td>{'garage': False, 'street': False, 'validated'...</td>\n",
       "      <td>...</td>\n",
       "      <td>NaN</td>\n",
       "      <td>NaN</td>\n",
       "      <td>NaN</td>\n",
       "      <td>NaN</td>\n",
       "      <td>NaN</td>\n",
       "      <td>NaN</td>\n",
       "      <td>NaN</td>\n",
       "      <td>NaN</td>\n",
       "      <td>NaN</td>\n",
       "      <td>150342</td>\n",
       "    </tr>\n",
       "    <tr>\n",
       "      <th>150343</th>\n",
       "      <td>NaN</td>\n",
       "      <td>True</td>\n",
       "      <td>NaN</td>\n",
       "      <td>1</td>\n",
       "      <td>NaN</td>\n",
       "      <td>NaN</td>\n",
       "      <td>NaN</td>\n",
       "      <td>NaN</td>\n",
       "      <td>NaN</td>\n",
       "      <td>NaN</td>\n",
       "      <td>...</td>\n",
       "      <td>NaN</td>\n",
       "      <td>NaN</td>\n",
       "      <td>NaN</td>\n",
       "      <td>NaN</td>\n",
       "      <td>NaN</td>\n",
       "      <td>NaN</td>\n",
       "      <td>NaN</td>\n",
       "      <td>NaN</td>\n",
       "      <td>NaN</td>\n",
       "      <td>150343</td>\n",
       "    </tr>\n",
       "    <tr>\n",
       "      <th>150344</th>\n",
       "      <td>NaN</td>\n",
       "      <td>True</td>\n",
       "      <td>True</td>\n",
       "      <td>4</td>\n",
       "      <td>NaN</td>\n",
       "      <td>None</td>\n",
       "      <td>None</td>\n",
       "      <td>NaN</td>\n",
       "      <td>NaN</td>\n",
       "      <td>{'garage': False, 'street': False, 'validated'...</td>\n",
       "      <td>...</td>\n",
       "      <td>NaN</td>\n",
       "      <td>NaN</td>\n",
       "      <td>NaN</td>\n",
       "      <td>NaN</td>\n",
       "      <td>NaN</td>\n",
       "      <td>NaN</td>\n",
       "      <td>NaN</td>\n",
       "      <td>NaN</td>\n",
       "      <td>NaN</td>\n",
       "      <td>150344</td>\n",
       "    </tr>\n",
       "    <tr>\n",
       "      <th>150345</th>\n",
       "      <td>False</td>\n",
       "      <td>True</td>\n",
       "      <td>False</td>\n",
       "      <td>1</td>\n",
       "      <td>NaN</td>\n",
       "      <td>NaN</td>\n",
       "      <td>NaN</td>\n",
       "      <td>NaN</td>\n",
       "      <td>u'free'</td>\n",
       "      <td>{'garage': False, 'street': False, 'validated'...</td>\n",
       "      <td>...</td>\n",
       "      <td>NaN</td>\n",
       "      <td>NaN</td>\n",
       "      <td>NaN</td>\n",
       "      <td>NaN</td>\n",
       "      <td>NaN</td>\n",
       "      <td>NaN</td>\n",
       "      <td>NaN</td>\n",
       "      <td>NaN</td>\n",
       "      <td>NaN</td>\n",
       "      <td>150345</td>\n",
       "    </tr>\n",
       "  </tbody>\n",
       "</table>\n",
       "<p>150346 rows × 40 columns</p>\n",
       "</div>"
      ],
      "text/plain": [
       "       ByAppointmentOnly BusinessAcceptsCreditCards BikeParking  \\\n",
       "0                   True                        NaN         NaN   \n",
       "1                    NaN                       True         NaN   \n",
       "2                  False                       True        True   \n",
       "3                  False                      False        True   \n",
       "4                    NaN                       True        True   \n",
       "...                  ...                        ...         ...   \n",
       "150341             False                        NaN         NaN   \n",
       "150342               NaN                       True        True   \n",
       "150343               NaN                       True         NaN   \n",
       "150344               NaN                       True        True   \n",
       "150345             False                       True       False   \n",
       "\n",
       "       RestaurantsPriceRange2 CoatCheck RestaurantsTakeOut  \\\n",
       "0                         NaN       NaN                NaN   \n",
       "1                         NaN       NaN                NaN   \n",
       "2                           2     False              False   \n",
       "3                           1       NaN               True   \n",
       "4                         NaN       NaN               True   \n",
       "...                       ...       ...                ...   \n",
       "150341                      3       NaN                NaN   \n",
       "150342                      2       NaN                NaN   \n",
       "150343                      1       NaN                NaN   \n",
       "150344                      4       NaN               None   \n",
       "150345                      1       NaN                NaN   \n",
       "\n",
       "       RestaurantsDelivery Caters     WiFi  \\\n",
       "0                      NaN    NaN      NaN   \n",
       "1                      NaN    NaN      NaN   \n",
       "2                    False  False    u'no'   \n",
       "3                    False   True  u'free'   \n",
       "4                      NaN  False      NaN   \n",
       "...                    ...    ...      ...   \n",
       "150341                 NaN    NaN      NaN   \n",
       "150342                 NaN    NaN    u'no'   \n",
       "150343                 NaN    NaN      NaN   \n",
       "150344                None    NaN      NaN   \n",
       "150345                 NaN    NaN  u'free'   \n",
       "\n",
       "                                          BusinessParking  ... BestNights  \\\n",
       "0                                                     NaN  ...        NaN   \n",
       "1                                                     NaN  ...        NaN   \n",
       "2       {'garage': False, 'street': False, 'validated'...  ...        NaN   \n",
       "3       {'garage': False, 'street': True, 'validated':...  ...        NaN   \n",
       "4       {'garage': None, 'street': None, 'validated': ...  ...        NaN   \n",
       "...                                                   ...  ...        ...   \n",
       "150341                                                NaN  ...        NaN   \n",
       "150342  {'garage': False, 'street': False, 'validated'...  ...        NaN   \n",
       "150343                                                NaN  ...        NaN   \n",
       "150344  {'garage': False, 'street': False, 'validated'...  ...        NaN   \n",
       "150345  {'garage': False, 'street': False, 'validated'...  ...        NaN   \n",
       "\n",
       "       BYOB Corkage BYOBCorkage HairSpecializesIn Open24Hours  \\\n",
       "0       NaN     NaN         NaN               NaN         NaN   \n",
       "1       NaN     NaN         NaN               NaN         NaN   \n",
       "2       NaN     NaN         NaN               NaN         NaN   \n",
       "3       NaN     NaN         NaN               NaN         NaN   \n",
       "4       NaN     NaN         NaN               NaN         NaN   \n",
       "...     ...     ...         ...               ...         ...   \n",
       "150341  NaN     NaN         NaN               NaN         NaN   \n",
       "150342  NaN     NaN         NaN               NaN         NaN   \n",
       "150343  NaN     NaN         NaN               NaN         NaN   \n",
       "150344  NaN     NaN         NaN               NaN         NaN   \n",
       "150345  NaN     NaN         NaN               NaN         NaN   \n",
       "\n",
       "       RestaurantsCounterService AgesAllowed DietaryRestrictions business_id  \n",
       "0                            NaN         NaN                 NaN           0  \n",
       "1                            NaN         NaN                 NaN           1  \n",
       "2                            NaN         NaN                 NaN           2  \n",
       "3                            NaN         NaN                 NaN           3  \n",
       "4                            NaN         NaN                 NaN           4  \n",
       "...                          ...         ...                 ...         ...  \n",
       "150341                       NaN         NaN                 NaN      150341  \n",
       "150342                       NaN         NaN                 NaN      150342  \n",
       "150343                       NaN         NaN                 NaN      150343  \n",
       "150344                       NaN         NaN                 NaN      150344  \n",
       "150345                       NaN         NaN                 NaN      150345  \n",
       "\n",
       "[150346 rows x 40 columns]"
      ]
     },
     "execution_count": 107,
     "metadata": {},
     "output_type": "execute_result"
    }
   ],
   "source": [
    "attributes"
   ]
  },
  {
   "cell_type": "code",
   "execution_count": 116,
   "metadata": {},
   "outputs": [
    {
     "data": {
      "text/plain": [
       "0                        {'ByAppointmentOnly': 'True'}\n",
       "1               {'BusinessAcceptsCreditCards': 'True'}\n",
       "2    {'BikeParking': 'True', 'BusinessAcceptsCredit...\n",
       "3    {'RestaurantsDelivery': 'False', 'OutdoorSeati...\n",
       "4    {'BusinessAcceptsCreditCards': 'True', 'Wheelc...\n",
       "Name: attributes, dtype: object"
      ]
     },
     "execution_count": 116,
     "metadata": {},
     "output_type": "execute_result"
    }
   ],
   "source": [
    "business_df.attributes.head()"
   ]
  },
  {
   "cell_type": "code",
   "execution_count": 113,
   "metadata": {
    "ExecuteTime": {
     "end_time": "2019-09-22T15:51:32.919968Z",
     "start_time": "2019-09-22T15:51:32.911402Z"
    }
   },
   "outputs": [
    {
     "name": "stdout",
     "output_type": "stream",
     "text": [
      "Example #1 {'BusinessAcceptsCreditCards': 'True', 'WheelchairAccessible': 'True', 'RestaurantsTakeOut': 'True', 'BusinessParking': \"{'garage': None, 'street': None, 'validated': None, 'lot': True, 'valet': False}\", 'BikeParking': 'True', 'GoodForKids': 'True', 'Caters': 'False'}\n",
      "----------\n",
      "Example #2 {'RestaurantsTableService': 'True', 'NoiseLevel': \"u'average'\", 'BusinessAcceptsCreditCards': 'True', 'RestaurantsAttire': \"u'casual'\", 'RestaurantsReservations': 'False', 'BusinessParking': \"{'garage': False, 'street': True, 'validated': False, 'lot': False, 'valet': False}\", 'DogsAllowed': 'False', 'RestaurantsDelivery': 'False', 'GoodForMeal': \"{'dessert': True, 'latenight': None, 'lunch': True, 'dinner': None, 'brunch': None, 'breakfast': None}\", 'RestaurantsPriceRange2': '2', 'WiFi': \"u'free'\", 'HasTV': 'True', 'Caters': 'True', 'BikeParking': 'True', 'GoodForKids': 'True', 'RestaurantsTakeOut': 'True', 'OutdoorSeating': 'True', 'RestaurantsGoodForGroups': 'True', 'WheelchairAccessible': 'True', 'Alcohol': \"u'full_bar'\", 'Ambience': \"{u'divey': None, u'hipster': None, u'casual': True, u'touristy': None, u'trendy': None, u'intimate': None, u'romantic': None, u'classy': None, u'upscale': None}\"}\n"
     ]
    }
   ],
   "source": [
    "# Compare the df['attributes'][1] with others\n",
    "# Each business_id contains different information in the attributes column\n",
    "print('Example #1', business_df['attributes'][4])\n",
    "print('----------')\n",
    "print('Example #2', business_df['attributes'][1000])"
   ]
  },
  {
   "cell_type": "markdown",
   "metadata": {},
   "source": [
    "#  Expand the attributes and category columns by using DictVectorizer()"
   ]
  },
  {
   "cell_type": "markdown",
   "metadata": {},
   "source": [
    "Since each business contains different amount of attribute information in the 'attribute' column, We decided to expand the columns by using  DictVectorizer(). \n",
    "However, the following columns needs to be manually expanded due to the dictionary type for these keys: Ambience, Business Parking, Good For Meal. "
   ]
  },
  {
   "cell_type": "code",
   "execution_count": 30,
   "metadata": {
    "ExecuteTime": {
     "end_time": "2019-09-30T16:05:06.430659Z",
     "start_time": "2019-09-30T16:05:06.390380Z"
    }
   },
   "outputs": [],
   "source": [
    "# Remove empty cells in 'attributes' column in df\n",
    "my_dict = business_df[['attributes']].dropna()"
   ]
  },
  {
   "cell_type": "code",
   "execution_count": 31,
   "metadata": {
    "ExecuteTime": {
     "end_time": "2019-09-30T16:05:07.192600Z",
     "start_time": "2019-09-30T16:05:06.972252Z"
    }
   },
   "outputs": [],
   "source": [
    "# Remove empty cells in my_dict\n",
    "my_dict.dropna(inplace=True)"
   ]
  },
  {
   "cell_type": "code",
   "execution_count": 32,
   "metadata": {
    "ExecuteTime": {
     "end_time": "2019-09-30T16:05:07.558498Z",
     "start_time": "2019-09-30T16:05:07.544736Z"
    }
   },
   "outputs": [
    {
     "name": "stdout",
     "output_type": "stream",
     "text": [
      "(136602, 1)\n"
     ]
    },
    {
     "data": {
      "text/html": [
       "<div>\n",
       "<style scoped>\n",
       "    .dataframe tbody tr th:only-of-type {\n",
       "        vertical-align: middle;\n",
       "    }\n",
       "\n",
       "    .dataframe tbody tr th {\n",
       "        vertical-align: top;\n",
       "    }\n",
       "\n",
       "    .dataframe thead th {\n",
       "        text-align: right;\n",
       "    }\n",
       "</style>\n",
       "<table border=\"1\" class=\"dataframe\">\n",
       "  <thead>\n",
       "    <tr style=\"text-align: right;\">\n",
       "      <th></th>\n",
       "      <th>attributes</th>\n",
       "    </tr>\n",
       "  </thead>\n",
       "  <tbody>\n",
       "    <tr>\n",
       "      <th>0</th>\n",
       "      <td>{'ByAppointmentOnly': 'True'}</td>\n",
       "    </tr>\n",
       "    <tr>\n",
       "      <th>1</th>\n",
       "      <td>{'BusinessAcceptsCreditCards': 'True'}</td>\n",
       "    </tr>\n",
       "    <tr>\n",
       "      <th>2</th>\n",
       "      <td>{'BikeParking': 'True', 'BusinessAcceptsCredit...</td>\n",
       "    </tr>\n",
       "    <tr>\n",
       "      <th>3</th>\n",
       "      <td>{'RestaurantsDelivery': 'False', 'OutdoorSeati...</td>\n",
       "    </tr>\n",
       "    <tr>\n",
       "      <th>4</th>\n",
       "      <td>{'BusinessAcceptsCreditCards': 'True', 'Wheelc...</td>\n",
       "    </tr>\n",
       "  </tbody>\n",
       "</table>\n",
       "</div>"
      ],
      "text/plain": [
       "                                          attributes\n",
       "0                      {'ByAppointmentOnly': 'True'}\n",
       "1             {'BusinessAcceptsCreditCards': 'True'}\n",
       "2  {'BikeParking': 'True', 'BusinessAcceptsCredit...\n",
       "3  {'RestaurantsDelivery': 'False', 'OutdoorSeati...\n",
       "4  {'BusinessAcceptsCreditCards': 'True', 'Wheelc..."
      ]
     },
     "execution_count": 32,
     "metadata": {},
     "output_type": "execute_result"
    }
   ],
   "source": [
    "# Check shape\n",
    "print(my_dict.shape)\n",
    "\n",
    "# Check how the attribute column looks like\n",
    "my_dict.head()"
   ]
  },
  {
   "cell_type": "code",
   "execution_count": 33,
   "metadata": {
    "ExecuteTime": {
     "end_time": "2019-09-30T16:05:12.420264Z",
     "start_time": "2019-09-30T16:05:10.651575Z"
    }
   },
   "outputs": [
    {
     "data": {
      "text/plain": [
       "(136602, 3668)"
      ]
     },
     "execution_count": 33,
     "metadata": {},
     "output_type": "execute_result"
    }
   ],
   "source": [
    "# Create extra columns indicating the presence or absence of a category with a value of 1 or 0\n",
    "dvec_attributes = DictVectorizer()\n",
    "dmat_attributes = dvec_attributes.fit_transform(my_dict['attributes'])\n",
    "df_attributes = pd.DataFrame(dmat_attributes.toarray(), columns=dvec_attributes.get_feature_names(), index=my_dict['attributes'].index)\n",
    "df_attributes.shape"
   ]
  },
  {
   "cell_type": "code",
   "execution_count": 34,
   "metadata": {
    "ExecuteTime": {
     "end_time": "2019-09-30T16:05:53.636929Z",
     "start_time": "2019-09-30T16:05:53.628994Z"
    }
   },
   "outputs": [
    {
     "name": "stdout",
     "output_type": "stream",
     "text": [
      "BusinessParking={'garage': False, 'street': False, 'validated': False, 'lot': False, 'valet': False}\n",
      "3570\n"
     ]
    }
   ],
   "source": [
    "# Drop unnecessary columns\n",
    "# 'BusinessParking', 'GoodForMeal', 'Ambience': I will apply DictVectorizer() separately thus this dataframe doesn't need to keep the columns here\n",
    "# DietaryRestrictions / BestNights: I found this does not contain insightful data\n",
    "# HairSpecializesIn: I focus on restaurants thus this has to be removed\n",
    "# =u: Original Business.JSON has duplicated keys in the nested dictionary. These contain =u\n",
    "\n",
    "remove_keys = ['BusinessParking', 'GoodForMeal', 'Ambience', 'Music',\\\n",
    "               'DietaryRestrictions', 'BestNights', 'HairSpecializesIn', '=u']\n",
    "remove_col_list = []\n",
    "i = 0\n",
    "for i in range(len(remove_keys)):\n",
    "    for col in df_attributes.columns:\n",
    "        if remove_keys[i] in col:\n",
    "            remove_col_list.append(col)\n",
    "            i + 1\n",
    "print(remove_col_list[1])\n",
    "print(len(remove_col_list))"
   ]
  },
  {
   "cell_type": "code",
   "execution_count": 35,
   "metadata": {
    "ExecuteTime": {
     "end_time": "2019-09-22T15:51:35.423553Z",
     "start_time": "2019-09-22T15:51:35.156330Z"
    }
   },
   "outputs": [
    {
     "data": {
      "text/plain": [
       "(136602, 98)"
      ]
     },
     "execution_count": 35,
     "metadata": {},
     "output_type": "execute_result"
    }
   ],
   "source": [
    "# Remove all the columns listed in remove_col_list from the DataFrame\n",
    "df_attributes.drop(columns=remove_col_list, inplace=True)\n",
    "df_attributes.shape"
   ]
  },
  {
   "cell_type": "code",
   "execution_count": 36,
   "metadata": {
    "ExecuteTime": {
     "end_time": "2019-09-22T15:51:35.523112Z",
     "start_time": "2019-09-22T15:51:35.425381Z"
    }
   },
   "outputs": [],
   "source": [
    "# Create columns per ambience feature\n",
    "# Fill NaN in the empty cells\n",
    "my_dict['ambience'] = my_dict['attributes'].map(lambda x: (x['Ambience']) if 'Ambience' in x else np.nan)"
   ]
  },
  {
   "cell_type": "code",
   "execution_count": 37,
   "metadata": {
    "ExecuteTime": {
     "end_time": "2019-09-22T15:51:35.530368Z",
     "start_time": "2019-09-22T15:51:35.525162Z"
    }
   },
   "outputs": [],
   "source": [
    "# Delete keys from 'attributes' column to avoid duplicates\n",
    "selected_key = 'Ambience'\n",
    "def dropkey(x, key=selected_key):\n",
    "    y = deepcopy(x)\n",
    "    if key in y:\n",
    "         del y[key]\n",
    "    return y"
   ]
  },
  {
   "cell_type": "code",
   "execution_count": 38,
   "metadata": {
    "ExecuteTime": {
     "end_time": "2019-09-22T15:51:38.397595Z",
     "start_time": "2019-09-22T15:51:35.532242Z"
    }
   },
   "outputs": [],
   "source": [
    "# Apply a function to all the items in the list\n",
    "my_dict['attributes'] = my_dict['attributes'].map(dropkey)\n",
    "\n",
    "# Replace 'None' with NaN in the column\n",
    "my_dict['ambience'][my_dict['ambience'] == 'None'] = np.nan\n",
    "\n",
    "# Apply a function to all the items in the list\n",
    "my_dict['ambience'] = my_dict['ambience'].map(lambda x: eval(x) if type(x)==str else x)"
   ]
  },
  {
   "cell_type": "code",
   "execution_count": 39,
   "metadata": {
    "ExecuteTime": {
     "end_time": "2019-09-22T15:51:38.429671Z",
     "start_time": "2019-09-22T15:51:38.399528Z"
    }
   },
   "outputs": [],
   "source": [
    "# Remove all NaN values before using DictVectorizer()\n",
    "my_dict.dropna(inplace=True)"
   ]
  },
  {
   "cell_type": "code",
   "execution_count": 40,
   "metadata": {
    "ExecuteTime": {
     "end_time": "2019-09-22T15:51:38.438317Z",
     "start_time": "2019-09-22T15:51:38.432697Z"
    }
   },
   "outputs": [
    {
     "data": {
      "text/plain": [
       "(43728, 2)"
      ]
     },
     "execution_count": 40,
     "metadata": {},
     "output_type": "execute_result"
    }
   ],
   "source": [
    "# Check the shape\n",
    "my_dict.shape"
   ]
  },
  {
   "cell_type": "code",
   "execution_count": 41,
   "metadata": {
    "ExecuteTime": {
     "end_time": "2019-09-22T15:51:38.735146Z",
     "start_time": "2019-09-22T15:51:38.440428Z"
    }
   },
   "outputs": [],
   "source": [
    "# Apply DictVectorizer to extract features and put them into a Pandas DataFrame\n",
    "dvec_ambience = DictVectorizer()\n",
    "dmat_ambience = dvec_ambience.fit_transform(my_dict['ambience'])\n",
    "\n",
    "# Create a DataFrame\n",
    "df_ambience = pd.DataFrame(dmat_ambience.toarray(), columns=dvec_ambience.get_feature_names(), index=my_dict['ambience'].index)"
   ]
  },
  {
   "cell_type": "code",
   "execution_count": 42,
   "metadata": {
    "ExecuteTime": {
     "end_time": "2019-09-22T15:51:38.741450Z",
     "start_time": "2019-09-22T15:51:38.736876Z"
    }
   },
   "outputs": [
    {
     "data": {
      "text/plain": [
       "Index(['casual', 'classy', 'divey', 'hipster', 'intimate', 'romantic',\n",
       "       'touristy', 'trendy', 'upscale'],\n",
       "      dtype='object')"
      ]
     },
     "execution_count": 42,
     "metadata": {},
     "output_type": "execute_result"
    }
   ],
   "source": [
    "# Check how the ambience features were expanded to columns\n",
    "df_ambience.columns"
   ]
  },
  {
   "cell_type": "code",
   "execution_count": 43,
   "metadata": {
    "ExecuteTime": {
     "end_time": "2019-09-22T15:51:38.756994Z",
     "start_time": "2019-09-22T15:51:38.745981Z"
    }
   },
   "outputs": [],
   "source": [
    "# Change column names for future use\n",
    "df_ambience.columns = [\n",
    "                        'ambience_Casual',\n",
    "                        'ambience_Classy',\n",
    "                        'ambience_Divey',\n",
    "                        'ambience_Hipster',\n",
    "                        'ambience_Intimate',\n",
    "                        'ambience_Romantic',\n",
    "                        'ambience_Touristy',\n",
    "                        'ambience_Trendy',\n",
    "                        'ambience_Upscale',\n",
    "                      ]"
   ]
  },
  {
   "cell_type": "code",
   "execution_count": 44,
   "metadata": {
    "ExecuteTime": {
     "end_time": "2019-09-22T15:51:38.780263Z",
     "start_time": "2019-09-22T15:51:38.762651Z"
    }
   },
   "outputs": [
    {
     "data": {
      "text/html": [
       "<div>\n",
       "<style scoped>\n",
       "    .dataframe tbody tr th:only-of-type {\n",
       "        vertical-align: middle;\n",
       "    }\n",
       "\n",
       "    .dataframe tbody tr th {\n",
       "        vertical-align: top;\n",
       "    }\n",
       "\n",
       "    .dataframe thead th {\n",
       "        text-align: right;\n",
       "    }\n",
       "</style>\n",
       "<table border=\"1\" class=\"dataframe\">\n",
       "  <thead>\n",
       "    <tr style=\"text-align: right;\">\n",
       "      <th></th>\n",
       "      <th>ambience_Casual</th>\n",
       "      <th>ambience_Classy</th>\n",
       "      <th>ambience_Divey</th>\n",
       "      <th>ambience_Hipster</th>\n",
       "      <th>ambience_Intimate</th>\n",
       "      <th>ambience_Romantic</th>\n",
       "      <th>ambience_Touristy</th>\n",
       "      <th>ambience_Trendy</th>\n",
       "      <th>ambience_Upscale</th>\n",
       "    </tr>\n",
       "  </thead>\n",
       "  <tbody>\n",
       "    <tr>\n",
       "      <th>8</th>\n",
       "      <td>0.0</td>\n",
       "      <td>0.0</td>\n",
       "      <td>0.0</td>\n",
       "      <td>0.0</td>\n",
       "      <td>0.0</td>\n",
       "      <td>0.0</td>\n",
       "      <td>0.0</td>\n",
       "      <td>0.0</td>\n",
       "      <td>0.0</td>\n",
       "    </tr>\n",
       "    <tr>\n",
       "      <th>11</th>\n",
       "      <td>0.0</td>\n",
       "      <td>0.0</td>\n",
       "      <td>0.0</td>\n",
       "      <td>0.0</td>\n",
       "      <td>0.0</td>\n",
       "      <td>0.0</td>\n",
       "      <td>0.0</td>\n",
       "      <td>0.0</td>\n",
       "      <td>0.0</td>\n",
       "    </tr>\n",
       "    <tr>\n",
       "      <th>12</th>\n",
       "      <td>1.0</td>\n",
       "      <td>NaN</td>\n",
       "      <td>NaN</td>\n",
       "      <td>NaN</td>\n",
       "      <td>NaN</td>\n",
       "      <td>0.0</td>\n",
       "      <td>NaN</td>\n",
       "      <td>NaN</td>\n",
       "      <td>NaN</td>\n",
       "    </tr>\n",
       "    <tr>\n",
       "      <th>14</th>\n",
       "      <td>1.0</td>\n",
       "      <td>0.0</td>\n",
       "      <td>0.0</td>\n",
       "      <td>0.0</td>\n",
       "      <td>0.0</td>\n",
       "      <td>0.0</td>\n",
       "      <td>0.0</td>\n",
       "      <td>0.0</td>\n",
       "      <td>0.0</td>\n",
       "    </tr>\n",
       "    <tr>\n",
       "      <th>15</th>\n",
       "      <td>0.0</td>\n",
       "      <td>1.0</td>\n",
       "      <td>0.0</td>\n",
       "      <td>0.0</td>\n",
       "      <td>0.0</td>\n",
       "      <td>0.0</td>\n",
       "      <td>0.0</td>\n",
       "      <td>0.0</td>\n",
       "      <td>0.0</td>\n",
       "    </tr>\n",
       "  </tbody>\n",
       "</table>\n",
       "</div>"
      ],
      "text/plain": [
       "    ambience_Casual  ambience_Classy  ambience_Divey  ambience_Hipster  \\\n",
       "8               0.0              0.0             0.0               0.0   \n",
       "11              0.0              0.0             0.0               0.0   \n",
       "12              1.0              NaN             NaN               NaN   \n",
       "14              1.0              0.0             0.0               0.0   \n",
       "15              0.0              1.0             0.0               0.0   \n",
       "\n",
       "    ambience_Intimate  ambience_Romantic  ambience_Touristy  ambience_Trendy  \\\n",
       "8                 0.0                0.0                0.0              0.0   \n",
       "11                0.0                0.0                0.0              0.0   \n",
       "12                NaN                0.0                NaN              NaN   \n",
       "14                0.0                0.0                0.0              0.0   \n",
       "15                0.0                0.0                0.0              0.0   \n",
       "\n",
       "    ambience_Upscale  \n",
       "8                0.0  \n",
       "11               0.0  \n",
       "12               NaN  \n",
       "14               0.0  \n",
       "15               0.0  "
      ]
     },
     "execution_count": 44,
     "metadata": {},
     "output_type": "execute_result"
    }
   ],
   "source": [
    "# Check how the DataFrame looks like\n",
    "df_ambience.head()"
   ]
  },
  {
   "cell_type": "code",
   "execution_count": 45,
   "metadata": {
    "ExecuteTime": {
     "end_time": "2019-09-22T15:51:38.786471Z",
     "start_time": "2019-09-22T15:51:38.782925Z"
    }
   },
   "outputs": [
    {
     "data": {
      "text/plain": [
       "(43728, 9)"
      ]
     },
     "execution_count": 45,
     "metadata": {},
     "output_type": "execute_result"
    }
   ],
   "source": [
    "# Check the shape\n",
    "df_ambience.shape"
   ]
  },
  {
   "cell_type": "markdown",
   "metadata": {},
   "source": [
    "## Create columns per Business Parking features"
   ]
  },
  {
   "cell_type": "code",
   "execution_count": 46,
   "metadata": {
    "ExecuteTime": {
     "end_time": "2019-09-22T15:51:38.837276Z",
     "start_time": "2019-09-22T15:51:38.788470Z"
    }
   },
   "outputs": [
    {
     "data": {
      "text/plain": [
       "8     {'garage': False, 'street': False, 'validated'...\n",
       "11    {'garage': False, 'street': False, 'validated'...\n",
       "12    {'garage': None, 'street': False, 'validated':...\n",
       "14    {'garage': False, 'street': False, 'validated'...\n",
       "15    {u'valet': False, u'garage': None, u'street': ...\n",
       "Name: businessparking, dtype: object"
      ]
     },
     "execution_count": 46,
     "metadata": {},
     "output_type": "execute_result"
    }
   ],
   "source": [
    "# Create columns per Business Parking features\n",
    "# Fill NaN in the empty cells\n",
    "my_dict['businessparking'] = my_dict['attributes'].map(lambda x: (x['BusinessParking']) if 'BusinessParking' in x else np.nan)\n",
    "my_dict['businessparking'].head()"
   ]
  },
  {
   "cell_type": "code",
   "execution_count": 47,
   "metadata": {
    "ExecuteTime": {
     "end_time": "2019-09-22T15:51:40.442318Z",
     "start_time": "2019-09-22T15:51:38.839069Z"
    }
   },
   "outputs": [],
   "source": [
    "# Follow the same step as Ambience features\n",
    "my_dict['attributes'] = my_dict['attributes'].map(dropkey)\n",
    "my_dict['businessparking'][my_dict['businessparking'] == 'None'] = np.nan\n",
    "my_dict['businessparking'] = my_dict['businessparking'].map(lambda x: eval(x) if type(x)==str else x)"
   ]
  },
  {
   "cell_type": "code",
   "execution_count": 48,
   "metadata": {
    "ExecuteTime": {
     "end_time": "2019-09-22T15:51:40.632426Z",
     "start_time": "2019-09-22T15:51:40.444375Z"
    }
   },
   "outputs": [],
   "source": [
    "# Apply DictVectorizer to extract features and put them into a Pandas dataframe\n",
    "dvec_parking = DictVectorizer()\n",
    "dmat_parking = dvec_parking.fit_transform(my_dict['businessparking'].fillna(method='ffill'))\n",
    "df_parking = pd.DataFrame(dmat_parking.toarray(), columns=dvec_parking.get_feature_names(), index=my_dict['businessparking'].index)"
   ]
  },
  {
   "cell_type": "code",
   "execution_count": 49,
   "metadata": {
    "ExecuteTime": {
     "end_time": "2019-09-22T15:51:40.638629Z",
     "start_time": "2019-09-22T15:51:40.634208Z"
    }
   },
   "outputs": [],
   "source": [
    "# Change column names for modelling and analysis\n",
    "df_parking.columns = [\n",
    "                        'parking_Garage',\n",
    "                        'parking_Lot',\n",
    "                        'parking_Street',\n",
    "                        'parking_Valet',\n",
    "                        'parking_Validated'\n",
    "                      ]"
   ]
  },
  {
   "cell_type": "code",
   "execution_count": 50,
   "metadata": {
    "ExecuteTime": {
     "end_time": "2019-09-22T15:51:40.658631Z",
     "start_time": "2019-09-22T15:51:40.641701Z"
    }
   },
   "outputs": [
    {
     "data": {
      "text/html": [
       "<div>\n",
       "<style scoped>\n",
       "    .dataframe tbody tr th:only-of-type {\n",
       "        vertical-align: middle;\n",
       "    }\n",
       "\n",
       "    .dataframe tbody tr th {\n",
       "        vertical-align: top;\n",
       "    }\n",
       "\n",
       "    .dataframe thead th {\n",
       "        text-align: right;\n",
       "    }\n",
       "</style>\n",
       "<table border=\"1\" class=\"dataframe\">\n",
       "  <thead>\n",
       "    <tr style=\"text-align: right;\">\n",
       "      <th></th>\n",
       "      <th>parking_Garage</th>\n",
       "      <th>parking_Lot</th>\n",
       "      <th>parking_Street</th>\n",
       "      <th>parking_Valet</th>\n",
       "      <th>parking_Validated</th>\n",
       "    </tr>\n",
       "  </thead>\n",
       "  <tbody>\n",
       "    <tr>\n",
       "      <th>8</th>\n",
       "      <td>0.0</td>\n",
       "      <td>1.0</td>\n",
       "      <td>0.0</td>\n",
       "      <td>0.0</td>\n",
       "      <td>0.0</td>\n",
       "    </tr>\n",
       "    <tr>\n",
       "      <th>11</th>\n",
       "      <td>0.0</td>\n",
       "      <td>0.0</td>\n",
       "      <td>0.0</td>\n",
       "      <td>0.0</td>\n",
       "      <td>0.0</td>\n",
       "    </tr>\n",
       "    <tr>\n",
       "      <th>12</th>\n",
       "      <td>NaN</td>\n",
       "      <td>1.0</td>\n",
       "      <td>0.0</td>\n",
       "      <td>0.0</td>\n",
       "      <td>NaN</td>\n",
       "    </tr>\n",
       "    <tr>\n",
       "      <th>14</th>\n",
       "      <td>0.0</td>\n",
       "      <td>1.0</td>\n",
       "      <td>0.0</td>\n",
       "      <td>0.0</td>\n",
       "      <td>0.0</td>\n",
       "    </tr>\n",
       "    <tr>\n",
       "      <th>15</th>\n",
       "      <td>NaN</td>\n",
       "      <td>0.0</td>\n",
       "      <td>1.0</td>\n",
       "      <td>0.0</td>\n",
       "      <td>NaN</td>\n",
       "    </tr>\n",
       "  </tbody>\n",
       "</table>\n",
       "</div>"
      ],
      "text/plain": [
       "    parking_Garage  parking_Lot  parking_Street  parking_Valet  \\\n",
       "8              0.0          1.0             0.0            0.0   \n",
       "11             0.0          0.0             0.0            0.0   \n",
       "12             NaN          1.0             0.0            0.0   \n",
       "14             0.0          1.0             0.0            0.0   \n",
       "15             NaN          0.0             1.0            0.0   \n",
       "\n",
       "    parking_Validated  \n",
       "8                 0.0  \n",
       "11                0.0  \n",
       "12                NaN  \n",
       "14                0.0  \n",
       "15                NaN  "
      ]
     },
     "execution_count": 50,
     "metadata": {},
     "output_type": "execute_result"
    }
   ],
   "source": [
    "df_parking.head()"
   ]
  },
  {
   "cell_type": "markdown",
   "metadata": {},
   "source": [
    "## Create columns per GoodForMeal features"
   ]
  },
  {
   "cell_type": "code",
   "execution_count": 68,
   "metadata": {
    "ExecuteTime": {
     "end_time": "2019-09-22T15:51:40.687997Z",
     "start_time": "2019-09-22T15:51:40.661292Z"
    }
   },
   "outputs": [],
   "source": [
    "# Fill NaN in the empty cells\n",
    "my_dict['goodformeal'] = my_dict['attributes'].map(lambda x: (x['GoodForMeal']) if 'GoodForMeal' in x else np.nan)"
   ]
  },
  {
   "cell_type": "code",
   "execution_count": 69,
   "metadata": {
    "ExecuteTime": {
     "end_time": "2019-09-22T15:51:42.057646Z",
     "start_time": "2019-09-22T15:51:40.689933Z"
    }
   },
   "outputs": [],
   "source": [
    "# Follow the same step as Ambience features\n",
    "my_dict['attributes'] = my_dict['attributes'].map(dropkey)\n",
    "my_dict['goodformeal'][my_dict['goodformeal'] == 'None'] = np.nan\n",
    "my_dict['goodformeal'] = my_dict['goodformeal'].map(lambda x: eval(x) if type(x)==str else x)\n",
    "my_dict['goodformeal'].dropna(inplace=True)"
   ]
  },
  {
   "cell_type": "code",
   "execution_count": 72,
   "metadata": {},
   "outputs": [],
   "source": [
    "# Apply DictVectorizer to extract features and put them into a Pandas dataframe\n",
    "dvec_meal = DictVectorizer()\n",
    "dmat_meal = dmat_meal = dvec_meal.fit_transform(my_dict['goodformeal'].fillna(method='bfill'))\n",
    "df_meal = pd.DataFrame(dmat_meal.toarray(), columns=dvec_meal.get_feature_names(), index=my_dict['goodformeal'].index)\n",
    "\n"
   ]
  },
  {
   "cell_type": "code",
   "execution_count": 73,
   "metadata": {
    "ExecuteTime": {
     "end_time": "2019-09-22T15:51:42.283544Z",
     "start_time": "2019-09-22T15:51:42.280402Z"
    }
   },
   "outputs": [],
   "source": [
    "# Change column names for modelling and analysis\n",
    "df_meal.columns = [\n",
    "                        'meal_Breakfast',\n",
    "                        'meal_Brunch',\n",
    "                        'meal_Dessert',\n",
    "                        'meal_Dinner',\n",
    "                        'meal_Latenight',\n",
    "                        'meal_Lunch'\n",
    "                      ]"
   ]
  },
  {
   "cell_type": "code",
   "execution_count": 74,
   "metadata": {
    "ExecuteTime": {
     "end_time": "2019-09-22T15:51:42.297345Z",
     "start_time": "2019-09-22T15:51:42.286276Z"
    }
   },
   "outputs": [
    {
     "data": {
      "text/html": [
       "<div>\n",
       "<style scoped>\n",
       "    .dataframe tbody tr th:only-of-type {\n",
       "        vertical-align: middle;\n",
       "    }\n",
       "\n",
       "    .dataframe tbody tr th {\n",
       "        vertical-align: top;\n",
       "    }\n",
       "\n",
       "    .dataframe thead th {\n",
       "        text-align: right;\n",
       "    }\n",
       "</style>\n",
       "<table border=\"1\" class=\"dataframe\">\n",
       "  <thead>\n",
       "    <tr style=\"text-align: right;\">\n",
       "      <th></th>\n",
       "      <th>meal_Breakfast</th>\n",
       "      <th>meal_Brunch</th>\n",
       "      <th>meal_Dessert</th>\n",
       "      <th>meal_Dinner</th>\n",
       "      <th>meal_Latenight</th>\n",
       "      <th>meal_Lunch</th>\n",
       "    </tr>\n",
       "  </thead>\n",
       "  <tbody>\n",
       "    <tr>\n",
       "      <th>8</th>\n",
       "      <td>0.0</td>\n",
       "      <td>0.0</td>\n",
       "      <td>0.0</td>\n",
       "      <td>0.0</td>\n",
       "      <td>0.0</td>\n",
       "      <td>0.0</td>\n",
       "    </tr>\n",
       "    <tr>\n",
       "      <th>11</th>\n",
       "      <td>0.0</td>\n",
       "      <td>0.0</td>\n",
       "      <td>0.0</td>\n",
       "      <td>0.0</td>\n",
       "      <td>0.0</td>\n",
       "      <td>0.0</td>\n",
       "    </tr>\n",
       "    <tr>\n",
       "      <th>12</th>\n",
       "      <td>0.0</td>\n",
       "      <td>0.0</td>\n",
       "      <td>0.0</td>\n",
       "      <td>0.0</td>\n",
       "      <td>0.0</td>\n",
       "      <td>0.0</td>\n",
       "    </tr>\n",
       "    <tr>\n",
       "      <th>14</th>\n",
       "      <td>0.0</td>\n",
       "      <td>0.0</td>\n",
       "      <td>0.0</td>\n",
       "      <td>0.0</td>\n",
       "      <td>0.0</td>\n",
       "      <td>1.0</td>\n",
       "    </tr>\n",
       "    <tr>\n",
       "      <th>15</th>\n",
       "      <td>NaN</td>\n",
       "      <td>NaN</td>\n",
       "      <td>1.0</td>\n",
       "      <td>1.0</td>\n",
       "      <td>NaN</td>\n",
       "      <td>NaN</td>\n",
       "    </tr>\n",
       "  </tbody>\n",
       "</table>\n",
       "</div>"
      ],
      "text/plain": [
       "    meal_Breakfast  meal_Brunch  meal_Dessert  meal_Dinner  meal_Latenight  \\\n",
       "8              0.0          0.0           0.0          0.0             0.0   \n",
       "11             0.0          0.0           0.0          0.0             0.0   \n",
       "12             0.0          0.0           0.0          0.0             0.0   \n",
       "14             0.0          0.0           0.0          0.0             0.0   \n",
       "15             NaN          NaN           1.0          1.0             NaN   \n",
       "\n",
       "    meal_Lunch  \n",
       "8          0.0  \n",
       "11         0.0  \n",
       "12         0.0  \n",
       "14         1.0  \n",
       "15         NaN  "
      ]
     },
     "execution_count": 74,
     "metadata": {},
     "output_type": "execute_result"
    }
   ],
   "source": [
    "df_meal.head()"
   ]
  },
  {
   "cell_type": "code",
   "execution_count": 75,
   "metadata": {
    "ExecuteTime": {
     "end_time": "2019-09-22T15:51:42.311476Z",
     "start_time": "2019-09-22T15:51:42.301188Z"
    }
   },
   "outputs": [
    {
     "data": {
      "text/plain": [
       "(43728, 6)"
      ]
     },
     "execution_count": 75,
     "metadata": {},
     "output_type": "execute_result"
    }
   ],
   "source": [
    "# Check the DataFrame shape\n",
    "df_meal.shape"
   ]
  },
  {
   "cell_type": "markdown",
   "metadata": {},
   "source": [
    "## Merge all dataframes created from business.json"
   ]
  },
  {
   "cell_type": "code",
   "execution_count": 77,
   "metadata": {
    "ExecuteTime": {
     "end_time": "2019-09-22T15:51:43.417521Z",
     "start_time": "2019-09-22T15:51:42.313356Z"
    }
   },
   "outputs": [
    {
     "data": {
      "text/html": [
       "<div>\n",
       "<style scoped>\n",
       "    .dataframe tbody tr th:only-of-type {\n",
       "        vertical-align: middle;\n",
       "    }\n",
       "\n",
       "    .dataframe tbody tr th {\n",
       "        vertical-align: top;\n",
       "    }\n",
       "\n",
       "    .dataframe thead th {\n",
       "        text-align: right;\n",
       "    }\n",
       "</style>\n",
       "<table border=\"1\" class=\"dataframe\">\n",
       "  <thead>\n",
       "    <tr style=\"text-align: right;\">\n",
       "      <th></th>\n",
       "      <th>business_id</th>\n",
       "      <th>name</th>\n",
       "      <th>address</th>\n",
       "      <th>city</th>\n",
       "      <th>state</th>\n",
       "      <th>postal_code</th>\n",
       "      <th>latitude</th>\n",
       "      <th>longitude</th>\n",
       "      <th>stars</th>\n",
       "      <th>review_count</th>\n",
       "      <th>...</th>\n",
       "      <th>meal_Brunch</th>\n",
       "      <th>meal_Dessert</th>\n",
       "      <th>meal_Dinner</th>\n",
       "      <th>meal_Latenight</th>\n",
       "      <th>meal_Lunch</th>\n",
       "      <th>parking_Garage</th>\n",
       "      <th>parking_Lot</th>\n",
       "      <th>parking_Street</th>\n",
       "      <th>parking_Valet</th>\n",
       "      <th>parking_Validated</th>\n",
       "    </tr>\n",
       "  </thead>\n",
       "  <tbody>\n",
       "    <tr>\n",
       "      <th>0</th>\n",
       "      <td>Pns2l4eNsfO8kk83dixA6A</td>\n",
       "      <td>Abby Rappoport, LAC, CMQ</td>\n",
       "      <td>1616 Chapala St, Ste 2</td>\n",
       "      <td>Santa Barbara</td>\n",
       "      <td>CA</td>\n",
       "      <td>93101</td>\n",
       "      <td>34.426679</td>\n",
       "      <td>-119.711197</td>\n",
       "      <td>5.0</td>\n",
       "      <td>7</td>\n",
       "      <td>...</td>\n",
       "      <td>NaN</td>\n",
       "      <td>NaN</td>\n",
       "      <td>NaN</td>\n",
       "      <td>NaN</td>\n",
       "      <td>NaN</td>\n",
       "      <td>NaN</td>\n",
       "      <td>NaN</td>\n",
       "      <td>NaN</td>\n",
       "      <td>NaN</td>\n",
       "      <td>NaN</td>\n",
       "    </tr>\n",
       "    <tr>\n",
       "      <th>1</th>\n",
       "      <td>mpf3x-BjTdTEA3yCZrAYPw</td>\n",
       "      <td>The UPS Store</td>\n",
       "      <td>87 Grasso Plaza Shopping Center</td>\n",
       "      <td>Affton</td>\n",
       "      <td>MO</td>\n",
       "      <td>63123</td>\n",
       "      <td>38.551126</td>\n",
       "      <td>-90.335695</td>\n",
       "      <td>3.0</td>\n",
       "      <td>15</td>\n",
       "      <td>...</td>\n",
       "      <td>NaN</td>\n",
       "      <td>NaN</td>\n",
       "      <td>NaN</td>\n",
       "      <td>NaN</td>\n",
       "      <td>NaN</td>\n",
       "      <td>NaN</td>\n",
       "      <td>NaN</td>\n",
       "      <td>NaN</td>\n",
       "      <td>NaN</td>\n",
       "      <td>NaN</td>\n",
       "    </tr>\n",
       "  </tbody>\n",
       "</table>\n",
       "<p>2 rows × 131 columns</p>\n",
       "</div>"
      ],
      "text/plain": [
       "              business_id                      name  \\\n",
       "0  Pns2l4eNsfO8kk83dixA6A  Abby Rappoport, LAC, CMQ   \n",
       "1  mpf3x-BjTdTEA3yCZrAYPw             The UPS Store   \n",
       "\n",
       "                           address           city state postal_code  \\\n",
       "0           1616 Chapala St, Ste 2  Santa Barbara    CA       93101   \n",
       "1  87 Grasso Plaza Shopping Center         Affton    MO       63123   \n",
       "\n",
       "    latitude   longitude  stars  review_count  ...  meal_Brunch meal_Dessert  \\\n",
       "0  34.426679 -119.711197    5.0             7  ...          NaN          NaN   \n",
       "1  38.551126  -90.335695    3.0            15  ...          NaN          NaN   \n",
       "\n",
       "  meal_Dinner  meal_Latenight  meal_Lunch  parking_Garage  parking_Lot  \\\n",
       "0         NaN             NaN         NaN             NaN          NaN   \n",
       "1         NaN             NaN         NaN             NaN          NaN   \n",
       "\n",
       "   parking_Street  parking_Valet  parking_Validated  \n",
       "0             NaN            NaN                NaN  \n",
       "1             NaN            NaN                NaN  \n",
       "\n",
       "[2 rows x 131 columns]"
      ]
     },
     "execution_count": 77,
     "metadata": {},
     "output_type": "execute_result"
    }
   ],
   "source": [
    "businessdf = pd.concat([business_df, df_attributes, df_ambience, df_meal, df_parking], axis=1)\n",
    "\n",
    "# Drop the original column\n",
    "businessdf.drop(columns='attributes', inplace=True) \n",
    "businessdf.head(2)"
   ]
  },
  {
   "cell_type": "code",
   "execution_count": 78,
   "metadata": {
    "ExecuteTime": {
     "end_time": "2019-09-22T15:51:43.877428Z",
     "start_time": "2019-09-22T15:51:43.421342Z"
    }
   },
   "outputs": [],
   "source": [
    "# Replace NaN values in the dataframe\n",
    "businessdf = businessdf.fillna(0)"
   ]
  },
  {
   "cell_type": "markdown",
   "metadata": {},
   "source": [
    "## Clean up the column names before I save the dataframe"
   ]
  },
  {
   "cell_type": "markdown",
   "metadata": {},
   "source": [
    "The business.json file did not have clear dictionary keys, thus We decided to rename the column keys for future use."
   ]
  },
  {
   "cell_type": "code",
   "execution_count": 79,
   "metadata": {
    "ExecuteTime": {
     "end_time": "2019-09-22T15:51:43.887347Z",
     "start_time": "2019-09-22T15:51:43.879225Z"
    },
    "scrolled": true
   },
   "outputs": [],
   "source": [
    "# Rename columns since these include {}, =, ' in the name (e.g. NoiseLevel='average')\n",
    "businessdf.columns = businessdf.columns.str.replace(\"{\", \"\")\n",
    "businessdf.columns = businessdf.columns.str.replace(\"}\", \"\")\n",
    "businessdf.columns = businessdf.columns.str.replace(\"=\", \"_\")\n",
    "businessdf.columns = businessdf.columns.str.replace(\"'\", \"_\")\n",
    "\n",
    "# Replace none to Unknown\n",
    "businessdf.columns = businessdf.columns.str.replace('none', 'unknown')\n",
    "businessdf.columns = businessdf.columns.str.replace('byob', 'bring_your_own_bottle')\n",
    "\n",
    "# Lowercase column names\n",
    "businessdf.columns = businessdf.columns.map(lambda x: x.lower())\n",
    "\n",
    "# Remove 'restaurants' from column names\n",
    "businessdf.columns = businessdf.columns.map(lambda x: x.replace('restaurants', ''))"
   ]
  },
  {
   "cell_type": "code",
   "execution_count": 80,
   "metadata": {
    "ExecuteTime": {
     "end_time": "2019-09-22T15:51:44.044912Z",
     "start_time": "2019-09-22T15:51:43.889199Z"
    }
   },
   "outputs": [],
   "source": [
    " # Rename column name clearly\n",
    "businessdf.rename(columns={\n",
    "     'is_open': 'business_status','name': 'business_name',\n",
    "     'review_count': 'review_count_per_business', 'stars': 'average_stars_per_business', 'state': 'US_state',\n",
    "     'alcohol__beer_and_wine_': 'alcohol_beer_and_wine', 'alcohol__full_bar_': 'alcohol_full_bar', 'alcohol__unknown_': 'alcohol_not_available',\n",
    "     'bring_your_own_bottlecorkage__no_': 'bring_your_own_bottle_corkage_no',\n",
    "     'bring_your_own_bottlecorkage__yes_corkage_': 'bring_your_own_bottle_corkage_yes_corkage',\n",
    "     'bring_your_own_bottlecorkage__yes_free_': 'bring_your_own_bottle_corkage_yes_free',\n",
    "     'bring_your_own_bottlecorkage_unknown': 'bring_your_own_bottle_corkage_unknown',\n",
    "     'hastv_false': 'hasTV_false', 'hastv_unknown': 'hasTV_unknown', 'hastv_true': 'hasTV_true',\n",
    "     'noiselevel__average_': 'noiselevel_average', 'noiselevel__loud_': 'noiselevel_loud',\n",
    "     'noiselevel__quiet_': 'noiselevel_quiet', 'noiselevel__very_loud_': 'noiselevel_very_loud',    \n",
    "     'attire__casual_': 'dresscode_casual', 'attire__dressy_': 'dresscode_dressy',\n",
    "     'attire__formal_': 'dresscode_formal', 'attire_unknown': 'dresscode_unknown',\n",
    "     'pricerange2_1': 'spricerange_1',\n",
    "     'pricerange2_2': 'pricerange_2', 'pricerange2_3': 'pricerange_3',\n",
    "     'pricerange2_4': 'pricerange_4', 'pricerange2_unknown': 'pricerange_unknown',\n",
    "     'smoking__no_': 'smoking_no', 'smoking__outdoor_': 'smoking_outdoor', 'smoking__yes_': 'smoking_yes',\n",
    "     'wifi__free_': 'wifi_free', 'Wifi__no_': 'wifi_no',\n",
    "     'wifi__paid_': 'wifi_paid'}, inplace=True)"
   ]
  },
  {
   "cell_type": "code",
   "execution_count": 81,
   "metadata": {
    "ExecuteTime": {
     "end_time": "2019-09-22T15:51:44.067431Z",
     "start_time": "2019-09-22T15:51:44.046517Z"
    }
   },
   "outputs": [
    {
     "data": {
      "text/html": [
       "<div>\n",
       "<style scoped>\n",
       "    .dataframe tbody tr th:only-of-type {\n",
       "        vertical-align: middle;\n",
       "    }\n",
       "\n",
       "    .dataframe tbody tr th {\n",
       "        vertical-align: top;\n",
       "    }\n",
       "\n",
       "    .dataframe thead th {\n",
       "        text-align: right;\n",
       "    }\n",
       "</style>\n",
       "<table border=\"1\" class=\"dataframe\">\n",
       "  <thead>\n",
       "    <tr style=\"text-align: right;\">\n",
       "      <th></th>\n",
       "      <th>business_id</th>\n",
       "      <th>business_name</th>\n",
       "      <th>address</th>\n",
       "      <th>city</th>\n",
       "      <th>US_state</th>\n",
       "      <th>postal_code</th>\n",
       "      <th>latitude</th>\n",
       "      <th>longitude</th>\n",
       "      <th>average_stars_per_business</th>\n",
       "      <th>review_count_per_business</th>\n",
       "      <th>...</th>\n",
       "      <th>meal_brunch</th>\n",
       "      <th>meal_dessert</th>\n",
       "      <th>meal_dinner</th>\n",
       "      <th>meal_latenight</th>\n",
       "      <th>meal_lunch</th>\n",
       "      <th>parking_garage</th>\n",
       "      <th>parking_lot</th>\n",
       "      <th>parking_street</th>\n",
       "      <th>parking_valet</th>\n",
       "      <th>parking_validated</th>\n",
       "    </tr>\n",
       "  </thead>\n",
       "  <tbody>\n",
       "    <tr>\n",
       "      <th>0</th>\n",
       "      <td>Pns2l4eNsfO8kk83dixA6A</td>\n",
       "      <td>Abby Rappoport, LAC, CMQ</td>\n",
       "      <td>1616 Chapala St, Ste 2</td>\n",
       "      <td>Santa Barbara</td>\n",
       "      <td>CA</td>\n",
       "      <td>93101</td>\n",
       "      <td>34.426679</td>\n",
       "      <td>-119.711197</td>\n",
       "      <td>5.0</td>\n",
       "      <td>7</td>\n",
       "      <td>...</td>\n",
       "      <td>0.0</td>\n",
       "      <td>0.0</td>\n",
       "      <td>0.0</td>\n",
       "      <td>0.0</td>\n",
       "      <td>0.0</td>\n",
       "      <td>0.0</td>\n",
       "      <td>0.0</td>\n",
       "      <td>0.0</td>\n",
       "      <td>0.0</td>\n",
       "      <td>0.0</td>\n",
       "    </tr>\n",
       "    <tr>\n",
       "      <th>1</th>\n",
       "      <td>mpf3x-BjTdTEA3yCZrAYPw</td>\n",
       "      <td>The UPS Store</td>\n",
       "      <td>87 Grasso Plaza Shopping Center</td>\n",
       "      <td>Affton</td>\n",
       "      <td>MO</td>\n",
       "      <td>63123</td>\n",
       "      <td>38.551126</td>\n",
       "      <td>-90.335695</td>\n",
       "      <td>3.0</td>\n",
       "      <td>15</td>\n",
       "      <td>...</td>\n",
       "      <td>0.0</td>\n",
       "      <td>0.0</td>\n",
       "      <td>0.0</td>\n",
       "      <td>0.0</td>\n",
       "      <td>0.0</td>\n",
       "      <td>0.0</td>\n",
       "      <td>0.0</td>\n",
       "      <td>0.0</td>\n",
       "      <td>0.0</td>\n",
       "      <td>0.0</td>\n",
       "    </tr>\n",
       "    <tr>\n",
       "      <th>2</th>\n",
       "      <td>tUFrWirKiKi_TAnsVWINQQ</td>\n",
       "      <td>Target</td>\n",
       "      <td>5255 E Broadway Blvd</td>\n",
       "      <td>Tucson</td>\n",
       "      <td>AZ</td>\n",
       "      <td>85711</td>\n",
       "      <td>32.223236</td>\n",
       "      <td>-110.880452</td>\n",
       "      <td>3.5</td>\n",
       "      <td>22</td>\n",
       "      <td>...</td>\n",
       "      <td>0.0</td>\n",
       "      <td>0.0</td>\n",
       "      <td>0.0</td>\n",
       "      <td>0.0</td>\n",
       "      <td>0.0</td>\n",
       "      <td>0.0</td>\n",
       "      <td>0.0</td>\n",
       "      <td>0.0</td>\n",
       "      <td>0.0</td>\n",
       "      <td>0.0</td>\n",
       "    </tr>\n",
       "    <tr>\n",
       "      <th>3</th>\n",
       "      <td>MTSW4McQd7CbVtyjqoe9mw</td>\n",
       "      <td>St Honore Pastries</td>\n",
       "      <td>935 Race St</td>\n",
       "      <td>Philadelphia</td>\n",
       "      <td>PA</td>\n",
       "      <td>19107</td>\n",
       "      <td>39.955505</td>\n",
       "      <td>-75.155564</td>\n",
       "      <td>4.0</td>\n",
       "      <td>80</td>\n",
       "      <td>...</td>\n",
       "      <td>0.0</td>\n",
       "      <td>0.0</td>\n",
       "      <td>0.0</td>\n",
       "      <td>0.0</td>\n",
       "      <td>0.0</td>\n",
       "      <td>0.0</td>\n",
       "      <td>0.0</td>\n",
       "      <td>0.0</td>\n",
       "      <td>0.0</td>\n",
       "      <td>0.0</td>\n",
       "    </tr>\n",
       "    <tr>\n",
       "      <th>4</th>\n",
       "      <td>mWMc6_wTdE0EUBKIGXDVfA</td>\n",
       "      <td>Perkiomen Valley Brewery</td>\n",
       "      <td>101 Walnut St</td>\n",
       "      <td>Green Lane</td>\n",
       "      <td>PA</td>\n",
       "      <td>18054</td>\n",
       "      <td>40.338183</td>\n",
       "      <td>-75.471659</td>\n",
       "      <td>4.5</td>\n",
       "      <td>13</td>\n",
       "      <td>...</td>\n",
       "      <td>0.0</td>\n",
       "      <td>0.0</td>\n",
       "      <td>0.0</td>\n",
       "      <td>0.0</td>\n",
       "      <td>0.0</td>\n",
       "      <td>0.0</td>\n",
       "      <td>0.0</td>\n",
       "      <td>0.0</td>\n",
       "      <td>0.0</td>\n",
       "      <td>0.0</td>\n",
       "    </tr>\n",
       "  </tbody>\n",
       "</table>\n",
       "<p>5 rows × 131 columns</p>\n",
       "</div>"
      ],
      "text/plain": [
       "              business_id             business_name  \\\n",
       "0  Pns2l4eNsfO8kk83dixA6A  Abby Rappoport, LAC, CMQ   \n",
       "1  mpf3x-BjTdTEA3yCZrAYPw             The UPS Store   \n",
       "2  tUFrWirKiKi_TAnsVWINQQ                    Target   \n",
       "3  MTSW4McQd7CbVtyjqoe9mw        St Honore Pastries   \n",
       "4  mWMc6_wTdE0EUBKIGXDVfA  Perkiomen Valley Brewery   \n",
       "\n",
       "                           address           city US_state postal_code  \\\n",
       "0           1616 Chapala St, Ste 2  Santa Barbara       CA       93101   \n",
       "1  87 Grasso Plaza Shopping Center         Affton       MO       63123   \n",
       "2             5255 E Broadway Blvd         Tucson       AZ       85711   \n",
       "3                      935 Race St   Philadelphia       PA       19107   \n",
       "4                    101 Walnut St     Green Lane       PA       18054   \n",
       "\n",
       "    latitude   longitude  average_stars_per_business  \\\n",
       "0  34.426679 -119.711197                         5.0   \n",
       "1  38.551126  -90.335695                         3.0   \n",
       "2  32.223236 -110.880452                         3.5   \n",
       "3  39.955505  -75.155564                         4.0   \n",
       "4  40.338183  -75.471659                         4.5   \n",
       "\n",
       "   review_count_per_business  ...  meal_brunch meal_dessert meal_dinner  \\\n",
       "0                          7  ...          0.0          0.0         0.0   \n",
       "1                         15  ...          0.0          0.0         0.0   \n",
       "2                         22  ...          0.0          0.0         0.0   \n",
       "3                         80  ...          0.0          0.0         0.0   \n",
       "4                         13  ...          0.0          0.0         0.0   \n",
       "\n",
       "   meal_latenight  meal_lunch  parking_garage  parking_lot  parking_street  \\\n",
       "0             0.0         0.0             0.0          0.0             0.0   \n",
       "1             0.0         0.0             0.0          0.0             0.0   \n",
       "2             0.0         0.0             0.0          0.0             0.0   \n",
       "3             0.0         0.0             0.0          0.0             0.0   \n",
       "4             0.0         0.0             0.0          0.0             0.0   \n",
       "\n",
       "   parking_valet  parking_validated  \n",
       "0            0.0                0.0  \n",
       "1            0.0                0.0  \n",
       "2            0.0                0.0  \n",
       "3            0.0                0.0  \n",
       "4            0.0                0.0  \n",
       "\n",
       "[5 rows x 131 columns]"
      ]
     },
     "execution_count": 81,
     "metadata": {},
     "output_type": "execute_result"
    }
   ],
   "source": [
    "# Check how the DataFrame looks like\n",
    "businessdf.head()"
   ]
  },
  {
   "cell_type": "markdown",
   "metadata": {},
   "source": [
    "## Drop one column per attribute group "
   ]
  },
  {
   "cell_type": "code",
   "execution_count": 82,
   "metadata": {
    "ExecuteTime": {
     "end_time": "2019-09-22T15:51:44.075219Z",
     "start_time": "2019-09-22T15:51:44.069679Z"
    }
   },
   "outputs": [
    {
     "name": "stdout",
     "output_type": "stream",
     "text": [
      "['acceptsinsurance_false', 'byob_false', 'bikeparking_false', 'businessacceptsbitcoin_false', 'businessacceptscreditcards_false', 'byappointmentonly_false', 'caters_false', 'coatcheck_false', 'corkage_false', 'dogsallowed_false', 'drivethru_false', 'goodfordancing_false', 'goodforkids_false', 'happyhour_false', 'hasTV_false', 'open24hours_false', 'outdoorseating_false', 'counterservice_false', 'delivery_false', 'goodforgroups_false', 'reservations_false', 'tableservice_false', 'takeout_false', 'wheelchairaccessible_false']\n"
     ]
    }
   ],
   "source": [
    "# List up columns to drop\n",
    "drop_col_list = []\n",
    "\n",
    "for col in businessdf.columns:\n",
    "    if 'false' in col:\n",
    "        drop_col_list.append(col)\n",
    "print(drop_col_list)"
   ]
  },
  {
   "cell_type": "code",
   "execution_count": 83,
   "metadata": {
    "ExecuteTime": {
     "end_time": "2019-09-22T15:51:44.213339Z",
     "start_time": "2019-09-22T15:51:44.076964Z"
    }
   },
   "outputs": [],
   "source": [
    "# Drop the listed columns from the DataFrame\n",
    "businessdf.drop(columns=drop_col_list, inplace=True)"
   ]
  },
  {
   "cell_type": "code",
   "execution_count": 87,
   "metadata": {
    "ExecuteTime": {
     "end_time": "2019-09-22T15:51:44.782529Z",
     "start_time": "2019-09-22T15:51:44.215694Z"
    }
   },
   "outputs": [],
   "source": [
    "# Pickle results \n",
    "businessdf.to_pickle('../data/processed/businessdf.pickle')"
   ]
  },
  {
   "cell_type": "code",
   "execution_count": 88,
   "metadata": {
    "ExecuteTime": {
     "end_time": "2019-09-22T15:52:02.717176Z",
     "start_time": "2019-09-22T15:52:02.361076Z"
    }
   },
   "outputs": [
    {
     "data": {
      "text/html": [
       "<div>\n",
       "<style scoped>\n",
       "    .dataframe tbody tr th:only-of-type {\n",
       "        vertical-align: middle;\n",
       "    }\n",
       "\n",
       "    .dataframe tbody tr th {\n",
       "        vertical-align: top;\n",
       "    }\n",
       "\n",
       "    .dataframe thead th {\n",
       "        text-align: right;\n",
       "    }\n",
       "</style>\n",
       "<table border=\"1\" class=\"dataframe\">\n",
       "  <thead>\n",
       "    <tr style=\"text-align: right;\">\n",
       "      <th></th>\n",
       "      <th>business_id</th>\n",
       "      <th>business_name</th>\n",
       "      <th>address</th>\n",
       "      <th>city</th>\n",
       "      <th>US_state</th>\n",
       "      <th>postal_code</th>\n",
       "      <th>latitude</th>\n",
       "      <th>longitude</th>\n",
       "      <th>average_stars_per_business</th>\n",
       "      <th>review_count_per_business</th>\n",
       "      <th>...</th>\n",
       "      <th>meal_brunch</th>\n",
       "      <th>meal_dessert</th>\n",
       "      <th>meal_dinner</th>\n",
       "      <th>meal_latenight</th>\n",
       "      <th>meal_lunch</th>\n",
       "      <th>parking_garage</th>\n",
       "      <th>parking_lot</th>\n",
       "      <th>parking_street</th>\n",
       "      <th>parking_valet</th>\n",
       "      <th>parking_validated</th>\n",
       "    </tr>\n",
       "  </thead>\n",
       "  <tbody>\n",
       "    <tr>\n",
       "      <th>0</th>\n",
       "      <td>Pns2l4eNsfO8kk83dixA6A</td>\n",
       "      <td>Abby Rappoport, LAC, CMQ</td>\n",
       "      <td>1616 Chapala St, Ste 2</td>\n",
       "      <td>Santa Barbara</td>\n",
       "      <td>CA</td>\n",
       "      <td>93101</td>\n",
       "      <td>34.426679</td>\n",
       "      <td>-119.711197</td>\n",
       "      <td>5.0</td>\n",
       "      <td>7</td>\n",
       "      <td>...</td>\n",
       "      <td>0.0</td>\n",
       "      <td>0.0</td>\n",
       "      <td>0.0</td>\n",
       "      <td>0.0</td>\n",
       "      <td>0.0</td>\n",
       "      <td>0.0</td>\n",
       "      <td>0.0</td>\n",
       "      <td>0.0</td>\n",
       "      <td>0.0</td>\n",
       "      <td>0.0</td>\n",
       "    </tr>\n",
       "    <tr>\n",
       "      <th>1</th>\n",
       "      <td>mpf3x-BjTdTEA3yCZrAYPw</td>\n",
       "      <td>The UPS Store</td>\n",
       "      <td>87 Grasso Plaza Shopping Center</td>\n",
       "      <td>Affton</td>\n",
       "      <td>MO</td>\n",
       "      <td>63123</td>\n",
       "      <td>38.551126</td>\n",
       "      <td>-90.335695</td>\n",
       "      <td>3.0</td>\n",
       "      <td>15</td>\n",
       "      <td>...</td>\n",
       "      <td>0.0</td>\n",
       "      <td>0.0</td>\n",
       "      <td>0.0</td>\n",
       "      <td>0.0</td>\n",
       "      <td>0.0</td>\n",
       "      <td>0.0</td>\n",
       "      <td>0.0</td>\n",
       "      <td>0.0</td>\n",
       "      <td>0.0</td>\n",
       "      <td>0.0</td>\n",
       "    </tr>\n",
       "    <tr>\n",
       "      <th>2</th>\n",
       "      <td>tUFrWirKiKi_TAnsVWINQQ</td>\n",
       "      <td>Target</td>\n",
       "      <td>5255 E Broadway Blvd</td>\n",
       "      <td>Tucson</td>\n",
       "      <td>AZ</td>\n",
       "      <td>85711</td>\n",
       "      <td>32.223236</td>\n",
       "      <td>-110.880452</td>\n",
       "      <td>3.5</td>\n",
       "      <td>22</td>\n",
       "      <td>...</td>\n",
       "      <td>0.0</td>\n",
       "      <td>0.0</td>\n",
       "      <td>0.0</td>\n",
       "      <td>0.0</td>\n",
       "      <td>0.0</td>\n",
       "      <td>0.0</td>\n",
       "      <td>0.0</td>\n",
       "      <td>0.0</td>\n",
       "      <td>0.0</td>\n",
       "      <td>0.0</td>\n",
       "    </tr>\n",
       "    <tr>\n",
       "      <th>3</th>\n",
       "      <td>MTSW4McQd7CbVtyjqoe9mw</td>\n",
       "      <td>St Honore Pastries</td>\n",
       "      <td>935 Race St</td>\n",
       "      <td>Philadelphia</td>\n",
       "      <td>PA</td>\n",
       "      <td>19107</td>\n",
       "      <td>39.955505</td>\n",
       "      <td>-75.155564</td>\n",
       "      <td>4.0</td>\n",
       "      <td>80</td>\n",
       "      <td>...</td>\n",
       "      <td>0.0</td>\n",
       "      <td>0.0</td>\n",
       "      <td>0.0</td>\n",
       "      <td>0.0</td>\n",
       "      <td>0.0</td>\n",
       "      <td>0.0</td>\n",
       "      <td>0.0</td>\n",
       "      <td>0.0</td>\n",
       "      <td>0.0</td>\n",
       "      <td>0.0</td>\n",
       "    </tr>\n",
       "    <tr>\n",
       "      <th>4</th>\n",
       "      <td>mWMc6_wTdE0EUBKIGXDVfA</td>\n",
       "      <td>Perkiomen Valley Brewery</td>\n",
       "      <td>101 Walnut St</td>\n",
       "      <td>Green Lane</td>\n",
       "      <td>PA</td>\n",
       "      <td>18054</td>\n",
       "      <td>40.338183</td>\n",
       "      <td>-75.471659</td>\n",
       "      <td>4.5</td>\n",
       "      <td>13</td>\n",
       "      <td>...</td>\n",
       "      <td>0.0</td>\n",
       "      <td>0.0</td>\n",
       "      <td>0.0</td>\n",
       "      <td>0.0</td>\n",
       "      <td>0.0</td>\n",
       "      <td>0.0</td>\n",
       "      <td>0.0</td>\n",
       "      <td>0.0</td>\n",
       "      <td>0.0</td>\n",
       "      <td>0.0</td>\n",
       "    </tr>\n",
       "  </tbody>\n",
       "</table>\n",
       "<p>5 rows × 107 columns</p>\n",
       "</div>"
      ],
      "text/plain": [
       "              business_id             business_name  \\\n",
       "0  Pns2l4eNsfO8kk83dixA6A  Abby Rappoport, LAC, CMQ   \n",
       "1  mpf3x-BjTdTEA3yCZrAYPw             The UPS Store   \n",
       "2  tUFrWirKiKi_TAnsVWINQQ                    Target   \n",
       "3  MTSW4McQd7CbVtyjqoe9mw        St Honore Pastries   \n",
       "4  mWMc6_wTdE0EUBKIGXDVfA  Perkiomen Valley Brewery   \n",
       "\n",
       "                           address           city US_state postal_code  \\\n",
       "0           1616 Chapala St, Ste 2  Santa Barbara       CA       93101   \n",
       "1  87 Grasso Plaza Shopping Center         Affton       MO       63123   \n",
       "2             5255 E Broadway Blvd         Tucson       AZ       85711   \n",
       "3                      935 Race St   Philadelphia       PA       19107   \n",
       "4                    101 Walnut St     Green Lane       PA       18054   \n",
       "\n",
       "    latitude   longitude  average_stars_per_business  \\\n",
       "0  34.426679 -119.711197                         5.0   \n",
       "1  38.551126  -90.335695                         3.0   \n",
       "2  32.223236 -110.880452                         3.5   \n",
       "3  39.955505  -75.155564                         4.0   \n",
       "4  40.338183  -75.471659                         4.5   \n",
       "\n",
       "   review_count_per_business  ...  meal_brunch meal_dessert meal_dinner  \\\n",
       "0                          7  ...          0.0          0.0         0.0   \n",
       "1                         15  ...          0.0          0.0         0.0   \n",
       "2                         22  ...          0.0          0.0         0.0   \n",
       "3                         80  ...          0.0          0.0         0.0   \n",
       "4                         13  ...          0.0          0.0         0.0   \n",
       "\n",
       "   meal_latenight  meal_lunch  parking_garage  parking_lot  parking_street  \\\n",
       "0             0.0         0.0             0.0          0.0             0.0   \n",
       "1             0.0         0.0             0.0          0.0             0.0   \n",
       "2             0.0         0.0             0.0          0.0             0.0   \n",
       "3             0.0         0.0             0.0          0.0             0.0   \n",
       "4             0.0         0.0             0.0          0.0             0.0   \n",
       "\n",
       "   parking_valet  parking_validated  \n",
       "0            0.0                0.0  \n",
       "1            0.0                0.0  \n",
       "2            0.0                0.0  \n",
       "3            0.0                0.0  \n",
       "4            0.0                0.0  \n",
       "\n",
       "[5 rows x 107 columns]"
      ]
     },
     "execution_count": 88,
     "metadata": {},
     "output_type": "execute_result"
    }
   ],
   "source": [
    "# Check if I successfully pickled the data\n",
    "pickled_businessdf = pd.read_pickle('../data/processed/businessdf.pickle')\n",
    "pickled_businessdf.head()"
   ]
  },
  {
   "cell_type": "markdown",
   "metadata": {},
   "source": [
    "# Check the review file looks like"
   ]
  },
  {
   "cell_type": "code",
   "execution_count": 92,
   "metadata": {
    "ExecuteTime": {
     "end_time": "2019-09-22T11:19:26.248410Z",
     "start_time": "2019-09-22T11:19:26.242387Z"
    }
   },
   "outputs": [],
   "source": [
    "data_file = open('../data/raw/yelp_academic_dataset_review.json',encoding='utf8')\n",
    "data=[]\n",
    "for line in data_file:\n",
    "    data.append(json.loads(line))\n",
    "review_df = pd.DataFrame(data)\n",
    "data_file.close()"
   ]
  },
  {
   "cell_type": "code",
   "execution_count": 93,
   "metadata": {
    "ExecuteTime": {
     "end_time": "2019-09-22T11:19:26.612771Z",
     "start_time": "2019-09-22T11:19:26.599950Z"
    }
   },
   "outputs": [],
   "source": [
    "review_df.to_csv('../data/processed/review_df.csv', index=False)"
   ]
  },
  {
   "cell_type": "code",
   "execution_count": 95,
   "metadata": {
    "ExecuteTime": {
     "end_time": "2019-09-22T11:23:12.271176Z",
     "start_time": "2019-09-22T11:22:02.991602Z"
    }
   },
   "outputs": [],
   "source": [
    "# Pickle results \n",
    "review_df.to_pickle('../data/processed/reviewdf.pickle')"
   ]
  },
  {
   "cell_type": "code",
   "execution_count": 97,
   "metadata": {
    "ExecuteTime": {
     "end_time": "2019-09-22T11:23:35.148852Z",
     "start_time": "2019-09-22T11:23:12.290631Z"
    }
   },
   "outputs": [
    {
     "data": {
      "text/html": [
       "<div>\n",
       "<style scoped>\n",
       "    .dataframe tbody tr th:only-of-type {\n",
       "        vertical-align: middle;\n",
       "    }\n",
       "\n",
       "    .dataframe tbody tr th {\n",
       "        vertical-align: top;\n",
       "    }\n",
       "\n",
       "    .dataframe thead th {\n",
       "        text-align: right;\n",
       "    }\n",
       "</style>\n",
       "<table border=\"1\" class=\"dataframe\">\n",
       "  <thead>\n",
       "    <tr style=\"text-align: right;\">\n",
       "      <th></th>\n",
       "      <th>review_id</th>\n",
       "      <th>user_id</th>\n",
       "      <th>business_id</th>\n",
       "      <th>stars</th>\n",
       "      <th>useful</th>\n",
       "      <th>funny</th>\n",
       "      <th>cool</th>\n",
       "      <th>text</th>\n",
       "      <th>date</th>\n",
       "    </tr>\n",
       "  </thead>\n",
       "  <tbody>\n",
       "    <tr>\n",
       "      <th>0</th>\n",
       "      <td>KU_O5udG6zpxOg-VcAEodg</td>\n",
       "      <td>mh_-eMZ6K5RLWhZyISBhwA</td>\n",
       "      <td>XQfwVwDr-v0ZS3_CbbE5Xw</td>\n",
       "      <td>3.0</td>\n",
       "      <td>0</td>\n",
       "      <td>0</td>\n",
       "      <td>0</td>\n",
       "      <td>If you decide to eat here, just be aware it is...</td>\n",
       "      <td>2018-07-07 22:09:11</td>\n",
       "    </tr>\n",
       "    <tr>\n",
       "      <th>1</th>\n",
       "      <td>BiTunyQ73aT9WBnpR9DZGw</td>\n",
       "      <td>OyoGAe7OKpv6SyGZT5g77Q</td>\n",
       "      <td>7ATYjTIgM3jUlt4UM3IypQ</td>\n",
       "      <td>5.0</td>\n",
       "      <td>1</td>\n",
       "      <td>0</td>\n",
       "      <td>1</td>\n",
       "      <td>I've taken a lot of spin classes over the year...</td>\n",
       "      <td>2012-01-03 15:28:18</td>\n",
       "    </tr>\n",
       "    <tr>\n",
       "      <th>2</th>\n",
       "      <td>saUsX_uimxRlCVr67Z4Jig</td>\n",
       "      <td>8g_iMtfSiwikVnbP2etR0A</td>\n",
       "      <td>YjUWPpI6HXG530lwP-fb2A</td>\n",
       "      <td>3.0</td>\n",
       "      <td>0</td>\n",
       "      <td>0</td>\n",
       "      <td>0</td>\n",
       "      <td>Family diner. Had the buffet. Eclectic assortm...</td>\n",
       "      <td>2014-02-05 20:30:30</td>\n",
       "    </tr>\n",
       "    <tr>\n",
       "      <th>3</th>\n",
       "      <td>AqPFMleE6RsU23_auESxiA</td>\n",
       "      <td>_7bHUi9Uuf5__HHc_Q8guQ</td>\n",
       "      <td>kxX2SOes4o-D3ZQBkiMRfA</td>\n",
       "      <td>5.0</td>\n",
       "      <td>1</td>\n",
       "      <td>0</td>\n",
       "      <td>1</td>\n",
       "      <td>Wow!  Yummy, different,  delicious.   Our favo...</td>\n",
       "      <td>2015-01-04 00:01:03</td>\n",
       "    </tr>\n",
       "    <tr>\n",
       "      <th>4</th>\n",
       "      <td>Sx8TMOWLNuJBWer-0pcmoA</td>\n",
       "      <td>bcjbaE6dDog4jkNY91ncLQ</td>\n",
       "      <td>e4Vwtrqf-wpJfwesgvdgxQ</td>\n",
       "      <td>4.0</td>\n",
       "      <td>1</td>\n",
       "      <td>0</td>\n",
       "      <td>1</td>\n",
       "      <td>Cute interior and owner (?) gave us tour of up...</td>\n",
       "      <td>2017-01-14 20:54:15</td>\n",
       "    </tr>\n",
       "  </tbody>\n",
       "</table>\n",
       "</div>"
      ],
      "text/plain": [
       "                review_id                 user_id             business_id  \\\n",
       "0  KU_O5udG6zpxOg-VcAEodg  mh_-eMZ6K5RLWhZyISBhwA  XQfwVwDr-v0ZS3_CbbE5Xw   \n",
       "1  BiTunyQ73aT9WBnpR9DZGw  OyoGAe7OKpv6SyGZT5g77Q  7ATYjTIgM3jUlt4UM3IypQ   \n",
       "2  saUsX_uimxRlCVr67Z4Jig  8g_iMtfSiwikVnbP2etR0A  YjUWPpI6HXG530lwP-fb2A   \n",
       "3  AqPFMleE6RsU23_auESxiA  _7bHUi9Uuf5__HHc_Q8guQ  kxX2SOes4o-D3ZQBkiMRfA   \n",
       "4  Sx8TMOWLNuJBWer-0pcmoA  bcjbaE6dDog4jkNY91ncLQ  e4Vwtrqf-wpJfwesgvdgxQ   \n",
       "\n",
       "   stars  useful  funny  cool  \\\n",
       "0    3.0       0      0     0   \n",
       "1    5.0       1      0     1   \n",
       "2    3.0       0      0     0   \n",
       "3    5.0       1      0     1   \n",
       "4    4.0       1      0     1   \n",
       "\n",
       "                                                text                 date  \n",
       "0  If you decide to eat here, just be aware it is...  2018-07-07 22:09:11  \n",
       "1  I've taken a lot of spin classes over the year...  2012-01-03 15:28:18  \n",
       "2  Family diner. Had the buffet. Eclectic assortm...  2014-02-05 20:30:30  \n",
       "3  Wow!  Yummy, different,  delicious.   Our favo...  2015-01-04 00:01:03  \n",
       "4  Cute interior and owner (?) gave us tour of up...  2017-01-14 20:54:15  "
      ]
     },
     "execution_count": 97,
     "metadata": {},
     "output_type": "execute_result"
    }
   ],
   "source": [
    "# Check if I successfully pickled the data\n",
    "pickled_reviewdf = pd.read_pickle('../data/processed/reviewdf.pickle')\n",
    "pickled_reviewdf.head()"
   ]
  },
  {
   "cell_type": "markdown",
   "metadata": {
    "ExecuteTime": {
     "end_time": "2019-08-22T18:21:46.346653Z",
     "start_time": "2019-08-22T18:21:46.339813Z"
    }
   },
   "source": [
    "# Check the user file looks like"
   ]
  },
  {
   "cell_type": "code",
   "execution_count": 150,
   "metadata": {
    "ExecuteTime": {
     "end_time": "2019-08-29T16:51:19.725117Z",
     "start_time": "2019-08-29T16:50:10.367643Z"
    }
   },
   "outputs": [],
   "source": [
    "data_file = open('../data/raw/yelp_academic_dataset_user.json',encoding='utf8')\n",
    "data=[]\n",
    "for line in data_file:\n",
    "    data.append(json.loads(line))\n",
    "user_df = pd.DataFrame(data)\n",
    "data_file.close()"
   ]
  },
  {
   "cell_type": "code",
   "execution_count": 151,
   "metadata": {
    "ExecuteTime": {
     "end_time": "2019-09-22T11:25:10.843613Z",
     "start_time": "2019-09-22T11:25:02.534738Z"
    }
   },
   "outputs": [],
   "source": [
    "# Pickle results \n",
    "user_df.to_pickle('../data/processed/userdf.pickle')"
   ]
  },
  {
   "cell_type": "code",
   "execution_count": 162,
   "metadata": {
    "ExecuteTime": {
     "end_time": "2019-09-22T11:25:42.547305Z",
     "start_time": "2019-09-22T11:25:34.497752Z"
    },
    "scrolled": false
   },
   "outputs": [
    {
     "data": {
      "text/html": [
       "<div>\n",
       "<style scoped>\n",
       "    .dataframe tbody tr th:only-of-type {\n",
       "        vertical-align: middle;\n",
       "    }\n",
       "\n",
       "    .dataframe tbody tr th {\n",
       "        vertical-align: top;\n",
       "    }\n",
       "\n",
       "    .dataframe thead th {\n",
       "        text-align: right;\n",
       "    }\n",
       "</style>\n",
       "<table border=\"1\" class=\"dataframe\">\n",
       "  <thead>\n",
       "    <tr style=\"text-align: right;\">\n",
       "      <th></th>\n",
       "      <th>average_stars</th>\n",
       "      <th>compliment_cool</th>\n",
       "      <th>compliment_cute</th>\n",
       "      <th>compliment_funny</th>\n",
       "      <th>compliment_hot</th>\n",
       "      <th>compliment_list</th>\n",
       "      <th>compliment_more</th>\n",
       "      <th>compliment_note</th>\n",
       "      <th>compliment_photos</th>\n",
       "      <th>compliment_plain</th>\n",
       "      <th>...</th>\n",
       "      <th>cool</th>\n",
       "      <th>elite</th>\n",
       "      <th>fans</th>\n",
       "      <th>friends</th>\n",
       "      <th>funny</th>\n",
       "      <th>name</th>\n",
       "      <th>review_count</th>\n",
       "      <th>useful</th>\n",
       "      <th>user_id</th>\n",
       "      <th>yelping_since</th>\n",
       "    </tr>\n",
       "  </thead>\n",
       "  <tbody>\n",
       "    <tr>\n",
       "      <th>0</th>\n",
       "      <td>4.03</td>\n",
       "      <td>1</td>\n",
       "      <td>0</td>\n",
       "      <td>1</td>\n",
       "      <td>2</td>\n",
       "      <td>0</td>\n",
       "      <td>0</td>\n",
       "      <td>1</td>\n",
       "      <td>0</td>\n",
       "      <td>1</td>\n",
       "      <td>...</td>\n",
       "      <td>25</td>\n",
       "      <td>2015,2016,2017</td>\n",
       "      <td>5</td>\n",
       "      <td>c78V-rj8NQcQjOI8KP3UEA, alRMgPcngYSCJ5naFRBz5g...</td>\n",
       "      <td>17</td>\n",
       "      <td>Rashmi</td>\n",
       "      <td>95</td>\n",
       "      <td>84</td>\n",
       "      <td>l6BmjZMeQD3rDxWUbiAiow</td>\n",
       "      <td>2013-10-08 23:11:33</td>\n",
       "    </tr>\n",
       "    <tr>\n",
       "      <th>1</th>\n",
       "      <td>3.63</td>\n",
       "      <td>1</td>\n",
       "      <td>0</td>\n",
       "      <td>1</td>\n",
       "      <td>1</td>\n",
       "      <td>0</td>\n",
       "      <td>0</td>\n",
       "      <td>0</td>\n",
       "      <td>0</td>\n",
       "      <td>0</td>\n",
       "      <td>...</td>\n",
       "      <td>16</td>\n",
       "      <td>NaN</td>\n",
       "      <td>4</td>\n",
       "      <td>kEBTgDvFX754S68FllfCaA, aB2DynOxNOJK9st2ZeGTPg...</td>\n",
       "      <td>22</td>\n",
       "      <td>Jenna</td>\n",
       "      <td>33</td>\n",
       "      <td>48</td>\n",
       "      <td>4XChL029mKr5hydo79Ljxg</td>\n",
       "      <td>2013-02-21 22:29:06</td>\n",
       "    </tr>\n",
       "    <tr>\n",
       "      <th>2</th>\n",
       "      <td>3.71</td>\n",
       "      <td>0</td>\n",
       "      <td>0</td>\n",
       "      <td>0</td>\n",
       "      <td>0</td>\n",
       "      <td>0</td>\n",
       "      <td>0</td>\n",
       "      <td>1</td>\n",
       "      <td>0</td>\n",
       "      <td>0</td>\n",
       "      <td>...</td>\n",
       "      <td>10</td>\n",
       "      <td>NaN</td>\n",
       "      <td>0</td>\n",
       "      <td>4N-HU_T32hLENLntsNKNBg, pSY2vwWLgWfGVAAiKQzMng...</td>\n",
       "      <td>8</td>\n",
       "      <td>David</td>\n",
       "      <td>16</td>\n",
       "      <td>28</td>\n",
       "      <td>bc8C_eETBWL0olvFSJJd0w</td>\n",
       "      <td>2013-10-04 00:16:10</td>\n",
       "    </tr>\n",
       "    <tr>\n",
       "      <th>3</th>\n",
       "      <td>4.85</td>\n",
       "      <td>0</td>\n",
       "      <td>0</td>\n",
       "      <td>0</td>\n",
       "      <td>1</td>\n",
       "      <td>0</td>\n",
       "      <td>0</td>\n",
       "      <td>0</td>\n",
       "      <td>0</td>\n",
       "      <td>2</td>\n",
       "      <td>...</td>\n",
       "      <td>14</td>\n",
       "      <td>NaN</td>\n",
       "      <td>5</td>\n",
       "      <td>RZ6wS38wnlXyj-OOdTzBxA, l5jxZh1KsgI8rMunm-GN6A...</td>\n",
       "      <td>4</td>\n",
       "      <td>Angela</td>\n",
       "      <td>17</td>\n",
       "      <td>30</td>\n",
       "      <td>dD0gZpBctWGdWo9WlGuhlA</td>\n",
       "      <td>2014-05-22 15:57:30</td>\n",
       "    </tr>\n",
       "    <tr>\n",
       "      <th>4</th>\n",
       "      <td>4.08</td>\n",
       "      <td>80</td>\n",
       "      <td>0</td>\n",
       "      <td>80</td>\n",
       "      <td>28</td>\n",
       "      <td>1</td>\n",
       "      <td>1</td>\n",
       "      <td>16</td>\n",
       "      <td>5</td>\n",
       "      <td>57</td>\n",
       "      <td>...</td>\n",
       "      <td>665</td>\n",
       "      <td>2015,2016,2017,2018</td>\n",
       "      <td>39</td>\n",
       "      <td>mbwrZ-RS76V1HoJ0bF_Geg, g64lOV39xSLRZO0aQQ6DeQ...</td>\n",
       "      <td>279</td>\n",
       "      <td>Nancy</td>\n",
       "      <td>361</td>\n",
       "      <td>1114</td>\n",
       "      <td>MM4RJAeH6yuaN8oZDSt0RA</td>\n",
       "      <td>2013-10-23 07:02:50</td>\n",
       "    </tr>\n",
       "  </tbody>\n",
       "</table>\n",
       "<p>5 rows × 22 columns</p>\n",
       "</div>"
      ],
      "text/plain": [
       "   average_stars  compliment_cool  compliment_cute  compliment_funny  \\\n",
       "0           4.03                1                0                 1   \n",
       "1           3.63                1                0                 1   \n",
       "2           3.71                0                0                 0   \n",
       "3           4.85                0                0                 0   \n",
       "4           4.08               80                0                80   \n",
       "\n",
       "   compliment_hot  compliment_list  compliment_more  compliment_note  \\\n",
       "0               2                0                0                1   \n",
       "1               1                0                0                0   \n",
       "2               0                0                0                1   \n",
       "3               1                0                0                0   \n",
       "4              28                1                1               16   \n",
       "\n",
       "   compliment_photos  compliment_plain  ...  cool                elite  fans  \\\n",
       "0                  0                 1  ...    25       2015,2016,2017     5   \n",
       "1                  0                 0  ...    16                  NaN     4   \n",
       "2                  0                 0  ...    10                  NaN     0   \n",
       "3                  0                 2  ...    14                  NaN     5   \n",
       "4                  5                57  ...   665  2015,2016,2017,2018    39   \n",
       "\n",
       "                                             friends  funny    name  \\\n",
       "0  c78V-rj8NQcQjOI8KP3UEA, alRMgPcngYSCJ5naFRBz5g...     17  Rashmi   \n",
       "1  kEBTgDvFX754S68FllfCaA, aB2DynOxNOJK9st2ZeGTPg...     22   Jenna   \n",
       "2  4N-HU_T32hLENLntsNKNBg, pSY2vwWLgWfGVAAiKQzMng...      8   David   \n",
       "3  RZ6wS38wnlXyj-OOdTzBxA, l5jxZh1KsgI8rMunm-GN6A...      4  Angela   \n",
       "4  mbwrZ-RS76V1HoJ0bF_Geg, g64lOV39xSLRZO0aQQ6DeQ...    279   Nancy   \n",
       "\n",
       "   review_count useful                 user_id        yelping_since  \n",
       "0            95     84  l6BmjZMeQD3rDxWUbiAiow  2013-10-08 23:11:33  \n",
       "1            33     48  4XChL029mKr5hydo79Ljxg  2013-02-21 22:29:06  \n",
       "2            16     28  bc8C_eETBWL0olvFSJJd0w  2013-10-04 00:16:10  \n",
       "3            17     30  dD0gZpBctWGdWo9WlGuhlA  2014-05-22 15:57:30  \n",
       "4           361   1114  MM4RJAeH6yuaN8oZDSt0RA  2013-10-23 07:02:50  \n",
       "\n",
       "[5 rows x 22 columns]"
      ]
     },
     "execution_count": 162,
     "metadata": {},
     "output_type": "execute_result"
    }
   ],
   "source": [
    "# Check if I successfully pickled the data\n",
    "pickled_userdf = pd.read_pickle('../data/processed/userdf.pickle')\n",
    "pickled_userdf.head()"
   ]
  },
  {
   "cell_type": "markdown",
   "metadata": {},
   "source": [
    "This code appears to be reading in a JSON file called 'yelp_academic_dataset_user.json' and storing it as a list of dictionaries called 'data'. It then creates a Pandas DataFrame called 'user_df' using the list of dictionaries. The code then pickles the 'user_df' DataFrame, saving it as 'userdf.pickle'. Finally, it reads in the pickled 'userdf' DataFrame and displays the first few rows using the 'head()' method.\n"
   ]
  },
  {
   "cell_type": "markdown",
   "metadata": {
    "ExecuteTime": {
     "end_time": "2019-08-22T18:22:02.349204Z",
     "start_time": "2019-08-22T18:22:02.344608Z"
    }
   },
   "source": [
    "# Check the checkin file looks like"
   ]
  },
  {
   "cell_type": "code",
   "execution_count": 141,
   "metadata": {
    "ExecuteTime": {
     "end_time": "2019-08-29T16:52:30.200911Z",
     "start_time": "2019-08-29T16:52:30.194786Z"
    }
   },
   "outputs": [],
   "source": [
    "checkinjson = '../data/raw/yelp_academic_dataset_checkin.json'"
   ]
  },
  {
   "cell_type": "code",
   "execution_count": 142,
   "metadata": {},
   "outputs": [],
   "source": [
    "\n",
    "checkinjson = pd.read_json('../data/raw/yelp_academic_dataset_checkin.json',lines=True)\n",
    "\n",
    "checkinjson.to_csv('../data/processed/checkinjson.csv', index=False)\n",
    "\n",
    "\n"
   ]
  },
  {
   "cell_type": "code",
   "execution_count": 144,
   "metadata": {},
   "outputs": [],
   "source": [
    "checkinjson.to_pickle('../data/processed/checkinjson.pickle')"
   ]
  },
  {
   "cell_type": "code",
   "execution_count": 145,
   "metadata": {
    "ExecuteTime": {
     "end_time": "2019-09-22T11:28:53.179868Z",
     "start_time": "2019-09-22T11:28:52.758916Z"
    }
   },
   "outputs": [
    {
     "data": {
      "text/html": [
       "<div>\n",
       "<style scoped>\n",
       "    .dataframe tbody tr th:only-of-type {\n",
       "        vertical-align: middle;\n",
       "    }\n",
       "\n",
       "    .dataframe tbody tr th {\n",
       "        vertical-align: top;\n",
       "    }\n",
       "\n",
       "    .dataframe thead th {\n",
       "        text-align: right;\n",
       "    }\n",
       "</style>\n",
       "<table border=\"1\" class=\"dataframe\">\n",
       "  <thead>\n",
       "    <tr style=\"text-align: right;\">\n",
       "      <th></th>\n",
       "      <th>business_id</th>\n",
       "      <th>date</th>\n",
       "    </tr>\n",
       "  </thead>\n",
       "  <tbody>\n",
       "    <tr>\n",
       "      <th>0</th>\n",
       "      <td>---kPU91CF4Lq2-WlRu9Lw</td>\n",
       "      <td>2020-03-13 21:10:56, 2020-06-02 22:18:06, 2020...</td>\n",
       "    </tr>\n",
       "    <tr>\n",
       "      <th>1</th>\n",
       "      <td>--0iUa4sNDFiZFrAdIWhZQ</td>\n",
       "      <td>2010-09-13 21:43:09, 2011-05-04 23:08:15, 2011...</td>\n",
       "    </tr>\n",
       "    <tr>\n",
       "      <th>2</th>\n",
       "      <td>--30_8IhuyMHbSOcNWd6DQ</td>\n",
       "      <td>2013-06-14 23:29:17, 2014-08-13 23:20:22</td>\n",
       "    </tr>\n",
       "    <tr>\n",
       "      <th>3</th>\n",
       "      <td>--7PUidqRWpRSpXebiyxTg</td>\n",
       "      <td>2011-02-15 17:12:00, 2011-07-28 02:46:10, 2012...</td>\n",
       "    </tr>\n",
       "    <tr>\n",
       "      <th>4</th>\n",
       "      <td>--7jw19RH9JKXgFohspgQw</td>\n",
       "      <td>2014-04-21 20:42:11, 2014-04-28 21:04:46, 2014...</td>\n",
       "    </tr>\n",
       "  </tbody>\n",
       "</table>\n",
       "</div>"
      ],
      "text/plain": [
       "              business_id                                               date\n",
       "0  ---kPU91CF4Lq2-WlRu9Lw  2020-03-13 21:10:56, 2020-06-02 22:18:06, 2020...\n",
       "1  --0iUa4sNDFiZFrAdIWhZQ  2010-09-13 21:43:09, 2011-05-04 23:08:15, 2011...\n",
       "2  --30_8IhuyMHbSOcNWd6DQ           2013-06-14 23:29:17, 2014-08-13 23:20:22\n",
       "3  --7PUidqRWpRSpXebiyxTg  2011-02-15 17:12:00, 2011-07-28 02:46:10, 2012...\n",
       "4  --7jw19RH9JKXgFohspgQw  2014-04-21 20:42:11, 2014-04-28 21:04:46, 2014..."
      ]
     },
     "execution_count": 145,
     "metadata": {},
     "output_type": "execute_result"
    }
   ],
   "source": [
    "# Check if I successfully pickled the data\n",
    "pickled_checkindf = pd.read_pickle('../data/processed/checkinjson.pickle')\n",
    "pickled_checkindf.head()"
   ]
  },
  {
   "cell_type": "markdown",
   "metadata": {},
   "source": [
    "This code appears to be reading in a JSON file called 'yelp_academic_dataset_checkin.json' and storing it as a Pandas DataFrame called 'checkinjson'. It then exports 'checkinjson' to a CSV file called 'checkinjson.csv' and pickles the 'checkinjson' DataFrame, saving it as 'checkinjson.pickle'. Finally, it reads in the pickled 'checkinjson' DataFrame and displays the first few rows using the 'head()' method.\n"
   ]
  },
  {
   "cell_type": "markdown",
   "metadata": {},
   "source": [
    "# Check the tip file looks like"
   ]
  },
  {
   "cell_type": "code",
   "execution_count": 147,
   "metadata": {
    "ExecuteTime": {
     "end_time": "2019-08-29T16:52:41.971920Z",
     "start_time": "2019-08-29T16:52:41.960277Z"
    }
   },
   "outputs": [],
   "source": [
    "tipdf = pd.read_json('../data/raw/yelp_academic_dataset_tip.json',lines=True)\n",
    "\n",
    "tipdf.to_csv('../data/processed/tipdf.csv', index=False)\n",
    "\n"
   ]
  },
  {
   "cell_type": "code",
   "execution_count": 148,
   "metadata": {
    "ExecuteTime": {
     "end_time": "2019-09-22T11:30:09.037304Z",
     "start_time": "2019-09-22T11:30:07.450990Z"
    }
   },
   "outputs": [],
   "source": [
    "# Pickle results \n",
    "tipdf.to_pickle('../data/processed/tipdf.pickle')"
   ]
  },
  {
   "cell_type": "code",
   "execution_count": 149,
   "metadata": {
    "ExecuteTime": {
     "end_time": "2019-09-22T11:30:41.347972Z",
     "start_time": "2019-09-22T11:30:39.892401Z"
    }
   },
   "outputs": [
    {
     "data": {
      "text/html": [
       "<div>\n",
       "<style scoped>\n",
       "    .dataframe tbody tr th:only-of-type {\n",
       "        vertical-align: middle;\n",
       "    }\n",
       "\n",
       "    .dataframe tbody tr th {\n",
       "        vertical-align: top;\n",
       "    }\n",
       "\n",
       "    .dataframe thead th {\n",
       "        text-align: right;\n",
       "    }\n",
       "</style>\n",
       "<table border=\"1\" class=\"dataframe\">\n",
       "  <thead>\n",
       "    <tr style=\"text-align: right;\">\n",
       "      <th></th>\n",
       "      <th>user_id</th>\n",
       "      <th>business_id</th>\n",
       "      <th>text</th>\n",
       "      <th>date</th>\n",
       "      <th>compliment_count</th>\n",
       "    </tr>\n",
       "  </thead>\n",
       "  <tbody>\n",
       "    <tr>\n",
       "      <th>0</th>\n",
       "      <td>AGNUgVwnZUey3gcPCJ76iw</td>\n",
       "      <td>3uLgwr0qeCNMjKenHJwPGQ</td>\n",
       "      <td>Avengers time with the ladies.</td>\n",
       "      <td>2012-05-18 02:17:21</td>\n",
       "      <td>0</td>\n",
       "    </tr>\n",
       "    <tr>\n",
       "      <th>1</th>\n",
       "      <td>NBN4MgHP9D3cw--SnauTkA</td>\n",
       "      <td>QoezRbYQncpRqyrLH6Iqjg</td>\n",
       "      <td>They have lots of good deserts and tasty cuban...</td>\n",
       "      <td>2013-02-05 18:35:10</td>\n",
       "      <td>0</td>\n",
       "    </tr>\n",
       "    <tr>\n",
       "      <th>2</th>\n",
       "      <td>-copOvldyKh1qr-vzkDEvw</td>\n",
       "      <td>MYoRNLb5chwjQe3c_k37Gg</td>\n",
       "      <td>It's open even when you think it isn't</td>\n",
       "      <td>2013-08-18 00:56:08</td>\n",
       "      <td>0</td>\n",
       "    </tr>\n",
       "    <tr>\n",
       "      <th>3</th>\n",
       "      <td>FjMQVZjSqY8syIO-53KFKw</td>\n",
       "      <td>hV-bABTK-glh5wj31ps_Jw</td>\n",
       "      <td>Very decent fried chicken</td>\n",
       "      <td>2017-06-27 23:05:38</td>\n",
       "      <td>0</td>\n",
       "    </tr>\n",
       "    <tr>\n",
       "      <th>4</th>\n",
       "      <td>ld0AperBXk1h6UbqmM80zw</td>\n",
       "      <td>_uN0OudeJ3Zl_tf6nxg5ww</td>\n",
       "      <td>Appetizers.. platter special for lunch</td>\n",
       "      <td>2012-10-06 19:43:09</td>\n",
       "      <td>0</td>\n",
       "    </tr>\n",
       "  </tbody>\n",
       "</table>\n",
       "</div>"
      ],
      "text/plain": [
       "                  user_id             business_id  \\\n",
       "0  AGNUgVwnZUey3gcPCJ76iw  3uLgwr0qeCNMjKenHJwPGQ   \n",
       "1  NBN4MgHP9D3cw--SnauTkA  QoezRbYQncpRqyrLH6Iqjg   \n",
       "2  -copOvldyKh1qr-vzkDEvw  MYoRNLb5chwjQe3c_k37Gg   \n",
       "3  FjMQVZjSqY8syIO-53KFKw  hV-bABTK-glh5wj31ps_Jw   \n",
       "4  ld0AperBXk1h6UbqmM80zw  _uN0OudeJ3Zl_tf6nxg5ww   \n",
       "\n",
       "                                                text                date  \\\n",
       "0                     Avengers time with the ladies. 2012-05-18 02:17:21   \n",
       "1  They have lots of good deserts and tasty cuban... 2013-02-05 18:35:10   \n",
       "2             It's open even when you think it isn't 2013-08-18 00:56:08   \n",
       "3                          Very decent fried chicken 2017-06-27 23:05:38   \n",
       "4             Appetizers.. platter special for lunch 2012-10-06 19:43:09   \n",
       "\n",
       "   compliment_count  \n",
       "0                 0  \n",
       "1                 0  \n",
       "2                 0  \n",
       "3                 0  \n",
       "4                 0  "
      ]
     },
     "execution_count": 149,
     "metadata": {},
     "output_type": "execute_result"
    }
   ],
   "source": [
    "# Check if I successfully pickled the data\n",
    "pickled_tipdf = pd.read_pickle('../data/processed/tipdf.pickle')\n",
    "pickled_tipdf.head()"
   ]
  },
  {
   "cell_type": "markdown",
   "metadata": {},
   "source": [
    "This code appears to be reading in a JSON file called 'yelp_academic_dataset_tip.json' and storing it as a Pandas DataFrame called 'tipdf'. It then exports 'tipdf' to a CSV file called 'tipdf.csv' and pickles the 'tipdf' DataFrame, saving it as 'tipdf.pickle'. Finally, it reads in the pickled 'tipdf' DataFrame and displays the first few rows using the 'head()' method."
   ]
  }
 ],
 "metadata": {
  "kernelspec": {
   "display_name": "practicas0",
   "language": "python",
   "name": "practicas0"
  },
  "language_info": {
   "codemirror_mode": {
    "name": "ipython",
    "version": 3
   },
   "file_extension": ".py",
   "mimetype": "text/x-python",
   "name": "python",
   "nbconvert_exporter": "python",
   "pygments_lexer": "ipython3",
   "version": "3.9.13"
  },
  "toc": {
   "base_numbering": 1,
   "nav_menu": {},
   "number_sections": true,
   "sideBar": true,
   "skip_h1_title": false,
   "title_cell": "Table of Contents",
   "title_sidebar": "Contents",
   "toc_cell": false,
   "toc_position": {},
   "toc_section_display": true,
   "toc_window_display": false
  }
 },
 "nbformat": 4,
 "nbformat_minor": 2
}
